{
  "nbformat": 4,
  "nbformat_minor": 0,
  "metadata": {
    "colab": {
      "name": "Desarrollo de COVID-19 en Guadalajara - Miguel Núñez",
      "provenance": [],
      "authorship_tag": "ABX9TyPwIoe+PIgWt72xqG8CwwSk",
      "include_colab_link": true
    },
    "kernelspec": {
      "name": "python3",
      "display_name": "Python 3"
    },
    "accelerator": "GPU"
  },
  "cells": [
    {
      "cell_type": "markdown",
      "metadata": {
        "id": "view-in-github",
        "colab_type": "text"
      },
      "source": [
        "<a href=\"https://colab.research.google.com/github/NunezKant/COVID-19_GDL/blob/master/Desarrollo_de_COVID_19_en_Guadalajara_Miguel_N%C3%BA%C3%B1ez.ipynb\" target=\"_parent\"><img src=\"https://colab.research.google.com/assets/colab-badge.svg\" alt=\"Open In Colab\"/></a>"
      ]
    },
    {
      "cell_type": "code",
      "metadata": {
        "id": "bxullSSlDOwB",
        "colab_type": "code",
        "colab": {}
      },
      "source": [
        "#@title Esta celda importa librerías que necesitaremos { display-mode: \"form\" }\n",
        "%matplotlib inline\n",
        "!pip install arviz\n",
        "import numpy as np\n",
        "from IPython.display import display, Markdown\n",
        "import matplotlib.pyplot as plt\n",
        "import matplotlib\n",
        "import pandas as pd\n",
        "import seaborn as sns\n",
        "import arviz as az\n",
        "import pymc3 as pm\n",
        "import altair as alt\n",
        "import plotly.express as px\n",
        "import requests\n",
        "import io\n",
        "\n",
        "sns.set_context('talk')\n",
        "plt.style.use('seaborn-whitegrid')"
      ],
      "execution_count": 0,
      "outputs": []
    },
    {
      "cell_type": "markdown",
      "metadata": {
        "id": "dvhCYYvTDqAB",
        "colab_type": "text"
      },
      "source": [
        "MIT License\n",
        "\n",
        "Copyright (c) 2020 Miguel Núñez \n",
        "\n",
        "<h1><center> Desarrollo de COVID - 19 en Jalisco </center></h1>\n",
        "\n",
        "#Contexto\n",
        "\n",
        "Hola! Me alegra que estés aquí, juntos vamos a aprender un poco sobre modelaje epidemiólogico y la situación del COVID-19 en Jalisco.\n",
        "\n",
        "Mi nombre es Miguel Angel Núñez Ochoa, soy estudiante de doctorado en Neurociencias, y de un micromaster en estadística y ciencia de datos.\n",
        "\n",
        "Formo parte de [DataLab Community](https://www.facebook.com/datalabmx) la comunidad de ciencia de datos más grande de Guadalajara, como mentor en ciencia de datos.\n",
        "\n",
        ">>>>>![DataLab](https://drive.google.com/uc?id=0B3a3JGJVqFAAdFNETHdhVktFWFk)\n",
        "\n",
        "Además de ser organizador y profesor en la escuela de verano de la Reunión Internacional de inteligencia Artificial y sus aplicacciones ([RIIAA](https://riiaa.org/)).\n",
        "\n",
        ">>>>>![RIIAA](https://drive.google.com/uc?id=1R1dJbJgCxTME5jbYBxV8p6tnbN1F1yHT)\n",
        "\n",
        "No soy experto en el área de epidemiología, pero tendrán las referencias de dónde estoy sacando los parámetros, o los modelos.\n",
        "\n",
        "La motivación para hacer esto es por la desinformación que ronda en redes sociales y el poco contenido en español, esta es una libreta interactiva, la plataforma se llama Google Colab, este tipo de libreta nos permite escribir texto como el que estás viendo, intercalado con código, al lado de las celdas verán un simbolo de play, en caso de ser una celda de código, al darle click, ejecutan el codigo dentro de esa celda.\n",
        "\n",
        "**Cualquier error u observación hagánmela saber**\n",
        "\n",
        "Primero nos centraremos en entender el modelado epidemiológico de enfermedades, visitaremos algunos conceptos claves y veremos que nos pueden decir los modelos, trataré de hacer lo más digerible posible las partes que involucren muchas matemáticas.\n",
        "\n",
        "---\n",
        "#Introducción al modelo SEIR\n",
        "\n",
        "El modelo con el cuál vamos a trabajar es conocido como **SEIR** y la implementación que hice está basada en el libro:\n",
        " * *Modeling Infectious Diseases in humans and animals (Keeling and Rohani, 2008)* \n",
        "\n",
        "Este modelo es uno de los modelos epidemiológicos más sencillos, se llama así por sus siglas,que hacen referencia a la capacidad del portador para transmitir la enfermedad:\n",
        "\n",
        "* **S**uceptible: Persona aún no expuesta al patógeno, pero forma parte de una población que ya tiene expuestos.\n",
        "\n",
        "* **E**xpuesto: Aquellas personas que están infectados pero aun no son *infecciosos*\n",
        " * Estas personas ya tienen el virus, pero el virus se encuentra en una etapa de desarrollo en el cuerpo, la carga viral es tán poca que la transmisión activa del virus es poco probable.\n",
        "* **I**nfectados: Personas colonizadas por el patógeno\n",
        "* **R**ecuperados: Aquellos que ya resolvieron la enfermedad.\n",
        "\n",
        ">>>>![SEIR](https://drive.google.com/uc?id=16GNLZ5a8zZctmzWjMECjKrUZ4Zn4hwwQ)\n",
        "\n",
        "---\n",
        "#MATHBOX\n",
        "<h2><center>¿Cómo modelamos esto?</center></h2>\n",
        "\n",
        "Al ser un sistema dinámico, evoluciona con el tiempo, este tipo de sistemas se modelan con ecuaciones diferenciales, en el caso específico del modelo **SEIR** las ecuaciones son las siguientes:\n",
        "\n",
        "\\begin{gather*} \n",
        "\\dot{S} =  - \\beta SI \\\\ \n",
        "\\dot{E} =  \\beta SI - \\alpha E \\\\\n",
        "\\dot{I} =  \\alpha E - \\gamma I \\\\ \n",
        "\\dot{R} =  \\gamma I \\\\\n",
        "S+E+I+R = 1\n",
        "\\end{gather*}\n",
        "\n",
        "1. La primera ecuación describe el cambio en personas suceptibles\n",
        " * $\\beta\\$ es el nombre que le daremos a la **tasa promedio de contagio**\n",
        "\n",
        "<font color='red'>FACT:</font> el distanciamiento social y la cuarentena son inversamente proporcionales a $\\beta\\$, es decir:\n",
        "\n",
        "<center> \"Al aumentar el distanciamento social, disminuimos la tasa promedio de contagio, por que reducimos el número de individuos infectados que se están mezclando de manera libre en la población\" </center>\n",
        "\n",
        "2. La segunda ecuación describe a las personas expuestas:\n",
        " * $\\alpha$ es el **inverso del periodo de incubación**\n",
        " * Según (Laurer et al. 2020; Hellewell et al. 2020; Guang et al. 2020) el periodo de incubación para COVID-19 es de alrededor de **5 dias**, por lo tanto:\n",
        "  * $\\alpha = 1 / 5 \\rightarrow 0.2$\n",
        "\n",
        "3. La tercera ecuación modela el cambio en personas infectadas, basada en la gente expuesta (aquellas infectadas pero que aun no son *infecciosas*) incubando el virus y la gente infectada en vías de recuperación.\n",
        "\n",
        " * $\\gamma$ es la **tasa de recuperación**, y su recíproco el **periodo infeccioso promedio** o **tiempo latente**\n",
        "\n",
        "4. La cuarta ecuación modela a los recuperados.\n",
        "\n",
        "# Paréntesis: ¿Han escuchado el término $R_0$?\n",
        "\n",
        "Este término se vuelve muy popular en tiempos de crisis epidemiológicas, también llamado **tasa básica de reproducción** se define formalmente como:\n",
        "\n",
        "<center> \"el número promedio de casos secundarios que tienen lugar a partir de un caso primario en una población suceptible\" </center>\n",
        "\n",
        "Y está dada por dos cantidades que ya conocemos $\\beta$ y $\\gamma$:\n",
        "\n",
        "\\begin{gather*} \n",
        "R_0 = \\frac{\\beta}{\\gamma}\n",
        "\\end{gather*}\n",
        "\n",
        "Es decir, es un cociente entre la capacidad del virus para contagiar y la tasa de recuperación que representa dicho virus.\n",
        "\n",
        "Conocer esta ecuación nos ayudará a encontrar $\\beta$:\n",
        " * De (Peng et al. 2020) podemos tomar el estimado de $\\gamma$ para COVID-19: $0.5$\n",
        " * De (Hellewell et al. 2020) podemos tomar el estimado de $R_0$ del COVID-19:\n",
        " $3.5$\n",
        "\n",
        "Sustituyendo obtenemos que $\\beta$ es $\\sim 1.8$ \n",
        "\n",
        "*Algo a tener en cuenta es que este modelo asume una **población fija** es decir, no toma en cuenta nacimientos ni muertes, en el mejor de los casos podemos interpretar como que los decesos se acumulan en las personas \"recuperadas\" por que ya no pueden transmitir la enfermedad.*\n",
        "\n",
        "---\n",
        "\n",
        "<h1><center>Caso especifíco de Jalisco México</center></h1>\n",
        "\n",
        "(22/03/2020)\n",
        "\n",
        "Vamos a usar este modelo para ejemplificar la situación del estado de Jalisco, la cual:\n",
        "\n",
        "* Tiene una población ($N$) de $\\sim$ 8,000,000 habitantes.\n",
        "* Tiene un total de 32 infectados ($I$)\n",
        "* Asumiremos que como **mínimo** esas 32 personas han expuesto a 4 más (familias de 4 personas)\n",
        "* Haremos la evaluación de la evolución de la enfermedad por 90 días."
      ]
    },
    {
      "cell_type": "code",
      "metadata": {
        "id": "9_oyN4etEbwq",
        "colab_type": "code",
        "colab": {
          "base_uri": "https://localhost:8080/",
          "height": 246
        },
        "outputId": "9d45f047-579e-4e08-a716-333c0516a160"
      },
      "source": [
        "dias_evaluacion = 90 #asumimos 90 días\n",
        "dt = 1\n",
        "periodo_evaluacion = np.linspace(0, dias_evaluacion, dias_evaluacion + 1)\n",
        "\n",
        "alpha = 0.2\n",
        "beta = 1.75\n",
        "gamma = 0.5\n",
        "parametros = alpha, beta, gamma\n",
        "\n",
        "#Condiciones iniciales de la ZMG\n",
        "JAL_Population = 8000000 \n",
        "I_o = 32 / JAL_Population  # Tenemos 32 casos\n",
        "E_o = (32*4)/ JAL_Population # Asumimos 4 expuestos por caso\n",
        "S_o = (1) - (E_o+I_o) # El resto somos suceptibles\n",
        "R_o = 0 # NO hay ningun recuperado\n",
        "\n",
        "Condiciones_Iniciales = S_o,E_o,I_o,R_o"
      ],
      "execution_count": 1,
      "outputs": [
        {
          "output_type": "error",
          "ename": "NameError",
          "evalue": "ignored",
          "traceback": [
            "\u001b[0;31m---------------------------------------------------------------------------\u001b[0m",
            "\u001b[0;31mNameError\u001b[0m                                 Traceback (most recent call last)",
            "\u001b[0;32m<ipython-input-1-6c7b3bfa33e2>\u001b[0m in \u001b[0;36m<module>\u001b[0;34m()\u001b[0m\n\u001b[1;32m      1\u001b[0m \u001b[0mdias_evaluacion\u001b[0m \u001b[0;34m=\u001b[0m \u001b[0;36m90\u001b[0m \u001b[0;31m#asumimos 90 días\u001b[0m\u001b[0;34m\u001b[0m\u001b[0;34m\u001b[0m\u001b[0m\n\u001b[1;32m      2\u001b[0m \u001b[0mdt\u001b[0m \u001b[0;34m=\u001b[0m \u001b[0;36m1\u001b[0m\u001b[0;34m\u001b[0m\u001b[0;34m\u001b[0m\u001b[0m\n\u001b[0;32m----> 3\u001b[0;31m \u001b[0mperiodo_evaluacion\u001b[0m \u001b[0;34m=\u001b[0m \u001b[0mnp\u001b[0m\u001b[0;34m.\u001b[0m\u001b[0mlinspace\u001b[0m\u001b[0;34m(\u001b[0m\u001b[0;36m0\u001b[0m\u001b[0;34m,\u001b[0m \u001b[0mdias_evaluacion\u001b[0m\u001b[0;34m,\u001b[0m \u001b[0mdias_evaluacion\u001b[0m \u001b[0;34m+\u001b[0m \u001b[0;36m1\u001b[0m\u001b[0;34m)\u001b[0m\u001b[0;34m\u001b[0m\u001b[0;34m\u001b[0m\u001b[0m\n\u001b[0m\u001b[1;32m      4\u001b[0m \u001b[0;34m\u001b[0m\u001b[0m\n\u001b[1;32m      5\u001b[0m \u001b[0malpha\u001b[0m \u001b[0;34m=\u001b[0m \u001b[0;36m0.2\u001b[0m\u001b[0;34m\u001b[0m\u001b[0;34m\u001b[0m\u001b[0m\n",
            "\u001b[0;31mNameError\u001b[0m: name 'np' is not defined"
          ]
        }
      ]
    },
    {
      "cell_type": "code",
      "metadata": {
        "id": "n2Os-z63m3-0",
        "colab_type": "code",
        "colab": {}
      },
      "source": [
        "def SEIR(IC,pmtrs,t,theta=1):\n",
        "  \"\"\"\n",
        "  Esta parte de código es la que implementa las ecuaciones diferenciales.\n",
        "\n",
        "  Se resuelven por medio de integración númerica de Euler\n",
        "  \"\"\"\n",
        "  \n",
        "  So,Eo,Io,Ro = IC\n",
        "  S,E,I,R = [So],[Eo],[Io],[Ro]\n",
        "  alpha,beta,gamma = pmtrs\n",
        "  dt = t[1]-t[0]\n",
        "  for _ in t[1:]:\n",
        "    St = S[-1] - (theta*beta*S[-1]*I[-1])*dt\n",
        "    Et = E[-1] + (theta*beta*S[-1]*I[-1] - alpha*E[-1])*dt\n",
        "    It = I[-1] + (alpha*E[-1] - gamma*I[-1])*dt\n",
        "    Rt = R[-1] + (gamma*I[-1])*dt\n",
        "    S.append(St)\n",
        "    E.append(Et)\n",
        "    I.append(It)\n",
        "    R.append(Rt)\n",
        "  return S,E,I,R"
      ],
      "execution_count": 0,
      "outputs": []
    },
    {
      "cell_type": "code",
      "metadata": {
        "id": "qOoK-dYbnMKN",
        "colab_type": "code",
        "colab": {}
      },
      "source": [
        "S,E,I,R = SEIR(Condiciones_Iniciales,parametros,periodo_evaluacion) # Obtenemos los suceptibles, expuestos, infectados y recuperados para los proximos 90 dias"
      ],
      "execution_count": 0,
      "outputs": []
    },
    {
      "cell_type": "code",
      "metadata": {
        "id": "YjHyW_wDprb_",
        "colab_type": "code",
        "colab": {}
      },
      "source": [
        "#@title Esta Celda grafica los resultados { display-mode: \"form\" }\n",
        "\n",
        "E_a = np.array(E)*JAL_Population\n",
        "I_a = np.array(I)*JAL_Population\n",
        "Clase = np.array([\"Expuestos\"]*np.array(E).shape[0] + [\"Infectados\"]*np.array(E).shape[0])\n",
        "Dias = np.concatenate([np.arange(0,91,1),np.arange(0,91,1)])\n",
        "SEIR_df = pd.DataFrame({\n",
        "    \"Casos\": np.concatenate([E_a,I_a]),\n",
        "    \"Clase\": Clase,\n",
        "    \"Dias\" : Dias\n",
        "})\n",
        "\n",
        "fig = px.line(SEIR_df, x=\"Dias\", y=\"Casos\", color='Clase')\n",
        "\n",
        "fig.update_layout(\n",
        "    title=\"Predicción del modelo SEIR de la evolución de COVID-19 en Jalisco, Mexico\",\n",
        "    xaxis_title=\"Días\",\n",
        "    yaxis_title=\"Casos Totales\",\n",
        "    )\n",
        "\n",
        "for trace in fig.data:\n",
        "    trace.name = trace.name.split('=')[1]\n",
        "\n",
        "fig.show()"
      ],
      "execution_count": 0,
      "outputs": []
    },
    {
      "cell_type": "markdown",
      "metadata": {
        "id": "8YbPCvr3zRZq",
        "colab_type": "text"
      },
      "source": [
        "El dia 0 es hoy 22/03/2020, si se quiere correr el análisis después habrá que cambiar las condiciones inciales (actualizar en número de infectados reportados)\n",
        "\n",
        "# ¿Cómo saber cuando actuar?\n",
        "\n",
        "Para tratar de responder esto, ajustaré una recta a los primeros 21 días, después, buscaré el punto de inflexión de los residuos de esa linea (qué sería igual a buscar el día en que el comportamiento lineal se perdío)."
      ]
    },
    {
      "cell_type": "code",
      "metadata": {
        "id": "Sj7bwpryso52",
        "colab_type": "code",
        "cellView": "form",
        "colab": {}
      },
      "source": [
        "#@title Ajuste de la linea\n",
        "\n",
        "import statsmodels.api as sm\n",
        "\n",
        "X = SEIR_df[\"Dias\"][:21].values\n",
        "y = SEIR_df[\"Casos\"][SEIR_df[\"Clase\"]==\"Infectados\"][:21].values\n",
        "\n",
        "model = sm.OLS(y,X)\n",
        "results = model.fit()\n",
        "print(results.summary())"
      ],
      "execution_count": 0,
      "outputs": []
    },
    {
      "cell_type": "code",
      "metadata": {
        "id": "-Y2ERC410uJX",
        "colab_type": "code",
        "cellView": "form",
        "colab": {}
      },
      "source": [
        "#@title ¿En donde empieza a equivocarse más la recta?\n",
        "\n",
        "plt.figure(figsize=(9,5))\n",
        "plt.plot(results.resid, alpha = 0.5)\n",
        "plt.scatter(np.argmin(results.resid),np.min(results.resid),c = \"r\")\n",
        "plt.ylabel(\"Residuos del ajuste lineal\")\n",
        "plt.xlabel(\"Dias\")\n",
        "dia = np.argmin(results.resid)\n",
        "plt.title(f\"El punto de inflexión es al día: {dia} \")"
      ],
      "execution_count": 0,
      "outputs": []
    },
    {
      "cell_type": "markdown",
      "metadata": {
        "id": "HU-KqhQe9R-4",
        "colab_type": "text"
      },
      "source": [
        "Es probable que el día crítico suceda en 11 días, que será cúando el comportamiento lineal empieza a subestimar los casos.\n",
        "\n",
        "Ese día a día de hoy sería alrededor del 2 al 3 de abril, así que por favor:\n",
        "\n",
        "<h1><center>QUEDENSE EN SU CASA</center></h1>\n",
        "<h1><center>NI PENSAR EN VACACIONES!</center></h1>\n",
        "\n",
        "Si tomamos en cuenta el día que se estima el pico máximo de casos (Día 50), y el día de inflexión (día 11) el modelo calcula 39 días de contigencia, lo equivalente a $\\sim 6$ semanas aproximadamente.\n",
        "\n",
        "Por lo que la contención debería estar pensada como mínimo que vaya de entre <font color='red'>3-7 semanas</font> lo que concuerda con recomendaciones internacionales, dado que esta estimación no toma en cuenta el efecto del aislamiento social.\n",
        "\n",
        "Por otro lado, para observar el efecto del aislamiento y distanciamiento social, para los que observaron la parte del código de las ecuaciones diferenciales:\n",
        "\n",
        "```\n",
        "    St = S[-1] - (theta*beta*S[-1]*I[-1])*dt\n",
        "    Et = E[-1] + (theta*beta*S[-1]*I[-1] - alpha*E[-1])*dt\n",
        "```\n",
        "\n",
        "A las ecuaciones de **S**uceptibles y **E**xpuestos, les agregué un parámetro que afecta a $\\beta$ en este caso lo llamé $\\theta$, este parámetro simula la proporcion de gente que atiende la cuarentena (**DISTANCIAMIENTO**).\n",
        "\n",
        "$\\theta = 0 \\rightarrow$ supone que todos hacemos caso absoluto a la cuarentena\n",
        "\n",
        "$\\theta = 1 \\rightarrow$ supone que todos hacemos caso omiso a la cuarentena\n",
        "\n",
        "La ecuación modificada quedaría de la siguiente forma:\n",
        "\n",
        "\n",
        "\\begin{gather*} \n",
        "\\dot{S} =  - \\theta \\beta SI \\\\ \n",
        "\\dot{E} = \\theta \\beta SI - \\alpha E \\\\\n",
        "\\end{gather*}\n",
        "\n",
        "\n",
        "\n"
      ]
    },
    {
      "cell_type": "code",
      "metadata": {
        "id": "kiep_hCWCQd6",
        "colab_type": "code",
        "cellView": "form",
        "colab": {}
      },
      "source": [
        "#@title AISLAMIENTO SOCIAL VS CASO OMISO (Interactivo!)\n",
        "\n",
        "\n",
        "\n",
        "import plotly.graph_objects as go\n",
        "fig = go.Figure()\n",
        "\n",
        "for step in np.round(np.arange(0, 1.1, 0.1),1):\n",
        "  S,E,I,R = SEIR(Condiciones_Iniciales,parametros,periodo_evaluacion,1-step)\n",
        "  fig.add_trace(\n",
        "        go.Scatter(\n",
        "            visible=False,\n",
        "            showlegend = True,\n",
        "            line=dict(color=\"#DE1738\", width=2),\n",
        "            name=\"Infectados\",\n",
        "            x=np.arange(0, 91, 1),\n",
        "            y=np.array(I)*JAL_Population)\n",
        "        )\n",
        "  \n",
        "\n",
        "fig.data[0].visible = True\n",
        "\n",
        "steps = []\n",
        "labels = np.round(np.arange(1.0, -0.1, -0.1),1).tolist()\n",
        "labels[0] = \"Caso Omiso\"\n",
        "labels[10] = \"Aislamiento Total\"\n",
        "for i in range(len(fig.data)):\n",
        "    step = dict(\n",
        "        method=\"restyle\",\n",
        "        args=[\"visible\", [False] * len(fig.data)],\n",
        "        label = str(labels[i])\n",
        "    )\n",
        "    step[\"args\"][1][i] = True  \n",
        "    steps.append(step)\n",
        "\n",
        "sliders = [dict(\n",
        "    active=0,\n",
        "    currentvalue={\"prefix\": \"Distanciamiento (Theta): \"},\n",
        "    pad={\"t\": 50},\n",
        "    steps=steps\n",
        ")]\n",
        "\n",
        "fig.update_layout(\n",
        "    sliders=sliders,\n",
        "    title=\"Predicción del modelo SEIR de la evolución de COVID-19 en Jalisco, Mexico\",\n",
        "    xaxis_title=\"Días\",\n",
        "    yaxis_title=\"Infectados Totales\",\n",
        ")\n",
        "\n",
        "fig.show()"
      ],
      "execution_count": 0,
      "outputs": []
    },
    {
      "cell_type": "markdown",
      "metadata": {
        "id": "Wpqg2UEbPgD0",
        "colab_type": "text"
      },
      "source": [
        "Como podemos ver el atender las recomendaciones de salubridad, lavarnos las manos, salir de casa exclusivamente por cuestiones prioritarias como una emergencia, salir por víveres o medicamentos, es una forma efectiva de aplanar la curva de infectados, descargar hospitales y poner al menor número de personas en riesgo.\n",
        "\n",
        "Hay que atender las recomendaciones! <3 "
      ]
    },
    {
      "cell_type": "code",
      "metadata": {
        "id": "IvKHr8lNPfY2",
        "colab_type": "code",
        "colab": {}
      },
      "source": [
        "#@title QUEDATE EN CASA { display-mode: \"form\" }\n",
        "\n",
        "periodo_evaluacion = np.linspace(0, 90, dias_evaluacion + 1)\n",
        "_,E_1,I_1,_ = SEIR(Condiciones_Iniciales,parametros,periodo_evaluacion)\n",
        "_,E_5,I_5,_ = SEIR(Condiciones_Iniciales,parametros,periodo_evaluacion,0.7)\n",
        "_,E_3,I_3,_ = SEIR(Condiciones_Iniciales,parametros,periodo_evaluacion,0.3)\n",
        "plt.figure(figsize= (16,6))\n",
        "plt.suptitle(\"Contribuye a aplanar la curva!\")\n",
        "plt.plot(E_1,label = \"Expuestos, theta = 1\", ls = \"--\",alpha=0.3,c=\"#FF0000\")\n",
        "plt.plot(I_1,label = \"Infectados, theta = 1\",c=\"#FF0000\")\n",
        "plt.plot(E_5,label = \"Expuestos, theta = 0.5\", ls = \"--\",alpha=0.3,c=\"#FFCC00\")\n",
        "plt.plot(I_5,label = \"Infectados, theta = 0.5\",c=\"#FFCC00\")\n",
        "plt.plot(E_3,label = \"Expuestos, theta = 0.3\", ls = \"--\",alpha=0.3,c=\"#99CC00\")\n",
        "plt.plot(I_3,label = \"Infectados, theta = 0.3\",c=\"#99CC00\")\n",
        "plt.ylabel(\"Proporcion de la población\")\n",
        "plt.xlabel(\"Dias\")\n",
        "plt.legend(bbox_to_anchor=(1.05, 1.0), loc='upper left')"
      ],
      "execution_count": 0,
      "outputs": []
    },
    {
      "cell_type": "markdown",
      "metadata": {
        "id": "rmM1mB2Wd8na",
        "colab_type": "text"
      },
      "source": [
        "<h1><center>¿Qué pasa con los asintomáticos?</center><h1>\n",
        "\n",
        "Para tratar de responder a esta pregunta, tomé el modelo propuesto en:\n",
        "\n",
        "> Mathews, J. D., McCaw, C. T., McVernon, J., McBryde, E. S., & McCaw, J. M. (2007). A biological model for influenza transmission: pandemic planning implications of asymptomatic infection and immunity. PLoS One, 2(11).\n",
        "\n",
        "Lo simplifiqué y lo estoy modelando con los mismos parámetros comentados anteriormente.\n",
        "\n",
        "El modelo SEAIR (por la inclusión de los **A**sintomáticos) quedaría formalmente descrito de la siguiente forma:\n",
        "\n",
        "\\begin{gather*} \n",
        "\\dot{S} =  - \\beta SI \\\\ \n",
        "\\dot{E} =  \\beta SI - \\alpha E \\\\\n",
        "\\dot{A} =  (1-\\rho)\\cdot\\alpha E - \\gamma A \\\\\n",
        "\\dot{I} =  \\rho \\cdot \\alpha E - \\gamma I \\\\ \n",
        "R = 1 - (S+E+I+A)\n",
        "\\end{gather*}\n",
        "\n",
        "Me permitiré traducirles un segmento del paper que me parece fundamental:\n",
        "\n",
        "> \"$R_o$ es la condición umbral para una epidemia en una población completamente suceptible y en su forma más general, se puede describir como el número de exposiciones (que llevan a ambos casos (**A** e **I**)) por transmisor (**A** o **I**).\n",
        "\n",
        "> Dada la falta de información detallada sobre quién infectó a quién, la incidencia de repotes de síntomas en la población no provee información sobre la capacidad infecciosa de transmisores sin sintomas.\n",
        "\n",
        "> Por ello, nosotros asumimos una proporción de todos los infectados latentes como sintomáticos (**I**) (en esta implementación yo le llamé a esa proporción $\\rho$) y el complemento ($1-\\rho$) aquellos portadores sin síntomas (**A**).\n",
        "\n",
        "> Sobre el supuesto que ambos portadores (**I** e **A**) tienen la misma $\\gamma$  (inverso de **tiempo promedio de capacidad infecciosa**)\n",
        "\n",
        "<h3><center>Es de notar que si algunos casos asintomáticos no son reportados de manera aleatoria, entonces, estos son implícitamente agregados a los casos asintomáticos. Por ello, el grupo asintomático podría describirse propiamente como asintomático o no reportado\"</center></h3>\n",
        "\n",
        "Hay hasta el momento $4$ casos sin síntomas en Jalisco, de un total de 45 (23/03/2020) lo que representa una proporción $\\sim 10 \\% \\rightarrow \\rho = 0.9$.\n",
        "\n",
        "Sin embargo el número de muestras para calcular esa proporción puede estar sub-estimada, dado el bajo número de muestras realizadas, por lo que se hizo un estudio de la literatura para encontrar esta proporción, de multiples trabajos del autor (Mizumoto et al. 2020) se ha estimado que la proporción de pacientes asintomáticos ronda el $\\sim 18 \\% \\rightarrow \\rho = .82$. \n",
        " \n",
        "Todo lo demás lo seguiré modelando con los casos reportados a día de (22/03/2020) para que el notebook tenga coherencia.\n",
        "\n",
        "Se trata del modelo base que asume una $\\theta = 1$, es decir sin distanciamiento social.\n",
        "\n",
        "\n",
        "\n"
      ]
    },
    {
      "cell_type": "code",
      "metadata": {
        "id": "l9ZKtmbiS1W9",
        "colab_type": "code",
        "colab": {}
      },
      "source": [
        "dias_evaluacion = 90 #asumimos 90 días\n",
        "periodo_evaluacion = np.linspace(0, dias_evaluacion, dias_evaluacion + 1)\n",
        "\n",
        "alpha = 0.2\n",
        "beta = 1.75\n",
        "gamma = 0.5\n",
        "rho = 0.82\n",
        "parametros = alpha, beta, gamma, rho\n",
        "\n",
        "JAL_Population = 8000000 \n",
        "I_o = 32 / JAL_Population  # Tenemos 32 casos\n",
        "E_o = (32*4)/JAL_Population # Asumimos 4 expuestos por caso\n",
        "A_o =  4 / JAL_Population\n",
        "S_o = (1) - (E_o+I_o+A_o) # El resto somos suceptibles\n",
        "R_o = 0 # NO hay ningun recuperado\n",
        "\n",
        "Condiciones_Iniciales = S_o,E_o,A_o,I_o,R_o,"
      ],
      "execution_count": 0,
      "outputs": []
    },
    {
      "cell_type": "code",
      "metadata": {
        "id": "JKeGaYn4UNvn",
        "colab_type": "code",
        "colab": {}
      },
      "source": [
        "def SEAIR(IC,pmtrs,t,theta=1):\n",
        "  \"\"\"\n",
        "  Esta parte de código es la que implementa las ecuaciones diferenciales.\n",
        "\n",
        "  Se resuelven por medio de integración númerica de Euler\n",
        "  \"\"\"\n",
        "  \n",
        "  So,Eo,Ao,Io,Ro = IC\n",
        "  S,E,A,I,R = [So],[Eo],[Eo],[Io],[Ro]\n",
        "  alpha,beta,gamma,rho = pmtrs\n",
        "  dt = t[1]-t[0]\n",
        "  for _ in t[1:]:\n",
        "    St = S[-1] - (theta*beta*S[-1]*I[-1])*dt\n",
        "    Et = E[-1] + (theta*beta*S[-1]*I[-1] - alpha*E[-1])*dt\n",
        "    At = A[-1] + (1-rho)*(alpha*E[-1] - gamma*A[-1])*dt\n",
        "    It = I[-1] + rho*(alpha*E[-1] - gamma*I[-1])*dt\n",
        "    Rt = 1 - (S[-1]+E[-1]+A[-1]+I[-1])\n",
        "    S.append(St)\n",
        "    E.append(Et)\n",
        "    A.append(At)\n",
        "    I.append(It)\n",
        "    R.append(Rt)\n",
        "  return S,E,A,I,R"
      ],
      "execution_count": 0,
      "outputs": []
    },
    {
      "cell_type": "code",
      "metadata": {
        "id": "X7q0J5XaTwGx",
        "colab_type": "code",
        "colab": {}
      },
      "source": [
        "S,E,A,I,R = SEAIR(Condiciones_Iniciales,parametros,periodo_evaluacion) # Obtenemos los suceptibles, expuestos, infectados y recuperados para los proximos 90 dias"
      ],
      "execution_count": 0,
      "outputs": []
    },
    {
      "cell_type": "code",
      "metadata": {
        "id": "Ih9JM8D8U_Vp",
        "colab_type": "code",
        "colab": {}
      },
      "source": [
        "#@title Resultados modelo SEAIR { display-mode: \"form\" }\n",
        "\n",
        "E_a = np.array(E)*JAL_Population\n",
        "I_a = np.array(I)*JAL_Population\n",
        "A_a = np.array(A)*JAL_Population\n",
        "Clase = np.array([\"Expuestos\"]*np.array(E).shape[0] + [\"Infectados\"]*np.array(E).shape[0]+ [\"Asintomaticos o No reportados\"]*np.array(E).shape[0])\n",
        "Dias = np.concatenate([np.arange(0,91,1),np.arange(0,91,1),np.arange(0,91,1)])\n",
        "SEIR_df = pd.DataFrame({\n",
        "    \"Casos\": np.concatenate([E_a,I_a,A_a]),\n",
        "    \"Clase\": Clase,\n",
        "    \"Dias\" : Dias\n",
        "})\n",
        "\n",
        "fig = px.line(SEIR_df, x=\"Dias\", y=\"Casos\", color='Clase')\n",
        "\n",
        "fig.update_layout(\n",
        "    title=\"Predicción del modelo SEAIR de la evolución de COVID-19 en Jalisco, Mexico\",\n",
        "    xaxis_title=\"Días\",\n",
        "    yaxis_title=\"Casos Totales\",\n",
        "    )\n",
        "\n",
        "for trace in fig.data:\n",
        "    trace.name = trace.name.split('=')[1]\n",
        "\n",
        "fig.show()"
      ],
      "execution_count": 0,
      "outputs": []
    },
    {
      "cell_type": "markdown",
      "metadata": {
        "id": "w6NXuRHnRcfL",
        "colab_type": "text"
      },
      "source": [
        "El modelo resalta la importancia de aumentar las pruebas per capita. \n",
        "\n",
        "> Conforme se pueda contener el número de casos confirmados, será vital aumentar el número de pruebas per capita, ya qué en un punto los asintomáticos o no reportados superan los casos confirmados, si no se aumenta la capacidad de screening de la población, se pudiera observar un fenómeno cíclico.\n",
        "\n",
        "<h1><center>¿Cúantos hospitalizados y muertes pudiera haber en el peor escenario?</center></h1>\n",
        "\n",
        "Para responder esto simplemente agregaremos al modelo **SEAIR** una nueva ecuación:\n",
        "\n",
        "\\begin{gather*} \n",
        "\\dot{D} =  \\kappa I\n",
        "\\end{gather*} \n",
        "\n",
        "Siendo $\\kappa$ la tasa de moratalidad, después de una busqueda, parece que este parametro pudiera depender del tiempo, en relación a la respuesta del sistema de salud, y de caracteristicas de la población (co-morbilidades y randos de edad).\n",
        "\n",
        "Sus rangos estar entre $.1 \\%$ a $3 \\%$ (Peng et al. 2020).\n",
        "\n",
        "Sin embargo para este ejercicio, tomaré una tasa constante de $1.6 \\%$.\n"
      ]
    },
    {
      "cell_type": "code",
      "metadata": {
        "id": "oIk5oaYdSzc-",
        "colab_type": "code",
        "colab": {}
      },
      "source": [
        "dias_evaluacion = 90 #asumimos 90 días\n",
        "periodo_evaluacion = np.linspace(0, dias_evaluacion, dias_evaluacion + 1)\n",
        "\n",
        "alpha = 0.2\n",
        "beta = 1.75\n",
        "gamma = 0.5\n",
        "rho = 0.82\n",
        "kappa = .016\n",
        "parametros = alpha, beta, gamma, rho , kappa\n",
        "\n",
        "JAL_Population = 8000000 \n",
        "I_o = 32 / JAL_Population  # Tenemos 32 casos\n",
        "E_o = (32*4)/JAL_Population # Asumimos 4 expuestos por caso\n",
        "A_o =  4 / JAL_Population\n",
        "S_o = (1) - (E_o+I_o+A_o) # El resto somos suceptibles\n",
        "R_o = 0 # NO hay ningun recuperado\n",
        "M_o = 0 # NO Muertos\n",
        "\n",
        "Condiciones_Iniciales = S_o,E_o,A_o,I_o,R_o,M_o"
      ],
      "execution_count": 0,
      "outputs": []
    },
    {
      "cell_type": "code",
      "metadata": {
        "id": "6rfOUoo-teWp",
        "colab_type": "code",
        "colab": {}
      },
      "source": [
        "def SEAIR_D(IC,pmtrs,t,theta=1):\n",
        "  \"\"\"\n",
        "  Esta parte de código es la que implementa las ecuaciones diferenciales.\n",
        "\n",
        "  Se resuelven por medio de integración númerica de Euler\n",
        "  \"\"\"\n",
        "  \n",
        "  So,Eo,Ao,Io,Ro,Do = IC\n",
        "  S,E,A,I,R,D = [So],[Eo],[Eo],[Io],[Ro],[Do]\n",
        "  alpha,beta,gamma,rho,kappa = pmtrs\n",
        "  dt = t[1]-t[0]\n",
        "  for _ in t[1:]:\n",
        "    St = S[-1] - (theta*beta*S[-1]*I[-1])*dt\n",
        "    Et = E[-1] + (theta*beta*S[-1]*I[-1] - alpha*E[-1])*dt\n",
        "    At = A[-1] + (1-rho)*(alpha*E[-1] - gamma*A[-1])*dt\n",
        "    It = I[-1] + rho*(alpha*E[-1] - gamma*I[-1])*dt\n",
        "    Dt = kappa*I[-1]\n",
        "    Rt = 1 - (S[-1]+E[-1]+A[-1]+I[-1]-D[-1])\n",
        "    \n",
        "    S.append(St)\n",
        "    E.append(Et)\n",
        "    A.append(At)\n",
        "    I.append(It)\n",
        "    R.append(Rt)\n",
        "    D.append(Dt)\n",
        "  return S,E,A,I,R,D"
      ],
      "execution_count": 0,
      "outputs": []
    },
    {
      "cell_type": "code",
      "metadata": {
        "id": "gQq1ClhSuPwa",
        "colab_type": "code",
        "colab": {}
      },
      "source": [
        "S,E,A,I,R,D = SEAIR_D(Condiciones_Iniciales,parametros,periodo_evaluacion)"
      ],
      "execution_count": 0,
      "outputs": []
    },
    {
      "cell_type": "code",
      "metadata": {
        "id": "IvY-q2pZucUy",
        "colab_type": "code",
        "cellView": "form",
        "colab": {}
      },
      "source": [
        "#@title Escenario contabilizando posibles muertes\n",
        "\n",
        "D_a = np.array(D)*JAL_Population\n",
        "I_a = np.array(I)*JAL_Population\n",
        "A_a = np.array(A)*JAL_Population\n",
        "Clase = np.array([\"Muertes\"]*np.array(E).shape[0] + [\"Infectados\"]*np.array(E).shape[0]+ [\"Asintomaticos o No reportados\"]*np.array(E).shape[0])\n",
        "Dias = np.concatenate([np.arange(0,91,1),np.arange(0,91,1),np.arange(0,91,1)])\n",
        "SEIR_df = pd.DataFrame({\n",
        "    \"Casos\": np.concatenate([D_a,I_a,A_a]),\n",
        "    \"Clase\": Clase,\n",
        "    \"Dias\" : Dias\n",
        "})\n",
        "\n",
        "fig = px.line(SEIR_df, x=\"Dias\", y=\"Casos\", color='Clase')\n",
        "\n",
        "fig.update_layout(\n",
        "    title=\"Predicción del modelo SEAIR de la evolución de COVID-19 en Jalisco, Mexico\",\n",
        "    xaxis_title=\"Días\",\n",
        "    yaxis_title=\"Casos Totales\",\n",
        "    )\n",
        "\n",
        "for trace in fig.data:\n",
        "    trace.name = trace.name.split('=')[1]\n",
        "\n",
        "fig.show()"
      ],
      "execution_count": 0,
      "outputs": []
    },
    {
      "cell_type": "markdown",
      "metadata": {
        "id": "9I3HMyMlxxsD",
        "colab_type": "text"
      },
      "source": [
        "En el peor escenario (sin medidas de aislamiento) se esperarían $14,000$ muertes, considerando una tasa de mortalidad fija del $1.6\\%$.\n",
        "\n",
        "Por otro lado, la pregunta de cuantos de los infectados necesitarán atencíon y cuidado hospitalario, como camas en cuidados intensivos, depende también de un porcentaje.\n",
        "\n",
        "Si tomamos en cuenta un $2\\%$ de casos graves, en el peor de los escenarios (sin distanciamiento social) tendriamos la siguiente curva."
      ]
    },
    {
      "cell_type": "code",
      "metadata": {
        "id": "F4mmPTHXvg45",
        "colab_type": "code",
        "colab": {}
      },
      "source": [
        "plt.figure(figsize= (16,6))\n",
        "maximo = np.round(np.max(np.array(I)*.02)*JAL_Population,0)\n",
        "plt.title(f\"Máximo de casos graves: {maximo}\")\n",
        "plt.plot(np.array(I)*.02*JAL_Population, label = \"Casos graves\",c=\"#FF0000\") #Asumimos el 2% de los infectados, de la poblacion de jalisco\n",
        "plt.ylabel(\"Casos\")\n",
        "plt.xlabel(\"Dias\")\n",
        "plt.legend(bbox_to_anchor=(1.05, 1.0), loc='upper left')"
      ],
      "execution_count": 0,
      "outputs": []
    },
    {
      "cell_type": "markdown",
      "metadata": {
        "id": "pTfQUSbK2G_C",
        "colab_type": "text"
      },
      "source": [
        "La pregunta es **¿Con cuantas camas de terapia intensiva cuenta el estado?**\n",
        "\n",
        "\n",
        "Y recalcar de nuevo la importancia de atender las recomendaciones sanitarias, los números de casos graves y muertes, dependen **DIRECTAMENTE** de $\\theta$.\n",
        "\n",
        "Es decir, el distanciamiento social disminuye considerablemente ambos números, porfavor, quedemonos en casa lo más que podamos estos días.\n",
        "\n",
        "Cuidense ustedes y cuiden a los demás.\n",
        "\n",
        "<h1><center>Distintos Escenarios</center></h1>\n",
        "\n",
        "\n"
      ]
    },
    {
      "cell_type": "markdown",
      "metadata": {
        "id": "TndRUDb0DDFl",
        "colab_type": "text"
      },
      "source": [
        "# Condiciones iniciales"
      ]
    },
    {
      "cell_type": "code",
      "metadata": {
        "id": "_80HRZkiNRgL",
        "colab_type": "code",
        "colab": {}
      },
      "source": [
        "dias_evaluacion = 120 #asumimos 120 días\n",
        "periodo_evaluacion = np.linspace(0, dias_evaluacion, dias_evaluacion + 1)\n",
        "alpha = 0.2\n",
        "\n",
        "#Escenarios\n",
        "def Base():\n",
        "    Ro = 3.5\n",
        "    gamma = 0.5\n",
        "    Beta = Ro*gamma\n",
        "    return Beta\n",
        " \n",
        "def Pesimista():\n",
        "    Ro = 4.5\n",
        "    gamma = 0.5\n",
        "    Beta = Ro*gamma\n",
        "    return Beta\n",
        " \n",
        "def Optimista():\n",
        "    Ro = 1.5\n",
        "    gamma = 0.5\n",
        "    Beta = Ro*gamma\n",
        "    return Beta\n",
        "\n",
        "def Fuerte():\n",
        "    Ro = 3.5*(0.5)\n",
        "    gamma = 0.5\n",
        "    Beta = Ro*gamma\n",
        "    return Beta\n",
        "\n",
        "def Moderada():\n",
        "    Ro = 3.5 - (3.5*(0.25))\n",
        "    gamma = 0.5\n",
        "    Beta = Ro*gamma\n",
        "    return Beta\n",
        " \n",
        "switcher = {\n",
        "   \"Base\": Base,\n",
        "   \"Pesimista\": Pesimista,\n",
        "   \"Optimista\": Optimista,\n",
        "   \"Fuerte\": Fuerte,\n",
        "   \"Moderada\": Moderada\n",
        "    }\n",
        " \n",
        "def get_Beta(argument):\n",
        "# Get the function from switcher dictionary\n",
        "  func = switcher.get(argument, \"nothing\")\n",
        "# Execute the function\n",
        "  return func()\n",
        "\n",
        "gamma = 0.5\n",
        "rho = 0.82\n",
        "kappa = .016\n",
        "parametros = alpha, beta, gamma, rho , kappa\n",
        "Population = 8000000 \n",
        "I_o = 32 / Population  # Tenemos 32 casos\n",
        "E_o = (32*4)/ Population # Asumimos 4 expuestos por caso\n",
        "A_o =  4 / Population\n",
        "D_o = 0 # No Muertos\n",
        "S_o = (1) - (E_o+I_o+A_o+D_o) # El resto somos suceptibles\n",
        "R_o = 0 # NO hay ningun recuperado\n",
        "\n",
        "\n",
        "Condiciones_Iniciales = S_o,E_o,A_o,I_o,R_o,D_o\n"
      ],
      "execution_count": 0,
      "outputs": []
    },
    {
      "cell_type": "code",
      "metadata": {
        "id": "iJ7xpuXuSFbi",
        "colab_type": "code",
        "colab": {}
      },
      "source": [
        "def SEAIR_D(IC, pmtrs, t, intervencion = \"Base\", inicio_intervecion=1, duracion_intervencion=120):\n",
        "  \"\"\"\n",
        "  Esta parte de código es la que implementa las ecuaciones diferenciales.\n",
        "\n",
        "  Se resuelven por medio de integración númerica de Euler\n",
        "  \"\"\"\n",
        "  \n",
        "  So,Eo,Ao,Io,Ro,Do = IC\n",
        "  S,E,A,I,R,D = [So],[Eo],[Eo],[Io],[Ro],[Do]\n",
        "  alpha,beta,gamma,rho,kappa = pmtrs\n",
        "  dt = t[1]-t[0]\n",
        "  for i in t[1:]:\n",
        "    if (i >= inicio_intervecion and i <=duracion_intervencion):\n",
        "      beta = get_Beta(intervencion)\n",
        "    else:\n",
        "      beta = get_Beta(\"Base\")\n",
        "\n",
        "\n",
        "    St = S[-1] - (beta*S[-1]*I[-1])*dt\n",
        "    Et = E[-1] + (beta*S[-1]*I[-1] - alpha*E[-1])*dt\n",
        "    At = A[-1] + (1-rho)*(alpha*E[-1] - gamma*A[-1])*dt\n",
        "    It = I[-1] + rho*(alpha*E[-1] - gamma*I[-1])*dt\n",
        "    Dt = kappa*I[-1]\n",
        "    Rt = 1 - (S[-1]+E[-1]+A[-1]+I[-1]-D[-1])\n",
        "    \n",
        "    S.append(St)\n",
        "    E.append(Et)\n",
        "    A.append(At)\n",
        "    I.append(It)\n",
        "    R.append(Rt)\n",
        "    D.append(Dt)\n",
        "  return S,E,A,I,R,D, intervencion"
      ],
      "execution_count": 0,
      "outputs": []
    },
    {
      "cell_type": "code",
      "metadata": {
        "id": "n4vXI8TvE16l",
        "colab_type": "code",
        "colab": {}
      },
      "source": [
        "S,E,A,I,R,D, intervencion = SEAIR_D(Condiciones_Iniciales,parametros,periodo_evaluacion,\"Pesimista\",1,120)\n",
        "                                                                                        #Escenario,#Dia que inicia la intervencion,#Cuantos dias dura"
      ],
      "execution_count": 0,
      "outputs": []
    },
    {
      "cell_type": "code",
      "metadata": {
        "id": "gvXdYHbjFNxy",
        "colab_type": "code",
        "colab": {
          "base_uri": "https://localhost:8080/",
          "height": 542
        },
        "outputId": "494ac72e-2c38-42b2-fcd9-7de0a72236e1"
      },
      "source": [
        "#@title Escenario Base: Ro = 3.5, no intervencion { display-mode: \"form\" }\n",
        "\n",
        "S,E,A,I,R,D, intervencion = SEAIR_D(Condiciones_Iniciales,parametros,periodo_evaluacion,\"Base\",1,120)\n",
        "E_a = np.array(E)*Population\n",
        "I_a = np.array(I)*Population\n",
        "A_a = np.array(A)*Population\n",
        "D_a = np.array(D)*Population\n",
        "Clase = np.array([\"Expuestos\"]*np.array(E).shape[0] + [\"Infectados\"]*np.array(E).shape[0]+ \n",
        "                  [\"Asintomaticos o No reportados\"]*np.array(E).shape[0] + [\"Muertes\"]*np.array(E).shape[0])\n",
        "Dias = np.concatenate([periodo_evaluacion,periodo_evaluacion,periodo_evaluacion,periodo_evaluacion])\n",
        "SEIR_df = pd.DataFrame({\n",
        "    \"Casos\": np.concatenate([E_a,I_a,A_a,D_a]),\n",
        "    \"Clase\": Clase,\n",
        "    \"Dias\" : Dias\n",
        "})\n",
        "\n",
        "fig = px.line(SEIR_df, x=\"Dias\", y=\"Casos\", color='Clase',color_discrete_sequence=[\"green\", \"red\", \"goldenrod\", \"blue\"], template = \"ggplot2\")\n",
        "\n",
        "fig.update_layout(\n",
        "    title=f\"Predicción del modelo SEAIR de la evolución de COVID-19 en Jalisco, Escenario: {intervencion}\",\n",
        "    \n",
        "    xaxis_title=\"Días\",\n",
        "    yaxis_title=\"Casos Totales\",\n",
        "    )\n",
        "\n",
        "for trace in fig.data:\n",
        "    trace.name = trace.name.split('=')[1]\n",
        "\n",
        "fig.show()"
      ],
      "execution_count": 40,
      "outputs": [
        {
          "output_type": "display_data",
          "data": {
            "text/html": [
              "<html>\n",
              "<head><meta charset=\"utf-8\" /></head>\n",
              "<body>\n",
              "    <div>\n",
              "            <script src=\"https://cdnjs.cloudflare.com/ajax/libs/mathjax/2.7.5/MathJax.js?config=TeX-AMS-MML_SVG\"></script><script type=\"text/javascript\">if (window.MathJax) {MathJax.Hub.Config({SVG: {font: \"STIX-Web\"}});}</script>\n",
              "                <script type=\"text/javascript\">window.PlotlyConfig = {MathJaxConfig: 'local'};</script>\n",
              "        <script src=\"https://cdn.plot.ly/plotly-latest.min.js\"></script>    \n",
              "            <div id=\"0c67b54f-493f-4eab-abea-53613608d6f6\" class=\"plotly-graph-div\" style=\"height:525px; width:100%;\"></div>\n",
              "            <script type=\"text/javascript\">\n",
              "                \n",
              "                    window.PLOTLYENV=window.PLOTLYENV || {};\n",
              "                    \n",
              "                if (document.getElementById(\"0c67b54f-493f-4eab-abea-53613608d6f6\")) {\n",
              "                    Plotly.newPlot(\n",
              "                        '0c67b54f-493f-4eab-abea-53613608d6f6',\n",
              "                        [{\"hoverlabel\": {\"namelength\": 0}, \"hovertemplate\": \"Clase=Expuestos<br>Dias=%{x}<br>Casos=%{y}\", \"legendgroup\": \"Clase=Expuestos\", \"line\": {\"color\": \"green\", \"dash\": \"solid\"}, \"mode\": \"lines\", \"name\": \"Expuestos\", \"showlegend\": true, \"type\": \"scatter\", \"x\": [0.0, 1.0, 2.0, 3.0, 4.0, 5.0, 6.0, 7.0, 8.0, 9.0, 10.0, 11.0, 12.0, 13.0, 14.0, 15.0, 16.0, 17.0, 18.0, 19.0, 20.0, 21.0, 22.0, 23.0, 24.0, 25.0, 26.0, 27.0, 28.0, 29.0, 30.0, 31.0, 32.0, 33.0, 34.0, 35.0, 36.0, 37.0, 38.0, 39.0, 40.0, 41.0, 42.0, 43.0, 44.0, 45.0, 46.0, 47.0, 48.0, 49.0, 50.0, 51.0, 52.0, 53.0, 54.0, 55.0, 56.0, 57.0, 58.0, 59.0, 60.0, 61.0, 62.0, 63.0, 64.0, 65.0, 66.0, 67.0, 68.0, 69.0, 70.0, 71.0, 72.0, 73.0, 74.0, 75.0, 76.0, 77.0, 78.0, 79.0, 80.0, 81.0, 82.0, 83.0, 84.0, 85.0, 86.0, 87.0, 88.0, 89.0, 90.0, 91.0, 92.0, 93.0, 94.0, 95.0, 96.0, 97.0, 98.0, 99.0, 100.0, 101.0, 102.0, 103.0, 104.0, 105.0, 106.0, 107.0, 108.0, 109.0, 110.0, 111.0, 112.0, 113.0, 114.0, 115.0, 116.0, 117.0, 118.0, 119.0, 120.0], \"xaxis\": \"x\", \"y\": [128.0, 158.39885199999998, 196.49316277001284, 243.81970292255576, 302.5549452131161, 375.4396438399839, 465.8804274601615, 578.1048954265186, 717.3582971776693, 890.1480547423844, 1104.5470029618407, 1370.5692557893203, 1700.6359436955254, 2110.152103125725, 2618.2209288725876, 3248.527609791853, 4030.432261540591, 5000.32026873164, 6203.268881569278, 7695.1013911769705, 9544.914789134704, 11838.183529560149, 14680.560645265197, 18202.517388910666, 22564.982432592904, 27966.158974084214, 34649.70856534219, 42914.48701523332, 53125.989052486104, 65729.58715042369, 81265.5098364477, 100385.2577330099, 123868.74762673085, 152640.83335153345, 187784.88513859015, 230549.71109828644, 282344.17789795116, 344711.3899762498, 419271.3239694692, 507617.8032304192, 611153.6043092703, 730848.1339813323, 866908.4170766028, 1018369.9824261869, 1182643.456229251, 1355096.3564349182, 1528801.3766280813, 1694623.10039189, 1841810.7723494421, 1959177.1587108036, 2036757.656024352, 2067604.7240824928, 2049198.0160371189, 1983978.171702435, 1878790.4100007215, 1743433.7141122683, 1588824.2403986612, 1425331.6376239061, 1261653.1511545302, 1104311.9426719681, 957658.3110007335, 824172.9065981085, 704890.0512170881, 599819.7826363179, 508307.20910753356, 429309.80678658804, 361596.47973421915, 303881.8997460883, 254911.63112634403, 213511.95213727752, 178615.4992762843, 149271.04819693608, 124643.36385344244, 104007.20650573741, 86738.22317996417, 72302.49169587507, 60245.81989785002, 50183.45433774599, 41790.556670718004, 34793.61532368091, 28962.8407937971, 24105.521515511755, 20060.277214870763, 16692.12687616279, 13888.281349182424, 11554.571213281632, 9612.425495715668, 7996.3240920522385, 6651.654914728876, 5532.915082609935, 4602.203382677338, 3827.958529768762, 3183.9043073948064, 2648.1684648715845, 2202.547297412723, 1831.8921988161658, 1523.5982168572073, 1267.1778297028488, 1053.9058666796911, 876.5237833868081, 728.9934284577088, 606.2920598414678, 504.2417284728135, 419.36728672429774, 348.7782325858276, 290.0703975993045, 241.24415228057873, 200.63635834009932, 166.86376040867574, 138.7758962907318, 115.41592669391964, 95.98805356248664, 79.83041948338926, 66.39256659194196, 55.21668820538306, 45.92203525757457, 38.191946834248824, 31.763063333283565, 26.416355013650975, 21.969660462219053, 18.27148089204774], \"yaxis\": \"y\"}, {\"hoverlabel\": {\"namelength\": 0}, \"hovertemplate\": \"Clase=Infectados<br>Dias=%{x}<br>Casos=%{y}\", \"legendgroup\": \"Clase=Infectados\", \"line\": {\"color\": \"red\", \"dash\": \"solid\"}, \"mode\": \"lines\", \"name\": \"Infectados\", \"showlegend\": true, \"type\": \"scatter\", \"x\": [0.0, 1.0, 2.0, 3.0, 4.0, 5.0, 6.0, 7.0, 8.0, 9.0, 10.0, 11.0, 12.0, 13.0, 14.0, 15.0, 16.0, 17.0, 18.0, 19.0, 20.0, 21.0, 22.0, 23.0, 24.0, 25.0, 26.0, 27.0, 28.0, 29.0, 30.0, 31.0, 32.0, 33.0, 34.0, 35.0, 36.0, 37.0, 38.0, 39.0, 40.0, 41.0, 42.0, 43.0, 44.0, 45.0, 46.0, 47.0, 48.0, 49.0, 50.0, 51.0, 52.0, 53.0, 54.0, 55.0, 56.0, 57.0, 58.0, 59.0, 60.0, 61.0, 62.0, 63.0, 64.0, 65.0, 66.0, 67.0, 68.0, 69.0, 70.0, 71.0, 72.0, 73.0, 74.0, 75.0, 76.0, 77.0, 78.0, 79.0, 80.0, 81.0, 82.0, 83.0, 84.0, 85.0, 86.0, 87.0, 88.0, 89.0, 90.0, 91.0, 92.0, 93.0, 94.0, 95.0, 96.0, 97.0, 98.0, 99.0, 100.0, 101.0, 102.0, 103.0, 104.0, 105.0, 106.0, 107.0, 108.0, 109.0, 110.0, 111.0, 112.0, 113.0, 114.0, 115.0, 116.0, 117.0, 118.0, 119.0, 120.0], \"xaxis\": \"x\", \"y\": [32.0, 39.872, 49.501891728, 61.43099481380211, 76.2307182194424, 94.59513476442206, 117.38323110076638, 145.66049645291866, 180.74889575717108, 224.2886092338687, 278.3145604257336, 345.3512991369247, 428.5306244402341, 531.7373631858043, 659.7899891922433, 818.6643259585279, 1015.7704803213953, 1260.29547428228, 1563.6268538985341, 1939.8759403774968, 2406.5234329757463, 2985.214850873782, 3702.7388608633955, 4592.227873732896, 5694.627297283758, 7060.487224342653, 8752.137534111976, 10846.313349842187, 13437.300746905154, 16640.669645281763, 20597.647383385724, 25480.155569375, 31496.47405414488, 38897.394302729335, 47982.55930826179, 59106.43115460325, 72682.9470013349, 89187.38390605157, 109153.2244606754, 133160.89956279143, 161814.25047183566, 195699.59888510336, 235321.85731514948, 281012.87621650106, 332810.2740856303, 390311.58853211906, 452519.6396892768, 517710.01318367873, 583367.0962426404, 646243.5534484664, 702588.7505631669, 748555.6184202622, 780734.9896174836, 796702.1185044028, 795426.670076797, 777423.3625854285, 744602.9130398148, 699882.8941188713, 646685.2961004546, 588455.4414886112, 528295.8690764834, 468750.5257592455, 411727.1668800447, 358520.9968588288, 309897.83249906515, 266202.10346808395, 227466.04935916993, 193506.7917983222, 164005.63871936858, 138568.8343491479, 116771.57241651077, 98188.16960705198, 82411.47197245818, 69064.28013571489, 57805.10714701272, 48330.08181825163, 40372.35691089197, 33700.00504067366, 28113.08948538781, 23440.37409037656, 19535.973626405837, 16276.130329762169, 13556.222423103607, 11288.056692869934, 9397.462256483957, 7822.180872591452, 6510.036393807144, 5417.359253643584, 4507.639110746281, 3750.378481355842, 3120.1213775479764, 2595.6329675123898, 2159.208649714387, 1796.0934097442366, 1493.9947399880396, 1242.67465336863, 1033.608366093343, 859.6990435596543, 715.0395997714633, 594.7139260006327, 494.6311168158098, 411.387281188392, 342.150393715152, 284.56437576148113, 236.6692167220587, 196.83446801009038, 163.70388133223926, 136.14933096003608, 113.23246803419758, 94.1728128471994, 78.32120657152767, 65.13772385500414, 54.17329785870025, 45.05443453190899, 37.47049729490478, 31.163130269676643, 25.91746064135145, 21.554781059214164, 17.92646321159486, 14.908895517079728, 12.399272670880965], \"yaxis\": \"y\"}, {\"hoverlabel\": {\"namelength\": 0}, \"hovertemplate\": \"Clase=Asintomaticos o No reportados<br>Dias=%{x}<br>Casos=%{y}\", \"legendgroup\": \"Clase=Asintomaticos o No reportados\", \"line\": {\"color\": \"goldenrod\", \"dash\": \"solid\"}, \"mode\": \"lines\", \"name\": \"Asintomaticos o No reportados\", \"showlegend\": true, \"type\": \"scatter\", \"x\": [0.0, 1.0, 2.0, 3.0, 4.0, 5.0, 6.0, 7.0, 8.0, 9.0, 10.0, 11.0, 12.0, 13.0, 14.0, 15.0, 16.0, 17.0, 18.0, 19.0, 20.0, 21.0, 22.0, 23.0, 24.0, 25.0, 26.0, 27.0, 28.0, 29.0, 30.0, 31.0, 32.0, 33.0, 34.0, 35.0, 36.0, 37.0, 38.0, 39.0, 40.0, 41.0, 42.0, 43.0, 44.0, 45.0, 46.0, 47.0, 48.0, 49.0, 50.0, 51.0, 52.0, 53.0, 54.0, 55.0, 56.0, 57.0, 58.0, 59.0, 60.0, 61.0, 62.0, 63.0, 64.0, 65.0, 66.0, 67.0, 68.0, 69.0, 70.0, 71.0, 72.0, 73.0, 74.0, 75.0, 76.0, 77.0, 78.0, 79.0, 80.0, 81.0, 82.0, 83.0, 84.0, 85.0, 86.0, 87.0, 88.0, 89.0, 90.0, 91.0, 92.0, 93.0, 94.0, 95.0, 96.0, 97.0, 98.0, 99.0, 100.0, 101.0, 102.0, 103.0, 104.0, 105.0, 106.0, 107.0, 108.0, 109.0, 110.0, 111.0, 112.0, 113.0, 114.0, 115.0, 116.0, 117.0, 118.0, 119.0, 120.0], \"xaxis\": \"x\", \"y\": [128.0, 121.088, 115.892438672, 112.53587305124046, 111.18515378184082, 112.07046796914732, 115.49995303016348, 121.87665264601458, 131.71953014322793, 145.68967112873352, 164.62293069787333, 189.57055904169098, 221.84970193635434, 263.10612273512135, 315.39204740148654, 381.26271657476593, 463.8960660355437, 567.2409815078062, 696.2008228464426, 856.8604285267569, 1056.76664004172, 1305.2745748468146, 1613.9744701747668, 1997.2169510885851, 2472.7580514913966, 3062.5491944305154, 3793.701489998801, 4699.657864251229, 5821.610189017017, 7210.200877894986, 8927.54793629969, 11049.626976144835, 13669.029826680158, 16898.092056841255, 20872.333772380745, 25754.079597855725, 31736.00203358703, 39044.15225489044, 47939.7885910953, 58718.97528079761, 71708.50842182091, 87256.27241899077, 105713.74072460957, 127408.20707415241, 152602.78780482142, 181443.70132664056, 213897.2370389, 249683.33526400992, 288218.26670435705, 328583.8105055449, 369541.64527363476, 409606.1728158843, 447175.38732942444, 480700.73104711255, 508860.87943416, 530699.8550451116, 545700.4817990933, 553785.1110915266, 555256.3900477499, 550702.8283850155, 540894.8037665549, 526689.9706235914, 508958.09790500015, 488527.9109373653, 466153.9111279099, 442499.1186542692, 418129.35101970215, 393515.1826983608, 369038.5646463675, 345001.91254874284, 321638.17069629795, 299120.8933075774, 277573.77064498514, 257079.2923856604, 237686.41550515752, 219417.21414417203, 202272.55457224805, 186236.87417706833, 171282.15985729103, 157371.2255102807, 144460.38536600792, 132501.61295164388, 121444.26656055436, 111236.45254983981, 101826.08838789609, 93161.718561556, 85193.12845469409, 77871.79421161738, 71151.20039988571, 64987.051940826226, 59337.40220912582, 54162.71533208089, 49425.87745926528, 45092.169042997615, 41129.207893863204, 37506.87088612237, 34197.20062552874, 31174.302105038016, 28414.233317453894, 25894.89293008351, 23595.90742257792, 21498.519517970384, 19585.479275507343, 17840.9388429367, 16250.351569394472, 14800.375944522058, 13478.784643828647, 12274.37881536617, 11176.907630883457, 10176.993039478659, 9266.059598192045, 8436.269207715743, 7680.460548949574, 6992.092994645514, 6365.194757524728, 5794.315030122896, 5274.479870681107, 4801.15159240584, 4370.191419369314, 3977.8251804065662, 3620.6118219466152], \"yaxis\": \"y\"}, {\"hoverlabel\": {\"namelength\": 0}, \"hovertemplate\": \"Clase=Muertes<br>Dias=%{x}<br>Casos=%{y}\", \"legendgroup\": \"Clase=Muertes\", \"line\": {\"color\": \"blue\", \"dash\": \"solid\"}, \"mode\": \"lines\", \"name\": \"Muertes\", \"showlegend\": true, \"type\": \"scatter\", \"x\": [0.0, 1.0, 2.0, 3.0, 4.0, 5.0, 6.0, 7.0, 8.0, 9.0, 10.0, 11.0, 12.0, 13.0, 14.0, 15.0, 16.0, 17.0, 18.0, 19.0, 20.0, 21.0, 22.0, 23.0, 24.0, 25.0, 26.0, 27.0, 28.0, 29.0, 30.0, 31.0, 32.0, 33.0, 34.0, 35.0, 36.0, 37.0, 38.0, 39.0, 40.0, 41.0, 42.0, 43.0, 44.0, 45.0, 46.0, 47.0, 48.0, 49.0, 50.0, 51.0, 52.0, 53.0, 54.0, 55.0, 56.0, 57.0, 58.0, 59.0, 60.0, 61.0, 62.0, 63.0, 64.0, 65.0, 66.0, 67.0, 68.0, 69.0, 70.0, 71.0, 72.0, 73.0, 74.0, 75.0, 76.0, 77.0, 78.0, 79.0, 80.0, 81.0, 82.0, 83.0, 84.0, 85.0, 86.0, 87.0, 88.0, 89.0, 90.0, 91.0, 92.0, 93.0, 94.0, 95.0, 96.0, 97.0, 98.0, 99.0, 100.0, 101.0, 102.0, 103.0, 104.0, 105.0, 106.0, 107.0, 108.0, 109.0, 110.0, 111.0, 112.0, 113.0, 114.0, 115.0, 116.0, 117.0, 118.0, 119.0, 120.0], \"xaxis\": \"x\", \"y\": [0.0, 0.512, 0.6379520000000001, 0.792030267648, 0.9828959170208337, 1.2196914915110784, 1.513522156230753, 1.8781316976122622, 2.330567943246699, 2.891982332114737, 3.5886177477418997, 4.453032966811738, 5.525620786190795, 6.856489991043746, 8.507797810972868, 10.556639827075895, 13.098629215336448, 16.252327685142326, 20.164727588516485, 25.01802966237655, 31.038015046039952, 38.50437492761194, 47.763437613980514, 59.24382177381433, 73.47564597972634, 91.11403675654012, 112.96779558948244, 140.03420054579163, 173.541013597475, 214.99681195048245, 266.25071432450824, 329.5623581341716, 407.68248911000006, 503.94358486631813, 622.3583088436694, 767.7209489321888, 945.702898473652, 1162.9271520213583, 1426.9981424968253, 1746.4515913708062, 2130.574393004663, 2589.028007549371, 3131.1935821616535, 3765.149717042392, 4496.206019464017, 5324.9643853700845, 6244.985416513905, 7240.31423502843, 8283.36021093886, 9333.873539882246, 10339.896855175462, 11241.420009010671, 11976.889894724194, 12491.759833879738, 12747.233896070444, 12726.826721228752, 12438.773801366857, 11913.646608637038, 11198.12630590194, 10346.964737607273, 9415.28706381778, 8452.733905223735, 7500.0084121479285, 6587.634670080715, 5736.335949741261, 4958.365319985043, 4259.233655489343, 3639.456789746719, 3096.108668773155, 2624.090219509897, 2217.101349586366, 1868.3451586641722, 1571.0107137128318, 1318.5835515593308, 1105.0284821714383, 924.8817143522036, 773.281309092026, 645.9577105742716, 539.2000806507787, 449.80943176620497, 375.045985446025, 312.5755780224934, 260.4180852761947, 216.89955876965772, 180.60890708591893, 150.35939610374334, 125.15489396146324, 104.16058230091431, 86.67774805829735, 72.12222577194052, 60.00605570169347, 49.921942040767625, 41.53012748019824, 34.547338395430195, 28.737494555907787, 23.903915839808636, 19.882794453898082, 16.53773385749349, 13.75518469695447, 11.440633596343414, 9.515422816010124, 7.9140978690529575, 6.582196499014272, 5.474406299442432, 4.553030012183698, 3.7867074675529393, 3.149351488161446, 2.619262101315828, 2.1783892953605775, 1.8117194885471615, 1.5067650055551904, 1.2531393051444426, 1.0422035816800663, 0.866772765739204, 0.7208709525105439, 0.5995279567184766, 0.4986100843148263, 0.4146793702616232, 0.3448764969474266, 0.2868234113855178, 0.23854232827327565], \"yaxis\": \"y\"}],\n",
              "                        {\"legend\": {\"tracegroupgap\": 0}, \"margin\": {\"t\": 60}, \"template\": {\"data\": {\"bar\": [{\"error_x\": {\"color\": \"rgb(51,51,51)\"}, \"error_y\": {\"color\": \"rgb(51,51,51)\"}, \"marker\": {\"line\": {\"color\": \"rgb(237,237,237)\", \"width\": 0.5}}, \"type\": \"bar\"}], \"barpolar\": [{\"marker\": {\"line\": {\"color\": \"rgb(237,237,237)\", \"width\": 0.5}}, \"type\": \"barpolar\"}], \"carpet\": [{\"aaxis\": {\"endlinecolor\": \"rgb(51,51,51)\", \"gridcolor\": \"white\", \"linecolor\": \"white\", \"minorgridcolor\": \"white\", \"startlinecolor\": \"rgb(51,51,51)\"}, \"baxis\": {\"endlinecolor\": \"rgb(51,51,51)\", \"gridcolor\": \"white\", \"linecolor\": \"white\", \"minorgridcolor\": \"white\", \"startlinecolor\": \"rgb(51,51,51)\"}, \"type\": \"carpet\"}], \"choropleth\": [{\"colorbar\": {\"outlinewidth\": 0, \"tickcolor\": \"rgb(237,237,237)\", \"ticklen\": 6, \"ticks\": \"inside\"}, \"type\": \"choropleth\"}], \"contour\": [{\"colorbar\": {\"outlinewidth\": 0, \"tickcolor\": \"rgb(237,237,237)\", \"ticklen\": 6, \"ticks\": \"inside\"}, \"colorscale\": [[0, \"rgb(20,44,66)\"], [1, \"rgb(90,179,244)\"]], \"type\": \"contour\"}], \"contourcarpet\": [{\"colorbar\": {\"outlinewidth\": 0, \"tickcolor\": \"rgb(237,237,237)\", \"ticklen\": 6, \"ticks\": \"inside\"}, \"type\": \"contourcarpet\"}], \"heatmap\": [{\"colorbar\": {\"outlinewidth\": 0, \"tickcolor\": \"rgb(237,237,237)\", \"ticklen\": 6, \"ticks\": \"inside\"}, \"colorscale\": [[0, \"rgb(20,44,66)\"], [1, \"rgb(90,179,244)\"]], \"type\": \"heatmap\"}], \"heatmapgl\": [{\"colorbar\": {\"outlinewidth\": 0, \"tickcolor\": \"rgb(237,237,237)\", \"ticklen\": 6, \"ticks\": \"inside\"}, \"colorscale\": [[0, \"rgb(20,44,66)\"], [1, \"rgb(90,179,244)\"]], \"type\": \"heatmapgl\"}], \"histogram\": [{\"marker\": {\"colorbar\": {\"outlinewidth\": 0, \"tickcolor\": \"rgb(237,237,237)\", \"ticklen\": 6, \"ticks\": \"inside\"}}, \"type\": \"histogram\"}], \"histogram2d\": [{\"colorbar\": {\"outlinewidth\": 0, \"tickcolor\": \"rgb(237,237,237)\", \"ticklen\": 6, \"ticks\": \"inside\"}, \"colorscale\": [[0, \"rgb(20,44,66)\"], [1, \"rgb(90,179,244)\"]], \"type\": \"histogram2d\"}], \"histogram2dcontour\": [{\"colorbar\": {\"outlinewidth\": 0, \"tickcolor\": \"rgb(237,237,237)\", \"ticklen\": 6, \"ticks\": \"inside\"}, \"colorscale\": [[0, \"rgb(20,44,66)\"], [1, \"rgb(90,179,244)\"]], \"type\": \"histogram2dcontour\"}], \"mesh3d\": [{\"colorbar\": {\"outlinewidth\": 0, \"tickcolor\": \"rgb(237,237,237)\", \"ticklen\": 6, \"ticks\": \"inside\"}, \"type\": \"mesh3d\"}], \"parcoords\": [{\"line\": {\"colorbar\": {\"outlinewidth\": 0, \"tickcolor\": \"rgb(237,237,237)\", \"ticklen\": 6, \"ticks\": \"inside\"}}, \"type\": \"parcoords\"}], \"pie\": [{\"automargin\": true, \"type\": \"pie\"}], \"scatter\": [{\"marker\": {\"colorbar\": {\"outlinewidth\": 0, \"tickcolor\": \"rgb(237,237,237)\", \"ticklen\": 6, \"ticks\": \"inside\"}}, \"type\": \"scatter\"}], \"scatter3d\": [{\"line\": {\"colorbar\": {\"outlinewidth\": 0, \"tickcolor\": \"rgb(237,237,237)\", \"ticklen\": 6, \"ticks\": \"inside\"}}, \"marker\": {\"colorbar\": {\"outlinewidth\": 0, \"tickcolor\": \"rgb(237,237,237)\", \"ticklen\": 6, \"ticks\": \"inside\"}}, \"type\": \"scatter3d\"}], \"scattercarpet\": [{\"marker\": {\"colorbar\": {\"outlinewidth\": 0, \"tickcolor\": \"rgb(237,237,237)\", \"ticklen\": 6, \"ticks\": \"inside\"}}, \"type\": \"scattercarpet\"}], \"scattergeo\": [{\"marker\": {\"colorbar\": {\"outlinewidth\": 0, \"tickcolor\": \"rgb(237,237,237)\", \"ticklen\": 6, \"ticks\": \"inside\"}}, \"type\": \"scattergeo\"}], \"scattergl\": [{\"marker\": {\"colorbar\": {\"outlinewidth\": 0, \"tickcolor\": \"rgb(237,237,237)\", \"ticklen\": 6, \"ticks\": \"inside\"}}, \"type\": \"scattergl\"}], \"scattermapbox\": [{\"marker\": {\"colorbar\": {\"outlinewidth\": 0, \"tickcolor\": \"rgb(237,237,237)\", \"ticklen\": 6, \"ticks\": \"inside\"}}, \"type\": \"scattermapbox\"}], \"scatterpolar\": [{\"marker\": {\"colorbar\": {\"outlinewidth\": 0, \"tickcolor\": \"rgb(237,237,237)\", \"ticklen\": 6, \"ticks\": \"inside\"}}, \"type\": \"scatterpolar\"}], \"scatterpolargl\": [{\"marker\": {\"colorbar\": {\"outlinewidth\": 0, \"tickcolor\": \"rgb(237,237,237)\", \"ticklen\": 6, \"ticks\": \"inside\"}}, \"type\": \"scatterpolargl\"}], \"scatterternary\": [{\"marker\": {\"colorbar\": {\"outlinewidth\": 0, \"tickcolor\": \"rgb(237,237,237)\", \"ticklen\": 6, \"ticks\": \"inside\"}}, \"type\": \"scatterternary\"}], \"surface\": [{\"colorbar\": {\"outlinewidth\": 0, \"tickcolor\": \"rgb(237,237,237)\", \"ticklen\": 6, \"ticks\": \"inside\"}, \"colorscale\": [[0, \"rgb(20,44,66)\"], [1, \"rgb(90,179,244)\"]], \"type\": \"surface\"}], \"table\": [{\"cells\": {\"fill\": {\"color\": \"rgb(237,237,237)\"}, \"line\": {\"color\": \"white\"}}, \"header\": {\"fill\": {\"color\": \"rgb(217,217,217)\"}, \"line\": {\"color\": \"white\"}}, \"type\": \"table\"}]}, \"layout\": {\"annotationdefaults\": {\"arrowhead\": 0, \"arrowwidth\": 1}, \"coloraxis\": {\"colorbar\": {\"outlinewidth\": 0, \"tickcolor\": \"rgb(237,237,237)\", \"ticklen\": 6, \"ticks\": \"inside\"}}, \"colorscale\": {\"sequential\": [[0, \"rgb(20,44,66)\"], [1, \"rgb(90,179,244)\"]], \"sequentialminus\": [[0, \"rgb(20,44,66)\"], [1, \"rgb(90,179,244)\"]]}, \"colorway\": [\"#F8766D\", \"#A3A500\", \"#00BF7D\", \"#00B0F6\", \"#E76BF3\"], \"font\": {\"color\": \"rgb(51,51,51)\"}, \"geo\": {\"bgcolor\": \"white\", \"lakecolor\": \"white\", \"landcolor\": \"rgb(237,237,237)\", \"showlakes\": true, \"showland\": true, \"subunitcolor\": \"white\"}, \"hoverlabel\": {\"align\": \"left\"}, \"hovermode\": \"closest\", \"paper_bgcolor\": \"white\", \"plot_bgcolor\": \"rgb(237,237,237)\", \"polar\": {\"angularaxis\": {\"gridcolor\": \"white\", \"linecolor\": \"white\", \"showgrid\": true, \"tickcolor\": \"rgb(51,51,51)\", \"ticks\": \"outside\"}, \"bgcolor\": \"rgb(237,237,237)\", \"radialaxis\": {\"gridcolor\": \"white\", \"linecolor\": \"white\", \"showgrid\": true, \"tickcolor\": \"rgb(51,51,51)\", \"ticks\": \"outside\"}}, \"scene\": {\"xaxis\": {\"backgroundcolor\": \"rgb(237,237,237)\", \"gridcolor\": \"white\", \"gridwidth\": 2, \"linecolor\": \"white\", \"showbackground\": true, \"showgrid\": true, \"tickcolor\": \"rgb(51,51,51)\", \"ticks\": \"outside\", \"zerolinecolor\": \"white\"}, \"yaxis\": {\"backgroundcolor\": \"rgb(237,237,237)\", \"gridcolor\": \"white\", \"gridwidth\": 2, \"linecolor\": \"white\", \"showbackground\": true, \"showgrid\": true, \"tickcolor\": \"rgb(51,51,51)\", \"ticks\": \"outside\", \"zerolinecolor\": \"white\"}, \"zaxis\": {\"backgroundcolor\": \"rgb(237,237,237)\", \"gridcolor\": \"white\", \"gridwidth\": 2, \"linecolor\": \"white\", \"showbackground\": true, \"showgrid\": true, \"tickcolor\": \"rgb(51,51,51)\", \"ticks\": \"outside\", \"zerolinecolor\": \"white\"}}, \"shapedefaults\": {\"fillcolor\": \"black\", \"line\": {\"width\": 0}, \"opacity\": 0.3}, \"ternary\": {\"aaxis\": {\"gridcolor\": \"white\", \"linecolor\": \"white\", \"showgrid\": true, \"tickcolor\": \"rgb(51,51,51)\", \"ticks\": \"outside\"}, \"baxis\": {\"gridcolor\": \"white\", \"linecolor\": \"white\", \"showgrid\": true, \"tickcolor\": \"rgb(51,51,51)\", \"ticks\": \"outside\"}, \"bgcolor\": \"rgb(237,237,237)\", \"caxis\": {\"gridcolor\": \"white\", \"linecolor\": \"white\", \"showgrid\": true, \"tickcolor\": \"rgb(51,51,51)\", \"ticks\": \"outside\"}}, \"xaxis\": {\"automargin\": true, \"gridcolor\": \"white\", \"linecolor\": \"white\", \"showgrid\": true, \"tickcolor\": \"rgb(51,51,51)\", \"ticks\": \"outside\", \"title\": {\"standoff\": 15}, \"zerolinecolor\": \"white\"}, \"yaxis\": {\"automargin\": true, \"gridcolor\": \"white\", \"linecolor\": \"white\", \"showgrid\": true, \"tickcolor\": \"rgb(51,51,51)\", \"ticks\": \"outside\", \"title\": {\"standoff\": 15}, \"zerolinecolor\": \"white\"}}}, \"title\": {\"text\": \"Predicci\\u00f3n del modelo SEAIR de la evoluci\\u00f3n de COVID-19 en Jalisco, Escenario: Base\"}, \"xaxis\": {\"anchor\": \"y\", \"domain\": [0.0, 1.0], \"title\": {\"text\": \"D\\u00edas\"}}, \"yaxis\": {\"anchor\": \"x\", \"domain\": [0.0, 1.0], \"title\": {\"text\": \"Casos Totales\"}}},\n",
              "                        {\"responsive\": true}\n",
              "                    ).then(function(){\n",
              "                            \n",
              "var gd = document.getElementById('0c67b54f-493f-4eab-abea-53613608d6f6');\n",
              "var x = new MutationObserver(function (mutations, observer) {{\n",
              "        var display = window.getComputedStyle(gd).display;\n",
              "        if (!display || display === 'none') {{\n",
              "            console.log([gd, 'removed!']);\n",
              "            Plotly.purge(gd);\n",
              "            observer.disconnect();\n",
              "        }}\n",
              "}});\n",
              "\n",
              "// Listen for the removal of the full notebook cells\n",
              "var notebookContainer = gd.closest('#notebook-container');\n",
              "if (notebookContainer) {{\n",
              "    x.observe(notebookContainer, {childList: true});\n",
              "}}\n",
              "\n",
              "// Listen for the clearing of the current output cell\n",
              "var outputEl = gd.closest('.output');\n",
              "if (outputEl) {{\n",
              "    x.observe(outputEl, {childList: true});\n",
              "}}\n",
              "\n",
              "                        })\n",
              "                };\n",
              "                \n",
              "            </script>\n",
              "        </div>\n",
              "</body>\n",
              "</html>"
            ]
          },
          "metadata": {
            "tags": []
          }
        }
      ]
    },
    {
      "cell_type": "code",
      "metadata": {
        "id": "RGYaaf7rHGNg",
        "colab_type": "code",
        "colab": {
          "base_uri": "https://localhost:8080/",
          "height": 542
        },
        "outputId": "14c31bf6-b73d-4d5b-8178-fffd3822095e"
      },
      "source": [
        "#@title Escenario Optimista: Ro = 1.5, no intervencion { display-mode: \"form\" }\n",
        "\n",
        "S,E,A,I,R,D, intervencion = SEAIR_D(Condiciones_Iniciales,parametros,periodo_evaluacion,\"Optimista\",1,120)\n",
        "E_a = np.array(E)*Population\n",
        "I_a = np.array(I)*Population\n",
        "A_a = np.array(A)*Population\n",
        "D_a = np.array(D)*Population\n",
        "Clase = np.array([\"Expuestos\"]*np.array(E).shape[0] + [\"Infectados\"]*np.array(E).shape[0]+ \n",
        "                  [\"Asintomaticos o No reportados\"]*np.array(E).shape[0] + [\"Muertes\"]*np.array(E).shape[0])\n",
        "Dias = np.concatenate([periodo_evaluacion,periodo_evaluacion,periodo_evaluacion,periodo_evaluacion])\n",
        "SEIR_df = pd.DataFrame({\n",
        "    \"Casos\": np.concatenate([E_a,I_a,A_a,D_a]),\n",
        "    \"Clase\": Clase,\n",
        "    \"Dias\" : Dias\n",
        "})\n",
        "\n",
        "fig = px.line(SEIR_df, x=\"Dias\", y=\"Casos\", color='Clase',color_discrete_sequence=[\"green\", \"red\", \"goldenrod\", \"blue\"], template = \"ggplot2\")\n",
        "\n",
        "fig.update_layout(\n",
        "    title=f\"Predicción del modelo SEAIR de la evolución de COVID-19 en Jalisco, Escenario: {intervencion}\",\n",
        "    \n",
        "    xaxis_title=\"Días\",\n",
        "    yaxis_title=\"Casos Totales\",\n",
        "    )\n",
        "\n",
        "for trace in fig.data:\n",
        "    trace.name = trace.name.split('=')[1]\n",
        "\n",
        "fig.show()"
      ],
      "execution_count": 37,
      "outputs": [
        {
          "output_type": "display_data",
          "data": {
            "text/html": [
              "<html>\n",
              "<head><meta charset=\"utf-8\" /></head>\n",
              "<body>\n",
              "    <div>\n",
              "            <script src=\"https://cdnjs.cloudflare.com/ajax/libs/mathjax/2.7.5/MathJax.js?config=TeX-AMS-MML_SVG\"></script><script type=\"text/javascript\">if (window.MathJax) {MathJax.Hub.Config({SVG: {font: \"STIX-Web\"}});}</script>\n",
              "                <script type=\"text/javascript\">window.PlotlyConfig = {MathJaxConfig: 'local'};</script>\n",
              "        <script src=\"https://cdn.plot.ly/plotly-latest.min.js\"></script>    \n",
              "            <div id=\"d728ada1-55a4-4ec2-8e15-ea2ec7812696\" class=\"plotly-graph-div\" style=\"height:525px; width:100%;\"></div>\n",
              "            <script type=\"text/javascript\">\n",
              "                \n",
              "                    window.PLOTLYENV=window.PLOTLYENV || {};\n",
              "                    \n",
              "                if (document.getElementById(\"d728ada1-55a4-4ec2-8e15-ea2ec7812696\")) {\n",
              "                    Plotly.newPlot(\n",
              "                        'd728ada1-55a4-4ec2-8e15-ea2ec7812696',\n",
              "                        [{\"hoverlabel\": {\"namelength\": 0}, \"hovertemplate\": \"Clase=Expuestos<br>Dias=%{x}<br>Casos=%{y}\", \"legendgroup\": \"Clase=Expuestos\", \"line\": {\"color\": \"green\", \"dash\": \"solid\"}, \"mode\": \"lines\", \"name\": \"Expuestos\", \"showlegend\": true, \"type\": \"scatter\", \"x\": [0.0, 1.0, 2.0, 3.0, 4.0, 5.0, 6.0, 7.0, 8.0, 9.0, 10.0, 11.0, 12.0, 13.0, 14.0, 15.0, 16.0, 17.0, 18.0, 19.0, 20.0, 21.0, 22.0, 23.0, 24.0, 25.0, 26.0, 27.0, 28.0, 29.0, 30.0, 31.0, 32.0, 33.0, 34.0, 35.0, 36.0, 37.0, 38.0, 39.0, 40.0, 41.0, 42.0, 43.0, 44.0, 45.0, 46.0, 47.0, 48.0, 49.0, 50.0, 51.0, 52.0, 53.0, 54.0, 55.0, 56.0, 57.0, 58.0, 59.0, 60.0, 61.0, 62.0, 63.0, 64.0, 65.0, 66.0, 67.0, 68.0, 69.0, 70.0, 71.0, 72.0, 73.0, 74.0, 75.0, 76.0, 77.0, 78.0, 79.0, 80.0, 81.0, 82.0, 83.0, 84.0, 85.0, 86.0, 87.0, 88.0, 89.0, 90.0, 91.0, 92.0, 93.0, 94.0, 95.0, 96.0, 97.0, 98.0, 99.0, 100.0, 101.0, 102.0, 103.0, 104.0, 105.0, 106.0, 107.0, 108.0, 109.0, 110.0, 111.0, 112.0, 113.0, 114.0, 115.0, 116.0, 117.0, 118.0, 119.0, 120.0], \"xaxis\": \"x\", \"y\": [128.0, 126.399508, 131.0229036578391, 138.0079183724031, 146.10342609968254, 154.91829625479807, 164.34549971961962, 174.37276883189588, 185.02040228716479, 196.32089378000163, 208.31232194581517, 221.0362719701813, 234.53725349471458, 248.86261680731474, 264.0626394287111, 280.19067563825854, 297.30333400634873, 315.46067187864395, 334.7264036361551, 355.16812217311707, 376.85753392359663, 399.87070808956236, 424.28834085991934, 450.1960354875374, 477.68459915100135, 506.85035758337665, 537.7954885062748, 570.6283749654773, 605.4639797249102, 642.4242419390787, 681.6384973903179, 723.2439236464567, 767.3860115667951, 814.2190646597152, 863.9067278737905, 916.6225474859627, 972.5505638351858, 1031.8859387378727, 1094.8356195124522, 1161.6190416342338, 1232.46887213848, 1307.6317959888606, 1387.3693477301174, 1471.9587908474489, 1561.6940473604861, 1656.8866802862826, 1757.8669317129456, 1864.9848193327052, 1978.6112943895773, 2099.139464101376, 2226.9858817175955, 2362.5919074723315, 2506.42514378344, 2658.980948133916, 2820.784027146918, 2992.3901154298464, 3174.387742812709, 3367.400093638802, 3572.0869617780877, 3789.1468050217763, 4019.318902476185, 4263.385618500051, 4522.174776616636, 4796.562146673893, 5087.47404831582, 5395.890073557912, 5722.845930920773, 6069.436413158515, 6436.818490111854, 6826.214527607549, 7238.9156326027605, 7676.285123920115, 8139.762126920418, 8630.865289297122, 9151.196613829998, 9702.445402383531, 10286.392303654715, 10904.913455139736, 11559.98470747196, 12253.685916654711, 12988.205286740225, 13765.843742156458, 14589.019305120779, 15460.271449366186, 16382.265396702338, 17357.796317700384, 18389.793391986073, 19481.32367720911, 20635.59572868808, 21855.962903970943, 23145.926278066094, 24509.13708585786, 25949.39859819871, 27470.66732735425, 29077.053445861722, 30772.820290460877, 32562.382809596522, 34450.304799127945, 36441.29475639197, 38540.20016776676, 40752.00002952505, 43081.79538624773, 45534.79765564186, 48116.31449358716, 50831.73293900189, 53686.499565136495, 56686.0973527175, 59836.018991619334, 63141.73631218102, 66608.6655457637, 70242.12811762694, 74047.30668476688, 78029.19614819519, 82192.54939453604, 86541.81755715807, 91081.08463378367, 95813.99635710844, 100743.68328889037, 105872.67819764004, 111202.8278867357, 116735.19976456628], \"yaxis\": \"y\"}, {\"hoverlabel\": {\"namelength\": 0}, \"hovertemplate\": \"Clase=Infectados<br>Dias=%{x}<br>Casos=%{y}\", \"legendgroup\": \"Clase=Infectados\", \"line\": {\"color\": \"red\", \"dash\": \"solid\"}, \"mode\": \"lines\", \"name\": \"Infectados\", \"showlegend\": true, \"type\": \"scatter\", \"x\": [0.0, 1.0, 2.0, 3.0, 4.0, 5.0, 6.0, 7.0, 8.0, 9.0, 10.0, 11.0, 12.0, 13.0, 14.0, 15.0, 16.0, 17.0, 18.0, 19.0, 20.0, 21.0, 22.0, 23.0, 24.0, 25.0, 26.0, 27.0, 28.0, 29.0, 30.0, 31.0, 32.0, 33.0, 34.0, 35.0, 36.0, 37.0, 38.0, 39.0, 40.0, 41.0, 42.0, 43.0, 44.0, 45.0, 46.0, 47.0, 48.0, 49.0, 50.0, 51.0, 52.0, 53.0, 54.0, 55.0, 56.0, 57.0, 58.0, 59.0, 60.0, 61.0, 62.0, 63.0, 64.0, 65.0, 66.0, 67.0, 68.0, 69.0, 70.0, 71.0, 72.0, 73.0, 74.0, 75.0, 76.0, 77.0, 78.0, 79.0, 80.0, 81.0, 82.0, 83.0, 84.0, 85.0, 86.0, 87.0, 88.0, 89.0, 90.0, 91.0, 92.0, 93.0, 94.0, 95.0, 96.0, 97.0, 98.0, 99.0, 100.0, 101.0, 102.0, 103.0, 104.0, 105.0, 106.0, 107.0, 108.0, 109.0, 110.0, 111.0, 112.0, 113.0, 114.0, 115.0, 116.0, 117.0, 118.0, 119.0, 120.0], \"xaxis\": \"x\", \"y\": [32.0, 39.872, 44.253999312000005, 47.597615793965616, 50.71589193151382, 53.883338119941094, 57.197770076552125, 60.699346299183375, 64.40974840494913, 68.34509753401501, 72.52023412498912, 76.95015893285728, 81.65054237349553, 86.63792957349555, 91.92984760476199, 97.5448829531182, 103.50275174701414, 109.82437030777955, 116.53192866968753, 123.64896811144509, 131.20046322214378, 139.21290886453468, 147.7144123567637, 156.73479119151733, 166.30567662295138, 176.46062346830556, 187.23522648997405, 198.66724374411373, 210.79672730336537, 223.66616178387085, 237.32061113049272, 251.80787413900282, 267.1786492200306, 283.48670893677246, 300.7890848768891, 319.1462634486662, 338.62239322241095, 359.2855044701929, 381.207741590425, 404.4656091383929, 429.1402322196662, 455.31763204031375, 483.0890174459583, 512.5510933208546, 543.8063867582858, 576.9635919545084, 612.1379348201103, 649.4515583447882, 689.0339297939887, 731.022270858344, 775.5620119190486, 822.8072716339244, 872.9213630894778, 926.0773278032761, 982.4584988978951, 1042.2590948018528, 1105.6848448635878, 1172.9536482908013, 1244.2962678483361, 1319.9570597621248, 1400.1947412832249, 1485.283197363197, 1575.5123278782946, 1671.188936813322, 1772.6376647743787, 1880.2019661406778, 1994.2451320864975, 2115.15136060204, 2243.3268745132, 2379.201088341132, 2523.227824648906, 2675.886580289707, 2837.6838426938257, 3009.1544560043058, 3190.8630364872683, 3383.405436195608, 3587.410253346308, 3803.540387273695, 4032.4946351343974, 4275.009326754696, 4531.859993116643, 4803.863062964217, 5091.877580862547, 5396.806938748711, 5719.600611557794, 6061.255885878282, 6422.81956877105, 6805.389661860636, 7210.1169835600695, 7638.206719805286, 8090.919880936353, 8569.574639355287, 9075.54751930031, 9610.274406491772, 10175.251341516243, 10772.035056615905, 11402.24321103897, 12067.554275286822, 12769.707009476208, 13510.499475639248, 14291.787518140904, 15115.482640545242, 15983.549201266324, 16898.000844272396, 17860.89607506901, 18874.332886287026, 19940.44233159173, 21061.38094148479, 22239.321870101598, 23476.44465855763, 24774.92349805425, 26136.913875142825, 27564.537482636035, 29059.865283059273, 30624.89861770888, 32261.54826382216, 33971.611355595596, 35756.746102367186, 37618.44425977466, 39558.00133768002, 41576.48456265587], \"yaxis\": \"y\"}, {\"hoverlabel\": {\"namelength\": 0}, \"hovertemplate\": \"Clase=Asintomaticos o No reportados<br>Dias=%{x}<br>Casos=%{y}\", \"legendgroup\": \"Clase=Asintomaticos o No reportados\", \"line\": {\"color\": \"goldenrod\", \"dash\": \"solid\"}, \"mode\": \"lines\", \"name\": \"Asintomaticos o No reportados\", \"showlegend\": true, \"type\": \"scatter\", \"x\": [0.0, 1.0, 2.0, 3.0, 4.0, 5.0, 6.0, 7.0, 8.0, 9.0, 10.0, 11.0, 12.0, 13.0, 14.0, 15.0, 16.0, 17.0, 18.0, 19.0, 20.0, 21.0, 22.0, 23.0, 24.0, 25.0, 26.0, 27.0, 28.0, 29.0, 30.0, 31.0, 32.0, 33.0, 34.0, 35.0, 36.0, 37.0, 38.0, 39.0, 40.0, 41.0, 42.0, 43.0, 44.0, 45.0, 46.0, 47.0, 48.0, 49.0, 50.0, 51.0, 52.0, 53.0, 54.0, 55.0, 56.0, 57.0, 58.0, 59.0, 60.0, 61.0, 62.0, 63.0, 64.0, 65.0, 66.0, 67.0, 68.0, 69.0, 70.0, 71.0, 72.0, 73.0, 74.0, 75.0, 76.0, 77.0, 78.0, 79.0, 80.0, 81.0, 82.0, 83.0, 84.0, 85.0, 86.0, 87.0, 88.0, 89.0, 90.0, 91.0, 92.0, 93.0, 94.0, 95.0, 96.0, 97.0, 98.0, 99.0, 100.0, 101.0, 102.0, 103.0, 104.0, 105.0, 106.0, 107.0, 108.0, 109.0, 110.0, 111.0, 112.0, 113.0, 114.0, 115.0, 116.0, 117.0, 118.0, 119.0, 120.0], \"xaxis\": \"x\", \"y\": [128.0, 121.088, 114.74046228799999, 109.1306452137622, 104.2771722059301, 100.15195004698496, 96.71533320792905, 93.92739120912174, 91.75134567824902, 90.15445904954454, 89.1081099111656, 88.58762360921003, 88.57204327530766, 89.0439005063397, 89.98900366583246, 91.39624835534114, 93.25745032633775, 95.5671998211959, 98.32273602491945, 101.52384031357828, 105.17274708358845, 109.27407106731496, 113.83475016248086, 118.86400291881468, 124.3732999336727, 130.3763485090782, 136.88909001626274, 143.92970950102497, 151.5186571446899, 159.6786812717646, 168.43487266711261, 177.81472003312393, 187.8481764814152, 198.56773701449248, 210.00852701093794, 222.20840178340998, 235.20805733239774, 249.05115247054863, 263.7844425427627, 279.4579250163623, 296.12499726372215, 313.84262690697244, 332.6715351409439, 352.6763934965432, 373.9260345523625, 396.4936771476274, 420.4571666946471, 445.899231233795, 472.9077539187308, 501.5760626640698, 532.003237731953, 564.2944380779106, 598.5612473199027, 634.9220402373153, 673.5023707487779, 714.435382358677, 757.8622421018706, 803.9325990539597, 852.8050685101002, 904.6477429682025, 959.6387310818483, 1017.9667257736245, 1079.83160272, 1145.4450504333988, 1215.0312331746534, 1288.827487928304, 1367.0850566628417, 1450.0698550763339, 1538.0632789931703, 1631.3630495278119, 1730.2840980641806, 1835.1594920121036, 1946.3414021921385, 2064.202112563981, 2189.135072847919, 2321.5559943894864, 2461.9039893802396, 2610.642753267588, 2768.2617898585354, 2935.277678240258, 3112.235380198204, 3299.709586303014, 3498.3060982533752, 3708.6632443949193, 3931.4533245765597, 4167.3840796459535, 4417.200179915032, 4681.684725834178, 4961.66075288863, 5257.992731361424, 5571.58805008185, 5903.398471584863, 6254.421544233109, 6625.701954787282, 7018.33280264118, 7433.456774454496, 7872.267195210184, 8336.008928786743, 8825.979097964542, 9343.527590377844, 9890.057313283442, 10467.024156150834, 11075.936616002178, 11718.355036165089, 12395.890404679369, 13110.202654062294, 13862.9983995416, 14656.028048280687, 15491.08220763372, 16369.987316185203, 17294.600417376027, 18266.802992046752, 19288.493763414153, 20361.580386041904, 21487.96992950143, 22669.558067903992, 23908.216888608848, 25205.781237489955, 26564.033524515915, 27984.686922424524, 29469.366903328806], \"yaxis\": \"y\"}, {\"hoverlabel\": {\"namelength\": 0}, \"hovertemplate\": \"Clase=Muertes<br>Dias=%{x}<br>Casos=%{y}\", \"legendgroup\": \"Clase=Muertes\", \"line\": {\"color\": \"blue\", \"dash\": \"solid\"}, \"mode\": \"lines\", \"name\": \"Muertes\", \"showlegend\": true, \"type\": \"scatter\", \"x\": [0.0, 1.0, 2.0, 3.0, 4.0, 5.0, 6.0, 7.0, 8.0, 9.0, 10.0, 11.0, 12.0, 13.0, 14.0, 15.0, 16.0, 17.0, 18.0, 19.0, 20.0, 21.0, 22.0, 23.0, 24.0, 25.0, 26.0, 27.0, 28.0, 29.0, 30.0, 31.0, 32.0, 33.0, 34.0, 35.0, 36.0, 37.0, 38.0, 39.0, 40.0, 41.0, 42.0, 43.0, 44.0, 45.0, 46.0, 47.0, 48.0, 49.0, 50.0, 51.0, 52.0, 53.0, 54.0, 55.0, 56.0, 57.0, 58.0, 59.0, 60.0, 61.0, 62.0, 63.0, 64.0, 65.0, 66.0, 67.0, 68.0, 69.0, 70.0, 71.0, 72.0, 73.0, 74.0, 75.0, 76.0, 77.0, 78.0, 79.0, 80.0, 81.0, 82.0, 83.0, 84.0, 85.0, 86.0, 87.0, 88.0, 89.0, 90.0, 91.0, 92.0, 93.0, 94.0, 95.0, 96.0, 97.0, 98.0, 99.0, 100.0, 101.0, 102.0, 103.0, 104.0, 105.0, 106.0, 107.0, 108.0, 109.0, 110.0, 111.0, 112.0, 113.0, 114.0, 115.0, 116.0, 117.0, 118.0, 119.0, 120.0], \"xaxis\": \"x\", \"y\": [0.0, 0.512, 0.6379520000000001, 0.7080639889920001, 0.7615618527034499, 0.8114542709042213, 0.8621334099190576, 0.915164321224834, 0.9711895407869341, 1.030555974479186, 1.0935215605442403, 1.1603237459998261, 1.2312025429257165, 1.3064086779759285, 1.3862068731759287, 1.470877561676192, 1.5607181272498911, 1.6560440279522262, 1.7571899249244727, 1.8645108587150006, 1.9783834897831214, 2.0992074115543007, 2.227406541832555, 2.363430597708219, 2.5077566590642775, 2.660890825967222, 2.8233699754928887, 2.995763623839585, 3.17867589990582, 3.372747636853846, 3.5786585885419337, 3.7971297780878834, 4.028925986224045, 4.2748583875204895, 4.5357873429883595, 4.812625358030226, 5.10634021517866, 5.417958291558576, 5.748568071523087, 6.0993238654468, 6.471449746214287, 6.866243715514659, 7.2850821126450205, 7.729424279135332, 8.200817493133673, 8.700902188132574, 9.231417471272135, 9.794206957121766, 10.391224933516611, 11.02454287670382, 11.696356333733503, 12.408992190704778, 13.16491634614279, 13.966741809431646, 14.81723724485242, 15.71933598236632, 16.676145516829646, 17.690957517817406, 18.76725837265282, 19.908740285573376, 21.119312956193994, 22.4031158605316, 23.764531157811152, 25.208197246052716, 26.739022989013154, 28.36220263639006, 30.083231458250847, 31.907922113383957, 33.84242176963264, 35.8932299922112, 38.06721741345812, 40.371645194382495, 42.814185284635315, 45.402941483101216, 48.146471296068896, 51.0538085837963, 54.13448697912973, 57.39856405354093, 60.856646196379124, 64.51991416215037, 68.40014922807514, 72.50975988986629, 76.86180900742747, 81.47004129380075, 86.34891101997938, 91.51360978492471, 96.98009417405252, 102.7651131003368, 108.88623458977018, 115.3618717369611, 122.2113075168846, 129.45471809498164, 137.1131942296846, 145.20876030880495, 153.76439050386833, 162.80402146425988, 172.3525609058545, 182.4358913766235, 193.08086840458915, 204.31531215161934, 216.16799161022794, 228.6686002902545, 241.8477222487239, 255.73678722026116, 270.36801350835833, 285.7743372011042, 301.9893261805924, 319.04707730546767, 336.9820950637567, 355.82914992162557, 375.6231145369221, 396.398775968868, 418.19062200228524, 441.0325997221766, 464.9578445289483, 489.9983778833421, 516.1847722211546, 543.5457816895295, 572.107937637875, 601.8951081563946, 632.9280214028803], \"yaxis\": \"y\"}],\n",
              "                        {\"legend\": {\"tracegroupgap\": 0}, \"margin\": {\"t\": 60}, \"template\": {\"data\": {\"bar\": [{\"error_x\": {\"color\": \"rgb(51,51,51)\"}, \"error_y\": {\"color\": \"rgb(51,51,51)\"}, \"marker\": {\"line\": {\"color\": \"rgb(237,237,237)\", \"width\": 0.5}}, \"type\": \"bar\"}], \"barpolar\": [{\"marker\": {\"line\": {\"color\": \"rgb(237,237,237)\", \"width\": 0.5}}, \"type\": \"barpolar\"}], \"carpet\": [{\"aaxis\": {\"endlinecolor\": \"rgb(51,51,51)\", \"gridcolor\": \"white\", \"linecolor\": \"white\", \"minorgridcolor\": \"white\", \"startlinecolor\": \"rgb(51,51,51)\"}, \"baxis\": {\"endlinecolor\": \"rgb(51,51,51)\", \"gridcolor\": \"white\", \"linecolor\": \"white\", \"minorgridcolor\": \"white\", \"startlinecolor\": \"rgb(51,51,51)\"}, \"type\": \"carpet\"}], \"choropleth\": [{\"colorbar\": {\"outlinewidth\": 0, \"tickcolor\": \"rgb(237,237,237)\", \"ticklen\": 6, \"ticks\": \"inside\"}, \"type\": \"choropleth\"}], \"contour\": [{\"colorbar\": {\"outlinewidth\": 0, \"tickcolor\": \"rgb(237,237,237)\", \"ticklen\": 6, \"ticks\": \"inside\"}, \"colorscale\": [[0, \"rgb(20,44,66)\"], [1, \"rgb(90,179,244)\"]], \"type\": \"contour\"}], \"contourcarpet\": [{\"colorbar\": {\"outlinewidth\": 0, \"tickcolor\": \"rgb(237,237,237)\", \"ticklen\": 6, \"ticks\": \"inside\"}, \"type\": \"contourcarpet\"}], \"heatmap\": [{\"colorbar\": {\"outlinewidth\": 0, \"tickcolor\": \"rgb(237,237,237)\", \"ticklen\": 6, \"ticks\": \"inside\"}, \"colorscale\": [[0, \"rgb(20,44,66)\"], [1, \"rgb(90,179,244)\"]], \"type\": \"heatmap\"}], \"heatmapgl\": [{\"colorbar\": {\"outlinewidth\": 0, \"tickcolor\": \"rgb(237,237,237)\", \"ticklen\": 6, \"ticks\": \"inside\"}, \"colorscale\": [[0, \"rgb(20,44,66)\"], [1, \"rgb(90,179,244)\"]], \"type\": \"heatmapgl\"}], \"histogram\": [{\"marker\": {\"colorbar\": {\"outlinewidth\": 0, \"tickcolor\": \"rgb(237,237,237)\", \"ticklen\": 6, \"ticks\": \"inside\"}}, \"type\": \"histogram\"}], \"histogram2d\": [{\"colorbar\": {\"outlinewidth\": 0, \"tickcolor\": \"rgb(237,237,237)\", \"ticklen\": 6, \"ticks\": \"inside\"}, \"colorscale\": [[0, \"rgb(20,44,66)\"], [1, \"rgb(90,179,244)\"]], \"type\": \"histogram2d\"}], \"histogram2dcontour\": [{\"colorbar\": {\"outlinewidth\": 0, \"tickcolor\": \"rgb(237,237,237)\", \"ticklen\": 6, \"ticks\": \"inside\"}, \"colorscale\": [[0, \"rgb(20,44,66)\"], [1, \"rgb(90,179,244)\"]], \"type\": \"histogram2dcontour\"}], \"mesh3d\": [{\"colorbar\": {\"outlinewidth\": 0, \"tickcolor\": \"rgb(237,237,237)\", \"ticklen\": 6, \"ticks\": \"inside\"}, \"type\": \"mesh3d\"}], \"parcoords\": [{\"line\": {\"colorbar\": {\"outlinewidth\": 0, \"tickcolor\": \"rgb(237,237,237)\", \"ticklen\": 6, \"ticks\": \"inside\"}}, \"type\": \"parcoords\"}], \"pie\": [{\"automargin\": true, \"type\": \"pie\"}], \"scatter\": [{\"marker\": {\"colorbar\": {\"outlinewidth\": 0, \"tickcolor\": \"rgb(237,237,237)\", \"ticklen\": 6, \"ticks\": \"inside\"}}, \"type\": \"scatter\"}], \"scatter3d\": [{\"line\": {\"colorbar\": {\"outlinewidth\": 0, \"tickcolor\": \"rgb(237,237,237)\", \"ticklen\": 6, \"ticks\": \"inside\"}}, \"marker\": {\"colorbar\": {\"outlinewidth\": 0, \"tickcolor\": \"rgb(237,237,237)\", \"ticklen\": 6, \"ticks\": \"inside\"}}, \"type\": \"scatter3d\"}], \"scattercarpet\": [{\"marker\": {\"colorbar\": {\"outlinewidth\": 0, \"tickcolor\": \"rgb(237,237,237)\", \"ticklen\": 6, \"ticks\": \"inside\"}}, \"type\": \"scattercarpet\"}], \"scattergeo\": [{\"marker\": {\"colorbar\": {\"outlinewidth\": 0, \"tickcolor\": \"rgb(237,237,237)\", \"ticklen\": 6, \"ticks\": \"inside\"}}, \"type\": \"scattergeo\"}], \"scattergl\": [{\"marker\": {\"colorbar\": {\"outlinewidth\": 0, \"tickcolor\": \"rgb(237,237,237)\", \"ticklen\": 6, \"ticks\": \"inside\"}}, \"type\": \"scattergl\"}], \"scattermapbox\": [{\"marker\": {\"colorbar\": {\"outlinewidth\": 0, \"tickcolor\": \"rgb(237,237,237)\", \"ticklen\": 6, \"ticks\": \"inside\"}}, \"type\": \"scattermapbox\"}], \"scatterpolar\": [{\"marker\": {\"colorbar\": {\"outlinewidth\": 0, \"tickcolor\": \"rgb(237,237,237)\", \"ticklen\": 6, \"ticks\": \"inside\"}}, \"type\": \"scatterpolar\"}], \"scatterpolargl\": [{\"marker\": {\"colorbar\": {\"outlinewidth\": 0, \"tickcolor\": \"rgb(237,237,237)\", \"ticklen\": 6, \"ticks\": \"inside\"}}, \"type\": \"scatterpolargl\"}], \"scatterternary\": [{\"marker\": {\"colorbar\": {\"outlinewidth\": 0, \"tickcolor\": \"rgb(237,237,237)\", \"ticklen\": 6, \"ticks\": \"inside\"}}, \"type\": \"scatterternary\"}], \"surface\": [{\"colorbar\": {\"outlinewidth\": 0, \"tickcolor\": \"rgb(237,237,237)\", \"ticklen\": 6, \"ticks\": \"inside\"}, \"colorscale\": [[0, \"rgb(20,44,66)\"], [1, \"rgb(90,179,244)\"]], \"type\": \"surface\"}], \"table\": [{\"cells\": {\"fill\": {\"color\": \"rgb(237,237,237)\"}, \"line\": {\"color\": \"white\"}}, \"header\": {\"fill\": {\"color\": \"rgb(217,217,217)\"}, \"line\": {\"color\": \"white\"}}, \"type\": \"table\"}]}, \"layout\": {\"annotationdefaults\": {\"arrowhead\": 0, \"arrowwidth\": 1}, \"coloraxis\": {\"colorbar\": {\"outlinewidth\": 0, \"tickcolor\": \"rgb(237,237,237)\", \"ticklen\": 6, \"ticks\": \"inside\"}}, \"colorscale\": {\"sequential\": [[0, \"rgb(20,44,66)\"], [1, \"rgb(90,179,244)\"]], \"sequentialminus\": [[0, \"rgb(20,44,66)\"], [1, \"rgb(90,179,244)\"]]}, \"colorway\": [\"#F8766D\", \"#A3A500\", \"#00BF7D\", \"#00B0F6\", \"#E76BF3\"], \"font\": {\"color\": \"rgb(51,51,51)\"}, \"geo\": {\"bgcolor\": \"white\", \"lakecolor\": \"white\", \"landcolor\": \"rgb(237,237,237)\", \"showlakes\": true, \"showland\": true, \"subunitcolor\": \"white\"}, \"hoverlabel\": {\"align\": \"left\"}, \"hovermode\": \"closest\", \"paper_bgcolor\": \"white\", \"plot_bgcolor\": \"rgb(237,237,237)\", \"polar\": {\"angularaxis\": {\"gridcolor\": \"white\", \"linecolor\": \"white\", \"showgrid\": true, \"tickcolor\": \"rgb(51,51,51)\", \"ticks\": \"outside\"}, \"bgcolor\": \"rgb(237,237,237)\", \"radialaxis\": {\"gridcolor\": \"white\", \"linecolor\": \"white\", \"showgrid\": true, \"tickcolor\": \"rgb(51,51,51)\", \"ticks\": \"outside\"}}, \"scene\": {\"xaxis\": {\"backgroundcolor\": \"rgb(237,237,237)\", \"gridcolor\": \"white\", \"gridwidth\": 2, \"linecolor\": \"white\", \"showbackground\": true, \"showgrid\": true, \"tickcolor\": \"rgb(51,51,51)\", \"ticks\": \"outside\", \"zerolinecolor\": \"white\"}, \"yaxis\": {\"backgroundcolor\": \"rgb(237,237,237)\", \"gridcolor\": \"white\", \"gridwidth\": 2, \"linecolor\": \"white\", \"showbackground\": true, \"showgrid\": true, \"tickcolor\": \"rgb(51,51,51)\", \"ticks\": \"outside\", \"zerolinecolor\": \"white\"}, \"zaxis\": {\"backgroundcolor\": \"rgb(237,237,237)\", \"gridcolor\": \"white\", \"gridwidth\": 2, \"linecolor\": \"white\", \"showbackground\": true, \"showgrid\": true, \"tickcolor\": \"rgb(51,51,51)\", \"ticks\": \"outside\", \"zerolinecolor\": \"white\"}}, \"shapedefaults\": {\"fillcolor\": \"black\", \"line\": {\"width\": 0}, \"opacity\": 0.3}, \"ternary\": {\"aaxis\": {\"gridcolor\": \"white\", \"linecolor\": \"white\", \"showgrid\": true, \"tickcolor\": \"rgb(51,51,51)\", \"ticks\": \"outside\"}, \"baxis\": {\"gridcolor\": \"white\", \"linecolor\": \"white\", \"showgrid\": true, \"tickcolor\": \"rgb(51,51,51)\", \"ticks\": \"outside\"}, \"bgcolor\": \"rgb(237,237,237)\", \"caxis\": {\"gridcolor\": \"white\", \"linecolor\": \"white\", \"showgrid\": true, \"tickcolor\": \"rgb(51,51,51)\", \"ticks\": \"outside\"}}, \"xaxis\": {\"automargin\": true, \"gridcolor\": \"white\", \"linecolor\": \"white\", \"showgrid\": true, \"tickcolor\": \"rgb(51,51,51)\", \"ticks\": \"outside\", \"title\": {\"standoff\": 15}, \"zerolinecolor\": \"white\"}, \"yaxis\": {\"automargin\": true, \"gridcolor\": \"white\", \"linecolor\": \"white\", \"showgrid\": true, \"tickcolor\": \"rgb(51,51,51)\", \"ticks\": \"outside\", \"title\": {\"standoff\": 15}, \"zerolinecolor\": \"white\"}}}, \"title\": {\"text\": \"Predicci\\u00f3n del modelo SEAIR de la evoluci\\u00f3n de COVID-19 en Jalisco, Escenario: Optimista\"}, \"xaxis\": {\"anchor\": \"y\", \"domain\": [0.0, 1.0], \"title\": {\"text\": \"D\\u00edas\"}}, \"yaxis\": {\"anchor\": \"x\", \"domain\": [0.0, 1.0], \"title\": {\"text\": \"Casos Totales\"}}},\n",
              "                        {\"responsive\": true}\n",
              "                    ).then(function(){\n",
              "                            \n",
              "var gd = document.getElementById('d728ada1-55a4-4ec2-8e15-ea2ec7812696');\n",
              "var x = new MutationObserver(function (mutations, observer) {{\n",
              "        var display = window.getComputedStyle(gd).display;\n",
              "        if (!display || display === 'none') {{\n",
              "            console.log([gd, 'removed!']);\n",
              "            Plotly.purge(gd);\n",
              "            observer.disconnect();\n",
              "        }}\n",
              "}});\n",
              "\n",
              "// Listen for the removal of the full notebook cells\n",
              "var notebookContainer = gd.closest('#notebook-container');\n",
              "if (notebookContainer) {{\n",
              "    x.observe(notebookContainer, {childList: true});\n",
              "}}\n",
              "\n",
              "// Listen for the clearing of the current output cell\n",
              "var outputEl = gd.closest('.output');\n",
              "if (outputEl) {{\n",
              "    x.observe(outputEl, {childList: true});\n",
              "}}\n",
              "\n",
              "                        })\n",
              "                };\n",
              "                \n",
              "            </script>\n",
              "        </div>\n",
              "</body>\n",
              "</html>"
            ]
          },
          "metadata": {
            "tags": []
          }
        }
      ]
    },
    {
      "cell_type": "code",
      "metadata": {
        "id": "WmjmKK6HS-Ot",
        "colab_type": "code",
        "colab": {
          "base_uri": "https://localhost:8080/",
          "height": 542
        },
        "outputId": "4c896082-c6a6-4a27-f59f-d4ec2b3b44cc"
      },
      "source": [
        "#@title Escenario Pesimista: Ro = 4.5, no intervencion { display-mode: \"form\" }\n",
        "\n",
        "S,E,A,I,R,D, intervencion = SEAIR_D(Condiciones_Iniciales,parametros,periodo_evaluacion,\"Pesimista\",1,120)\n",
        "E_a = np.array(E)*Population\n",
        "I_a = np.array(I)*Population\n",
        "A_a = np.array(A)*Population\n",
        "D_a = np.array(D)*Population\n",
        "Clase = np.array([\"Expuestos\"]*np.array(E).shape[0] + [\"Infectados\"]*np.array(E).shape[0]+ \n",
        "                  [\"Asintomaticos o No reportados\"]*np.array(E).shape[0] + [\"Muertes\"]*np.array(E).shape[0])\n",
        "Dias = np.concatenate([periodo_evaluacion,periodo_evaluacion,periodo_evaluacion,periodo_evaluacion])\n",
        "SEIR_df = pd.DataFrame({\n",
        "    \"Casos\": np.concatenate([E_a,I_a,A_a,D_a]),\n",
        "    \"Clase\": Clase,\n",
        "    \"Dias\" : Dias\n",
        "})\n",
        "\n",
        "fig = px.line(SEIR_df, x=\"Dias\", y=\"Casos\", color='Clase',color_discrete_sequence=[\"green\", \"red\", \"goldenrod\", \"blue\"], template = \"ggplot2\")\n",
        "\n",
        "fig.update_layout(\n",
        "    title=f\"Predicción del modelo SEAIR de la evolución de COVID-19 en Jalisco, Escenario: {intervencion}\",\n",
        "    \n",
        "    xaxis_title=\"Días\",\n",
        "    yaxis_title=\"Casos Totales\",\n",
        "    )\n",
        "\n",
        "for trace in fig.data:\n",
        "    trace.name = trace.name.split('=')[1]\n",
        "\n",
        "fig.show()"
      ],
      "execution_count": 38,
      "outputs": [
        {
          "output_type": "display_data",
          "data": {
            "text/html": [
              "<html>\n",
              "<head><meta charset=\"utf-8\" /></head>\n",
              "<body>\n",
              "    <div>\n",
              "            <script src=\"https://cdnjs.cloudflare.com/ajax/libs/mathjax/2.7.5/MathJax.js?config=TeX-AMS-MML_SVG\"></script><script type=\"text/javascript\">if (window.MathJax) {MathJax.Hub.Config({SVG: {font: \"STIX-Web\"}});}</script>\n",
              "                <script type=\"text/javascript\">window.PlotlyConfig = {MathJaxConfig: 'local'};</script>\n",
              "        <script src=\"https://cdn.plot.ly/plotly-latest.min.js\"></script>    \n",
              "            <div id=\"12f5b281-c396-441f-a15c-9c466ece8069\" class=\"plotly-graph-div\" style=\"height:525px; width:100%;\"></div>\n",
              "            <script type=\"text/javascript\">\n",
              "                \n",
              "                    window.PLOTLYENV=window.PLOTLYENV || {};\n",
              "                    \n",
              "                if (document.getElementById(\"12f5b281-c396-441f-a15c-9c466ece8069\")) {\n",
              "                    Plotly.newPlot(\n",
              "                        '12f5b281-c396-441f-a15c-9c466ece8069',\n",
              "                        [{\"hoverlabel\": {\"namelength\": 0}, \"hovertemplate\": \"Clase=Expuestos<br>Dias=%{x}<br>Casos=%{y}\", \"legendgroup\": \"Clase=Expuestos\", \"line\": {\"color\": \"green\", \"dash\": \"solid\"}, \"mode\": \"lines\", \"name\": \"Expuestos\", \"showlegend\": true, \"type\": \"scatter\", \"x\": [0.0, 1.0, 2.0, 3.0, 4.0, 5.0, 6.0, 7.0, 8.0, 9.0, 10.0, 11.0, 12.0, 13.0, 14.0, 15.0, 16.0, 17.0, 18.0, 19.0, 20.0, 21.0, 22.0, 23.0, 24.0, 25.0, 26.0, 27.0, 28.0, 29.0, 30.0, 31.0, 32.0, 33.0, 34.0, 35.0, 36.0, 37.0, 38.0, 39.0, 40.0, 41.0, 42.0, 43.0, 44.0, 45.0, 46.0, 47.0, 48.0, 49.0, 50.0, 51.0, 52.0, 53.0, 54.0, 55.0, 56.0, 57.0, 58.0, 59.0, 60.0, 61.0, 62.0, 63.0, 64.0, 65.0, 66.0, 67.0, 68.0, 69.0, 70.0, 71.0, 72.0, 73.0, 74.0, 75.0, 76.0, 77.0, 78.0, 79.0, 80.0, 81.0, 82.0, 83.0, 84.0, 85.0, 86.0, 87.0, 88.0, 89.0, 90.0, 91.0, 92.0, 93.0, 94.0, 95.0, 96.0, 97.0, 98.0, 99.0, 100.0, 101.0, 102.0, 103.0, 104.0, 105.0, 106.0, 107.0, 108.0, 109.0, 110.0, 111.0, 112.0, 113.0, 114.0, 115.0, 116.0, 117.0, 118.0, 119.0, 120.0], \"xaxis\": \"x\", \"y\": [128.0, 174.398524, 229.22817271255187, 300.6608985209059, 394.30244898039325, 517.1023116618098, 678.1415405270646, 889.3246936037382, 1166.2597796074722, 1529.4089112183567, 2005.59501013025, 2629.974053262707, 3448.6151907705944, 4521.8734623657465, 5928.794071476153, 7772.855941623458, 10189.448422645182, 13355.581086894173, 17502.453900179462, 22931.662057557052, 30035.968686588174, 39325.72992814388, 51462.159739593655, 67298.59800286219, 87930.65435128164, 114755.29925349836, 149537.2642699928, 194477.86955636265, 252275.70010176738, 326159.18328499416, 419856.7451942428, 537450.0580465754, 683031.3423265994, 860063.6365061507, 1070341.0494885354, 1312498.516050205, 1580177.973742344, 1860264.3889042935, 2132031.683856547, 2368372.8491884707, 2540076.2020591083, 2622883.6791082425, 2605017.937063855, 2491428.607680761, 2302061.231768961, 2064957.1324125272, 1808068.0351504514, 1553586.1826336102, 1316031.9884305748, 1103062.4433426831, 917368.832162547, 758555.2259983291, 624561.5109378699, 512595.9108547342, 419687.83235142706, 342986.9343080741, 279906.34846210794, 228175.80583702496, 185845.59570946757, 151265.67709826652, 123053.89516378436, 100061.02345336534, 81336.69709274612, 66098.19940943163, 53702.88204606533, 43624.35506318025, 35432.25222407517, 28775.223823090306, 23366.75642628556, 18973.41973717388, 15405.168778848161, 12507.36941562652, 10154.258388278644, 8243.590944902322, 6692.267569784562, 5432.765330089567, 4410.228801163962, 3580.1006140593463, 2906.1927995199603, 2359.117757027897, 1915.0123358990952, 1554.500628570429, 1261.8510493406002, 1024.2914594727467, 831.4528062257374, 674.9172271232006, 547.8510482120108, 444.70675671536395, 360.98100394200367, 293.0181170146335, 237.85056945167048, 193.069464157521, 156.71938612061783, 127.21304180004537, 103.26196327350712, 83.82025479629837, 68.03892768474235, 55.22883097466194, 44.830560119928485, 36.39003035644019, 29.53864848879465, 23.977217509435157, 19.462871367173587, 15.798469459112514, 12.823987790414895, 10.40953091082791, 8.449659496470419, 6.858785886684346, 5.567436514867147, 4.51921802391071, 3.6683545831495628, 2.9776888657236347, 2.417059391770307, 1.9619833777566387, 1.5925875730697943, 1.2927403941719156, 1.049347457024978, 0.85177974392558, 0.6914094329290678, 0.5612331196027989, 0.455565977232255], \"yaxis\": \"y\"}, {\"hoverlabel\": {\"namelength\": 0}, \"hovertemplate\": \"Clase=Infectados<br>Dias=%{x}<br>Casos=%{y}\", \"legendgroup\": \"Clase=Infectados\", \"line\": {\"color\": \"red\", \"dash\": \"solid\"}, \"mode\": \"lines\", \"name\": \"Infectados\", \"showlegend\": true, \"type\": \"scatter\", \"x\": [0.0, 1.0, 2.0, 3.0, 4.0, 5.0, 6.0, 7.0, 8.0, 9.0, 10.0, 11.0, 12.0, 13.0, 14.0, 15.0, 16.0, 17.0, 18.0, 19.0, 20.0, 21.0, 22.0, 23.0, 24.0, 25.0, 26.0, 27.0, 28.0, 29.0, 30.0, 31.0, 32.0, 33.0, 34.0, 35.0, 36.0, 37.0, 38.0, 39.0, 40.0, 41.0, 42.0, 43.0, 44.0, 45.0, 46.0, 47.0, 48.0, 49.0, 50.0, 51.0, 52.0, 53.0, 54.0, 55.0, 56.0, 57.0, 58.0, 59.0, 60.0, 61.0, 62.0, 63.0, 64.0, 65.0, 66.0, 67.0, 68.0, 69.0, 70.0, 71.0, 72.0, 73.0, 74.0, 75.0, 76.0, 77.0, 78.0, 79.0, 80.0, 81.0, 82.0, 83.0, 84.0, 85.0, 86.0, 87.0, 88.0, 89.0, 90.0, 91.0, 92.0, 93.0, 94.0, 95.0, 96.0, 97.0, 98.0, 99.0, 100.0, 101.0, 102.0, 103.0, 104.0, 105.0, 106.0, 107.0, 108.0, 109.0, 110.0, 111.0, 112.0, 113.0, 114.0, 115.0, 116.0, 117.0, 118.0, 119.0, 120.0], \"xaxis\": \"x\", \"y\": [32.0, 39.872, 52.125837935999996, 68.3476647070985, 89.63350953461669, 117.54937225820835, 154.15890874487974, 202.16896880591767, 265.12894134650446, 347.69267925006307, 455.9617421973477, 597.9350095577961, 784.0974003741836, 1028.1903575071458, 1348.2195587571985, 1767.771767388836, 2317.7337171856607, 3038.5324344533497, 3983.049434578121, 5220.401606030523, 6840.829524997364, 8961.988284348907, 11736.992795981452, 15364.61994692242, 20102.095841153627, 26280.863859890826, 34325.578754909315, 44776.20280567532, 58312.33026259192, 75777.48967161909, 98198.8249649943, 126793.81294120246, 162950.15915494782, 208157.73404298152, 263863.4994723678, 331215.39680481685, 410666.8407470756, 501442.62373451906, 600934.5077836704, 704204.5557448393, 803893.8351563642, 890869.8598799487, 955766.1407029215, 991124.964693196, 993358.0208286304, 963619.2742990017, 907188.3415520655, 831764.2792803927, 745529.0587273438, 655691.3907517471, 567760.1612517309, 485426.983613179, 410804.97739550157, 344803.0244571566, 287499.5138098988, 238453.51765347432, 196937.43264207404, 162097.72640660938, 133058.49073717164, 108983.18723128394, 89107.65151057324, 72754.35319809883, 59335.076233230226, 48346.913300816195, 39364.78355062835, 32032.49495042544, 26053.56625111257, 21182.493452904746, 17216.807844200608, 13990.06468198919, 11365.778999270138, 9232.25728930048, 7498.240384850033, 6089.260202739217, 4944.612434580119, 4014.853217846939, 3259.736912664383, 2646.522301862876, 2148.5846588048294, 1744.280567816123, 1416.0208471640876, 1149.5143229142634, 933.1515536049658, 757.5029887187882, 614.9105626976154, 499.15549221261415, 405.1881656536473, 328.9085896424217, 266.9879759903485, 216.7237904807942, 175.9220075740685, 142.80147785877438, 115.91626405851034, 94.09257511830242, 76.37755817500587, 61.99772130010863, 50.32517735365702, 40.85023877895539, 33.15916915942824, 26.91612166373093, 21.84847676005744, 17.73493964059621, 14.39587805949913, 11.685478959320955, 9.485381577293817, 7.699509128231395, 6.249873455032301, 5.073169495890206, 4.118010887991455, 3.3426860123531705, 2.713336503209727, 2.2024786885302676, 1.787803400211534, 1.4512017463751354, 1.1779743043134188, 0.9561892015283632, 0.7761610535459286, 0.6300280045441943, 0.5114084006848697, 0.4151221034044403, 0.3369642726234788], \"yaxis\": \"y\"}, {\"hoverlabel\": {\"namelength\": 0}, \"hovertemplate\": \"Clase=Asintomaticos o No reportados<br>Dias=%{x}<br>Casos=%{y}\", \"legendgroup\": \"Clase=Asintomaticos o No reportados\", \"line\": {\"color\": \"goldenrod\", \"dash\": \"solid\"}, \"mode\": \"lines\", \"name\": \"Asintomaticos o No reportados\", \"showlegend\": true, \"type\": \"scatter\", \"x\": [0.0, 1.0, 2.0, 3.0, 4.0, 5.0, 6.0, 7.0, 8.0, 9.0, 10.0, 11.0, 12.0, 13.0, 14.0, 15.0, 16.0, 17.0, 18.0, 19.0, 20.0, 21.0, 22.0, 23.0, 24.0, 25.0, 26.0, 27.0, 28.0, 29.0, 30.0, 31.0, 32.0, 33.0, 34.0, 35.0, 36.0, 37.0, 38.0, 39.0, 40.0, 41.0, 42.0, 43.0, 44.0, 45.0, 46.0, 47.0, 48.0, 49.0, 50.0, 51.0, 52.0, 53.0, 54.0, 55.0, 56.0, 57.0, 58.0, 59.0, 60.0, 61.0, 62.0, 63.0, 64.0, 65.0, 66.0, 67.0, 68.0, 69.0, 70.0, 71.0, 72.0, 73.0, 74.0, 75.0, 76.0, 77.0, 78.0, 79.0, 80.0, 81.0, 82.0, 83.0, 84.0, 85.0, 86.0, 87.0, 88.0, 89.0, 90.0, 91.0, 92.0, 93.0, 94.0, 95.0, 96.0, 97.0, 98.0, 99.0, 100.0, 101.0, 102.0, 103.0, 104.0, 105.0, 106.0, 107.0, 108.0, 109.0, 110.0, 111.0, 112.0, 113.0, 114.0, 115.0, 116.0, 117.0, 118.0, 119.0, 120.0], \"xaxis\": \"x\", \"y\": [128.0, 121.088, 116.468426864, 114.23848266389186, 114.78081157089422, 118.64542669280789, 126.58302151028033, 139.60364503332946, 159.05500595006438, 186.7254074804276, 224.97884161104997, 276.9321662307445, 346.68733718743493, 439.6356237083072, 562.8558622197264, 725.6354211930926, 940.1510471841589, 1222.3575961528113, 1593.1463316272486, 2079.851502187257, 2718.2047010624583, 3554.8611506840116, 4650.649924535631, 6084.729181952796, 7959.853083680083, 10408.969862795015, 13603.353348269406, 17762.3930606449, 23164.980989215917, 30162.057903850113, 39189.20329076339, 50777.01782158743, 65555.28830732129, 84244.44068341996, 107624.7319361336, 136470.78384346887, 171438.35987536408, 212895.3145413057, 260704.25423314274, 313994.01197099563, 370995.973464391, 429049.07912672375, 484858.4744532153, 535001.8574867249, 576543.120189427, 607528.4437160612, 627189.3405484667, 635832.7491645209, 634536.904314524, 624805.7345097176, 608283.4663641795, 586563.232349255, 561080.5295737619, 533067.4963058865, 503544.8744291272, 473334.5976951571, 443082.01353768364, 413281.26086392795, 384300.27639630734, 356403.69296618045, 329772.9249747618, 304523.30195292947, 280718.401621487, 258381.86657089202, 237507.0337582513, 218064.704473667, 200009.35785331143, 183284.07672658013, 167824.41787881916, 153561.42350107172, 140423.93849651353, 128340.37010786583, 117240.00209712046, 107053.95521035766, 97715.86851544195, 89162.36198156442, 81333.32895510684, 74172.09758598913, 67625.49242535625, 61643.8210478569, 56180.80539280278, 51193.4733515429, 46642.022772532575, 42489.667360780906, 38702.47179085165, 35249.181630699124, 32101.052304112636, 29231.68023447813, 26616.838456616853, 24234.31831166325, 22063.778315826083, 20086.600887901994, 18285.757308700486, 16645.681048817783, 15152.149423928982, 13792.17340645322, 12553.895329045095, 11426.494150827688, 10400.097915168284, 9465.703002967455, 8615.099773793216, 7840.804185497423, 7135.994988632994, 6494.456103025243, 5910.523798653499, 5379.038320335139, 4895.299614617767, 4455.026837044041, 4054.3213380019974, 3689.632845296353, 3357.7285810685416, 3055.6650695373664, 2780.7624100781695, 2530.580807309238, 2302.8991660530055, 2095.6955742608657, 1907.129511231578, 1735.525631729189, 1579.358988944343, 1437.241570678938, 1307.910033710139], \"yaxis\": \"y\"}, {\"hoverlabel\": {\"namelength\": 0}, \"hovertemplate\": \"Clase=Muertes<br>Dias=%{x}<br>Casos=%{y}\", \"legendgroup\": \"Clase=Muertes\", \"line\": {\"color\": \"blue\", \"dash\": \"solid\"}, \"mode\": \"lines\", \"name\": \"Muertes\", \"showlegend\": true, \"type\": \"scatter\", \"x\": [0.0, 1.0, 2.0, 3.0, 4.0, 5.0, 6.0, 7.0, 8.0, 9.0, 10.0, 11.0, 12.0, 13.0, 14.0, 15.0, 16.0, 17.0, 18.0, 19.0, 20.0, 21.0, 22.0, 23.0, 24.0, 25.0, 26.0, 27.0, 28.0, 29.0, 30.0, 31.0, 32.0, 33.0, 34.0, 35.0, 36.0, 37.0, 38.0, 39.0, 40.0, 41.0, 42.0, 43.0, 44.0, 45.0, 46.0, 47.0, 48.0, 49.0, 50.0, 51.0, 52.0, 53.0, 54.0, 55.0, 56.0, 57.0, 58.0, 59.0, 60.0, 61.0, 62.0, 63.0, 64.0, 65.0, 66.0, 67.0, 68.0, 69.0, 70.0, 71.0, 72.0, 73.0, 74.0, 75.0, 76.0, 77.0, 78.0, 79.0, 80.0, 81.0, 82.0, 83.0, 84.0, 85.0, 86.0, 87.0, 88.0, 89.0, 90.0, 91.0, 92.0, 93.0, 94.0, 95.0, 96.0, 97.0, 98.0, 99.0, 100.0, 101.0, 102.0, 103.0, 104.0, 105.0, 106.0, 107.0, 108.0, 109.0, 110.0, 111.0, 112.0, 113.0, 114.0, 115.0, 116.0, 117.0, 118.0, 119.0, 120.0], \"xaxis\": \"x\", \"y\": [0.0, 0.512, 0.6379520000000001, 0.834013406976, 1.0935626353135761, 1.434136152553867, 1.8807899561313335, 2.466542539918076, 3.2347035008946827, 4.242063061544072, 5.563082868001009, 7.295387875157563, 9.566960152924738, 12.54555840598694, 16.451045720114337, 21.571512940115174, 28.28434827822138, 37.083739474970564, 48.616518951253596, 63.72879095324993, 83.52642569648837, 109.45327239995784, 143.3918125495825, 187.79188473570323, 245.8339191507587, 321.63353345845803, 420.4938217582532, 549.2092600785492, 716.4192448908052, 932.9972842014707, 1212.4398347459053, 1571.1811994399088, 2028.7010070592394, 2607.202546479165, 3330.5237446877045, 4221.815991557884, 5299.446348877069, 6570.669451953209, 8023.0819797523045, 9614.952124538726, 11267.272891917428, 12862.301362501828, 14253.917758079178, 15292.258251246745, 15857.999435091138, 15893.728333258086, 15417.908388784026, 14515.013464833048, 13308.228468486283, 11928.4649396375, 10491.062252027952, 9084.162580027694, 7766.831737810864, 6572.879638328025, 5516.8483913145055, 4599.992220958381, 3815.2562824555894, 3150.9989222731842, 2593.56362250575, 2128.935851794746, 1743.7309957005432, 1425.7224241691717, 1164.0696511695814, 949.3612197316836, 773.5506128130592, 629.8365368100536, 512.519919206807, 416.85706001780113, 338.91989524647596, 275.46892550720975, 223.84103491182705, 181.85246398832223, 147.71611662880767, 119.97184615760052, 97.42816324382747, 79.11379895328191, 64.23765148555103, 52.15579060263013, 42.34435682980602, 34.37735454087728, 27.90848908505797, 22.6563335546254, 18.392229166628216, 14.930424857679453, 12.120047819500611, 9.838569003161847, 7.986487875401825, 6.483010650458357, 5.262537434278746, 4.271807615845575, 3.4675806476927074, 2.8147521211850957, 2.28482364574039, 1.8546602249361652, 1.5054812018928387, 1.222040930800094, 0.9919635408017381, 0.8052028376585123, 0.6536038204632862, 0.5305467065508519, 0.4306579466196949, 0.3495756281609191, 0.2837590342495394, 0.2303340489519861, 0.18696766334913528, 0.1517661052367011, 0.12319214605170234, 0.09999797528051682, 0.0811707119342433, 0.06588817420786329, 0.05348297619765073, 0.043413384051355634, 0.03523965901648428, 0.028604854403384544, 0.023219227942002166, 0.0188475888690147, 0.015299027224453811, 0.012418576856734857, 0.010080448072707108, 0.008182534410957917, 0.006641953654471044], \"yaxis\": \"y\"}],\n",
              "                        {\"legend\": {\"tracegroupgap\": 0}, \"margin\": {\"t\": 60}, \"template\": {\"data\": {\"bar\": [{\"error_x\": {\"color\": \"rgb(51,51,51)\"}, \"error_y\": {\"color\": \"rgb(51,51,51)\"}, \"marker\": {\"line\": {\"color\": \"rgb(237,237,237)\", \"width\": 0.5}}, \"type\": \"bar\"}], \"barpolar\": [{\"marker\": {\"line\": {\"color\": \"rgb(237,237,237)\", \"width\": 0.5}}, \"type\": \"barpolar\"}], \"carpet\": [{\"aaxis\": {\"endlinecolor\": \"rgb(51,51,51)\", \"gridcolor\": \"white\", \"linecolor\": \"white\", \"minorgridcolor\": \"white\", \"startlinecolor\": \"rgb(51,51,51)\"}, \"baxis\": {\"endlinecolor\": \"rgb(51,51,51)\", \"gridcolor\": \"white\", \"linecolor\": \"white\", \"minorgridcolor\": \"white\", \"startlinecolor\": \"rgb(51,51,51)\"}, \"type\": \"carpet\"}], \"choropleth\": [{\"colorbar\": {\"outlinewidth\": 0, \"tickcolor\": \"rgb(237,237,237)\", \"ticklen\": 6, \"ticks\": \"inside\"}, \"type\": \"choropleth\"}], \"contour\": [{\"colorbar\": {\"outlinewidth\": 0, \"tickcolor\": \"rgb(237,237,237)\", \"ticklen\": 6, \"ticks\": \"inside\"}, \"colorscale\": [[0, \"rgb(20,44,66)\"], [1, \"rgb(90,179,244)\"]], \"type\": \"contour\"}], \"contourcarpet\": [{\"colorbar\": {\"outlinewidth\": 0, \"tickcolor\": \"rgb(237,237,237)\", \"ticklen\": 6, \"ticks\": \"inside\"}, \"type\": \"contourcarpet\"}], \"heatmap\": [{\"colorbar\": {\"outlinewidth\": 0, \"tickcolor\": \"rgb(237,237,237)\", \"ticklen\": 6, \"ticks\": \"inside\"}, \"colorscale\": [[0, \"rgb(20,44,66)\"], [1, \"rgb(90,179,244)\"]], \"type\": \"heatmap\"}], \"heatmapgl\": [{\"colorbar\": {\"outlinewidth\": 0, \"tickcolor\": \"rgb(237,237,237)\", \"ticklen\": 6, \"ticks\": \"inside\"}, \"colorscale\": [[0, \"rgb(20,44,66)\"], [1, \"rgb(90,179,244)\"]], \"type\": \"heatmapgl\"}], \"histogram\": [{\"marker\": {\"colorbar\": {\"outlinewidth\": 0, \"tickcolor\": \"rgb(237,237,237)\", \"ticklen\": 6, \"ticks\": \"inside\"}}, \"type\": \"histogram\"}], \"histogram2d\": [{\"colorbar\": {\"outlinewidth\": 0, \"tickcolor\": \"rgb(237,237,237)\", \"ticklen\": 6, \"ticks\": \"inside\"}, \"colorscale\": [[0, \"rgb(20,44,66)\"], [1, \"rgb(90,179,244)\"]], \"type\": \"histogram2d\"}], \"histogram2dcontour\": [{\"colorbar\": {\"outlinewidth\": 0, \"tickcolor\": \"rgb(237,237,237)\", \"ticklen\": 6, \"ticks\": \"inside\"}, \"colorscale\": [[0, \"rgb(20,44,66)\"], [1, \"rgb(90,179,244)\"]], \"type\": \"histogram2dcontour\"}], \"mesh3d\": [{\"colorbar\": {\"outlinewidth\": 0, \"tickcolor\": \"rgb(237,237,237)\", \"ticklen\": 6, \"ticks\": \"inside\"}, \"type\": \"mesh3d\"}], \"parcoords\": [{\"line\": {\"colorbar\": {\"outlinewidth\": 0, \"tickcolor\": \"rgb(237,237,237)\", \"ticklen\": 6, \"ticks\": \"inside\"}}, \"type\": \"parcoords\"}], \"pie\": [{\"automargin\": true, \"type\": \"pie\"}], \"scatter\": [{\"marker\": {\"colorbar\": {\"outlinewidth\": 0, \"tickcolor\": \"rgb(237,237,237)\", \"ticklen\": 6, \"ticks\": \"inside\"}}, \"type\": \"scatter\"}], \"scatter3d\": [{\"line\": {\"colorbar\": {\"outlinewidth\": 0, \"tickcolor\": \"rgb(237,237,237)\", \"ticklen\": 6, \"ticks\": \"inside\"}}, \"marker\": {\"colorbar\": {\"outlinewidth\": 0, \"tickcolor\": \"rgb(237,237,237)\", \"ticklen\": 6, \"ticks\": \"inside\"}}, \"type\": \"scatter3d\"}], \"scattercarpet\": [{\"marker\": {\"colorbar\": {\"outlinewidth\": 0, \"tickcolor\": \"rgb(237,237,237)\", \"ticklen\": 6, \"ticks\": \"inside\"}}, \"type\": \"scattercarpet\"}], \"scattergeo\": [{\"marker\": {\"colorbar\": {\"outlinewidth\": 0, \"tickcolor\": \"rgb(237,237,237)\", \"ticklen\": 6, \"ticks\": \"inside\"}}, \"type\": \"scattergeo\"}], \"scattergl\": [{\"marker\": {\"colorbar\": {\"outlinewidth\": 0, \"tickcolor\": \"rgb(237,237,237)\", \"ticklen\": 6, \"ticks\": \"inside\"}}, \"type\": \"scattergl\"}], \"scattermapbox\": [{\"marker\": {\"colorbar\": {\"outlinewidth\": 0, \"tickcolor\": \"rgb(237,237,237)\", \"ticklen\": 6, \"ticks\": \"inside\"}}, \"type\": \"scattermapbox\"}], \"scatterpolar\": [{\"marker\": {\"colorbar\": {\"outlinewidth\": 0, \"tickcolor\": \"rgb(237,237,237)\", \"ticklen\": 6, \"ticks\": \"inside\"}}, \"type\": \"scatterpolar\"}], \"scatterpolargl\": [{\"marker\": {\"colorbar\": {\"outlinewidth\": 0, \"tickcolor\": \"rgb(237,237,237)\", \"ticklen\": 6, \"ticks\": \"inside\"}}, \"type\": \"scatterpolargl\"}], \"scatterternary\": [{\"marker\": {\"colorbar\": {\"outlinewidth\": 0, \"tickcolor\": \"rgb(237,237,237)\", \"ticklen\": 6, \"ticks\": \"inside\"}}, \"type\": \"scatterternary\"}], \"surface\": [{\"colorbar\": {\"outlinewidth\": 0, \"tickcolor\": \"rgb(237,237,237)\", \"ticklen\": 6, \"ticks\": \"inside\"}, \"colorscale\": [[0, \"rgb(20,44,66)\"], [1, \"rgb(90,179,244)\"]], \"type\": \"surface\"}], \"table\": [{\"cells\": {\"fill\": {\"color\": \"rgb(237,237,237)\"}, \"line\": {\"color\": \"white\"}}, \"header\": {\"fill\": {\"color\": \"rgb(217,217,217)\"}, \"line\": {\"color\": \"white\"}}, \"type\": \"table\"}]}, \"layout\": {\"annotationdefaults\": {\"arrowhead\": 0, \"arrowwidth\": 1}, \"coloraxis\": {\"colorbar\": {\"outlinewidth\": 0, \"tickcolor\": \"rgb(237,237,237)\", \"ticklen\": 6, \"ticks\": \"inside\"}}, \"colorscale\": {\"sequential\": [[0, \"rgb(20,44,66)\"], [1, \"rgb(90,179,244)\"]], \"sequentialminus\": [[0, \"rgb(20,44,66)\"], [1, \"rgb(90,179,244)\"]]}, \"colorway\": [\"#F8766D\", \"#A3A500\", \"#00BF7D\", \"#00B0F6\", \"#E76BF3\"], \"font\": {\"color\": \"rgb(51,51,51)\"}, \"geo\": {\"bgcolor\": \"white\", \"lakecolor\": \"white\", \"landcolor\": \"rgb(237,237,237)\", \"showlakes\": true, \"showland\": true, \"subunitcolor\": \"white\"}, \"hoverlabel\": {\"align\": \"left\"}, \"hovermode\": \"closest\", \"paper_bgcolor\": \"white\", \"plot_bgcolor\": \"rgb(237,237,237)\", \"polar\": {\"angularaxis\": {\"gridcolor\": \"white\", \"linecolor\": \"white\", \"showgrid\": true, \"tickcolor\": \"rgb(51,51,51)\", \"ticks\": \"outside\"}, \"bgcolor\": \"rgb(237,237,237)\", \"radialaxis\": {\"gridcolor\": \"white\", \"linecolor\": \"white\", \"showgrid\": true, \"tickcolor\": \"rgb(51,51,51)\", \"ticks\": \"outside\"}}, \"scene\": {\"xaxis\": {\"backgroundcolor\": \"rgb(237,237,237)\", \"gridcolor\": \"white\", \"gridwidth\": 2, \"linecolor\": \"white\", \"showbackground\": true, \"showgrid\": true, \"tickcolor\": \"rgb(51,51,51)\", \"ticks\": \"outside\", \"zerolinecolor\": \"white\"}, \"yaxis\": {\"backgroundcolor\": \"rgb(237,237,237)\", \"gridcolor\": \"white\", \"gridwidth\": 2, \"linecolor\": \"white\", \"showbackground\": true, \"showgrid\": true, \"tickcolor\": \"rgb(51,51,51)\", \"ticks\": \"outside\", \"zerolinecolor\": \"white\"}, \"zaxis\": {\"backgroundcolor\": \"rgb(237,237,237)\", \"gridcolor\": \"white\", \"gridwidth\": 2, \"linecolor\": \"white\", \"showbackground\": true, \"showgrid\": true, \"tickcolor\": \"rgb(51,51,51)\", \"ticks\": \"outside\", \"zerolinecolor\": \"white\"}}, \"shapedefaults\": {\"fillcolor\": \"black\", \"line\": {\"width\": 0}, \"opacity\": 0.3}, \"ternary\": {\"aaxis\": {\"gridcolor\": \"white\", \"linecolor\": \"white\", \"showgrid\": true, \"tickcolor\": \"rgb(51,51,51)\", \"ticks\": \"outside\"}, \"baxis\": {\"gridcolor\": \"white\", \"linecolor\": \"white\", \"showgrid\": true, \"tickcolor\": \"rgb(51,51,51)\", \"ticks\": \"outside\"}, \"bgcolor\": \"rgb(237,237,237)\", \"caxis\": {\"gridcolor\": \"white\", \"linecolor\": \"white\", \"showgrid\": true, \"tickcolor\": \"rgb(51,51,51)\", \"ticks\": \"outside\"}}, \"xaxis\": {\"automargin\": true, \"gridcolor\": \"white\", \"linecolor\": \"white\", \"showgrid\": true, \"tickcolor\": \"rgb(51,51,51)\", \"ticks\": \"outside\", \"title\": {\"standoff\": 15}, \"zerolinecolor\": \"white\"}, \"yaxis\": {\"automargin\": true, \"gridcolor\": \"white\", \"linecolor\": \"white\", \"showgrid\": true, \"tickcolor\": \"rgb(51,51,51)\", \"ticks\": \"outside\", \"title\": {\"standoff\": 15}, \"zerolinecolor\": \"white\"}}}, \"title\": {\"text\": \"Predicci\\u00f3n del modelo SEAIR de la evoluci\\u00f3n de COVID-19 en Jalisco, Escenario: Pesimista\"}, \"xaxis\": {\"anchor\": \"y\", \"domain\": [0.0, 1.0], \"title\": {\"text\": \"D\\u00edas\"}}, \"yaxis\": {\"anchor\": \"x\", \"domain\": [0.0, 1.0], \"title\": {\"text\": \"Casos Totales\"}}},\n",
              "                        {\"responsive\": true}\n",
              "                    ).then(function(){\n",
              "                            \n",
              "var gd = document.getElementById('12f5b281-c396-441f-a15c-9c466ece8069');\n",
              "var x = new MutationObserver(function (mutations, observer) {{\n",
              "        var display = window.getComputedStyle(gd).display;\n",
              "        if (!display || display === 'none') {{\n",
              "            console.log([gd, 'removed!']);\n",
              "            Plotly.purge(gd);\n",
              "            observer.disconnect();\n",
              "        }}\n",
              "}});\n",
              "\n",
              "// Listen for the removal of the full notebook cells\n",
              "var notebookContainer = gd.closest('#notebook-container');\n",
              "if (notebookContainer) {{\n",
              "    x.observe(notebookContainer, {childList: true});\n",
              "}}\n",
              "\n",
              "// Listen for the clearing of the current output cell\n",
              "var outputEl = gd.closest('.output');\n",
              "if (outputEl) {{\n",
              "    x.observe(outputEl, {childList: true});\n",
              "}}\n",
              "\n",
              "                        })\n",
              "                };\n",
              "                \n",
              "            </script>\n",
              "        </div>\n",
              "</body>\n",
              "</html>"
            ]
          },
          "metadata": {
            "tags": []
          }
        }
      ]
    },
    {
      "cell_type": "markdown",
      "metadata": {
        "id": "GNxeA7y7UMc3",
        "colab_type": "text"
      },
      "source": [
        "El escenario de intervención \"Fuerte\" incluye:\n",
        "\n",
        "* Cierre de negocios\n",
        "* Cierre de transporte\n",
        "* Cierre de escuelas\n",
        "* Pruebas masivas a conductores\n",
        "* Distanciamiento social\n",
        "* Casi todo cerrado\n",
        "\n",
        "(Wu et al., 2020)"
      ]
    },
    {
      "cell_type": "code",
      "metadata": {
        "id": "u9Rme5FYTSx2",
        "colab_type": "code",
        "colab": {
          "base_uri": "https://localhost:8080/",
          "height": 542
        },
        "outputId": "f20f1d8b-5e79-43ad-9d4e-080234a72a49"
      },
      "source": [
        "#@title Escenario Base: Ro = 1.75, Intervencion \"FUERTE\" Constante (120 Dias) { display-mode: \"form\" }\n",
        "\n",
        "\n",
        "S,E,A,I,R,D, intervencion = SEAIR_D(Condiciones_Iniciales,parametros,periodo_evaluacion,\"Fuerte\",1,120)\n",
        "E_a = np.array(E)*Population\n",
        "I_a = np.array(I)*Population\n",
        "A_a = np.array(A)*Population\n",
        "D_a = np.array(D)*Population\n",
        "Clase = np.array([\"Expuestos\"]*np.array(E).shape[0] + [\"Infectados\"]*np.array(E).shape[0]+ \n",
        "                  [\"Asintomaticos o No reportados\"]*np.array(E).shape[0] + [\"Muertes\"]*np.array(E).shape[0])\n",
        "Dias = np.concatenate([periodo_evaluacion,periodo_evaluacion,periodo_evaluacion,periodo_evaluacion])\n",
        "SEIR_df = pd.DataFrame({\n",
        "    \"Casos\": np.concatenate([E_a,I_a,A_a,D_a]),\n",
        "    \"Clase\": Clase,\n",
        "    \"Dias\" : Dias\n",
        "})\n",
        "\n",
        "fig = px.line(SEIR_df, x=\"Dias\", y=\"Casos\", color='Clase',color_discrete_sequence=[\"green\", \"red\", \"goldenrod\", \"blue\"], template = \"ggplot2\")\n",
        "\n",
        "fig.update_layout(\n",
        "    title=f\"Predicción del modelo SEAIR de la evolución de COVID-19 en Jalisco, Escenario: {intervencion}\",\n",
        "    \n",
        "    xaxis_title=\"Días\",\n",
        "    yaxis_title=\"Casos Totales\",\n",
        "    )\n",
        "\n",
        "for trace in fig.data:\n",
        "    trace.name = trace.name.split('=')[1]\n",
        "\n",
        "fig.show()"
      ],
      "execution_count": 47,
      "outputs": [
        {
          "output_type": "display_data",
          "data": {
            "text/html": [
              "<html>\n",
              "<head><meta charset=\"utf-8\" /></head>\n",
              "<body>\n",
              "    <div>\n",
              "            <script src=\"https://cdnjs.cloudflare.com/ajax/libs/mathjax/2.7.5/MathJax.js?config=TeX-AMS-MML_SVG\"></script><script type=\"text/javascript\">if (window.MathJax) {MathJax.Hub.Config({SVG: {font: \"STIX-Web\"}});}</script>\n",
              "                <script type=\"text/javascript\">window.PlotlyConfig = {MathJaxConfig: 'local'};</script>\n",
              "        <script src=\"https://cdn.plot.ly/plotly-latest.min.js\"></script>    \n",
              "            <div id=\"d98b9834-d461-4c77-89ab-2f710517acff\" class=\"plotly-graph-div\" style=\"height:525px; width:100%;\"></div>\n",
              "            <script type=\"text/javascript\">\n",
              "                \n",
              "                    window.PLOTLYENV=window.PLOTLYENV || {};\n",
              "                    \n",
              "                if (document.getElementById(\"d98b9834-d461-4c77-89ab-2f710517acff\")) {\n",
              "                    Plotly.newPlot(\n",
              "                        'd98b9834-d461-4c77-89ab-2f710517acff',\n",
              "                        [{\"hoverlabel\": {\"namelength\": 0}, \"hovertemplate\": \"Clase=Expuestos<br>Dias=%{x}<br>Casos=%{y}\", \"legendgroup\": \"Clase=Expuestos\", \"line\": {\"color\": \"green\", \"dash\": \"solid\"}, \"mode\": \"lines\", \"name\": \"Expuestos\", \"showlegend\": true, \"type\": \"scatter\", \"x\": [0.0, 1.0, 2.0, 3.0, 4.0, 5.0, 6.0, 7.0, 8.0, 9.0, 10.0, 11.0, 12.0, 13.0, 14.0, 15.0, 16.0, 17.0, 18.0, 19.0, 20.0, 21.0, 22.0, 23.0, 24.0, 25.0, 26.0, 27.0, 28.0, 29.0, 30.0, 31.0, 32.0, 33.0, 34.0, 35.0, 36.0, 37.0, 38.0, 39.0, 40.0, 41.0, 42.0, 43.0, 44.0, 45.0, 46.0, 47.0, 48.0, 49.0, 50.0, 51.0, 52.0, 53.0, 54.0, 55.0, 56.0, 57.0, 58.0, 59.0, 60.0, 61.0, 62.0, 63.0, 64.0, 65.0, 66.0, 67.0, 68.0, 69.0, 70.0, 71.0, 72.0, 73.0, 74.0, 75.0, 76.0, 77.0, 78.0, 79.0, 80.0, 81.0, 82.0, 83.0, 84.0, 85.0, 86.0, 87.0, 88.0, 89.0, 90.0, 91.0, 92.0, 93.0, 94.0, 95.0, 96.0, 97.0, 98.0, 99.0, 100.0, 101.0, 102.0, 103.0, 104.0, 105.0, 106.0, 107.0, 108.0, 109.0, 110.0, 111.0, 112.0, 113.0, 114.0, 115.0, 116.0, 117.0, 118.0, 119.0, 120.0], \"xaxis\": \"x\", \"y\": [128.0, 130.39942599999998, 139.2067034905032, 150.6604859497395, 163.68789483128538, 178.03323081300832, 193.69350736732463, 210.7485631233463, 229.310345658906, 249.5082240095086, 271.48523309022704, 295.3976779273979, 321.4158167989036, 349.724940266353, 380.5266459715056, 414.04025537386514, 450.50436333604296, 490.17852557220573, 533.3450938873955, 580.3112113234486, 631.4109807480328, 687.0078216715959, 747.4970313360685, 813.3085674481586, 884.9100713507546, 962.8101519487246, 1047.561952337165, 1139.76702282657, 1240.0795259254983, 1349.210800831484, 1467.934317098871, 1597.0910494005736, 1737.5953076808694, 1890.4410595078677, 2056.70878407483, 2237.572900063834, 2434.309812464872, 2648.306626425583, 2881.0705792736935, 3134.239244981673, 3409.591568499597, 3709.059790526782, 4034.7423263736896, 4388.917665517849, 4774.0593612003495, 5192.852181843411, 5648.209498073081, 6143.2919805564525, 6681.52768453168, 7266.6335966068455, 7902.6387178741925, 8593.908754323882, 9345.172480584417, 10161.549835738124, 11048.581799857437, 12012.262086393983, 13059.07066794308, 14196.009130408045, 15430.637822285873, 16771.114730638066, 18226.23597209861, 19805.477734646603, 21519.039442304627, 23377.88783870847, 25393.801594743436, 27579.415938095037, 29948.266676396164, 32514.832838314618, 35294.576985974476, 38303.98205508601, 41560.58335369983, 45082.99409445025, 48890.92254676831, 53005.1785737318, 57447.666962847965, 62241.36457235722, 67410.27789766819, 72979.37722177942, 78974.50305763284, 85422.24013184015, 92349.75371553891, 99784.58270254254, 107754.38349761277, 116286.61854669997, 125408.18326329759, 135144.96523706653, 145521.33001875182, 156559.52853454745, 168279.0223767288, 180695.72493393405, 193821.1586530131, 207661.53174812684, 222216.74146032927, 237479.31556447022, 253433.30922174835, 270053.18043046794, 287302.6741044083, 305133.7519845559, 323485.6128336864, 342283.85422250116, 361439.83311693545, 380850.28673408227, 400397.27698111546, 419948.52042539243, 439358.16039863974, 458468.02787613234, 477109.4227917466, 495105.42740098503, 512273.7385922933, 528429.9776131315, 543391.4050282611, 556980.9379005197, 569031.3376297562, 579389.413269171, 587920.06907003, 594510.0187254399, 599070.993843958, 601542.2911790495, 601892.5315352547, 600120.5413647644, 596255.313112437], \"yaxis\": \"y\"}, {\"hoverlabel\": {\"namelength\": 0}, \"hovertemplate\": \"Clase=Infectados<br>Dias=%{x}<br>Casos=%{y}\", \"legendgroup\": \"Clase=Infectados\", \"line\": {\"color\": \"red\", \"dash\": \"solid\"}, \"mode\": \"lines\", \"name\": \"Infectados\", \"showlegend\": true, \"type\": \"scatter\", \"x\": [0.0, 1.0, 2.0, 3.0, 4.0, 5.0, 6.0, 7.0, 8.0, 9.0, 10.0, 11.0, 12.0, 13.0, 14.0, 15.0, 16.0, 17.0, 18.0, 19.0, 20.0, 21.0, 22.0, 23.0, 24.0, 25.0, 26.0, 27.0, 28.0, 29.0, 30.0, 31.0, 32.0, 33.0, 34.0, 35.0, 36.0, 37.0, 38.0, 39.0, 40.0, 41.0, 42.0, 43.0, 44.0, 45.0, 46.0, 47.0, 48.0, 49.0, 50.0, 51.0, 52.0, 53.0, 54.0, 55.0, 56.0, 57.0, 58.0, 59.0, 60.0, 61.0, 62.0, 63.0, 64.0, 65.0, 66.0, 67.0, 68.0, 69.0, 70.0, 71.0, 72.0, 73.0, 74.0, 75.0, 76.0, 77.0, 78.0, 79.0, 80.0, 81.0, 82.0, 83.0, 84.0, 85.0, 86.0, 87.0, 88.0, 89.0, 90.0, 91.0, 92.0, 93.0, 94.0, 95.0, 96.0, 97.0, 98.0, 99.0, 100.0, 101.0, 102.0, 103.0, 104.0, 105.0, 106.0, 107.0, 108.0, 109.0, 110.0, 111.0, 112.0, 113.0, 114.0, 115.0, 116.0, 117.0, 118.0, 119.0, 120.0], \"xaxis\": \"x\", \"y\": [32.0, 39.872, 44.909985864, 49.32679103220252, 53.81112640475677, 58.5933793311373, 63.767543658704376, 69.38858596687682, 75.50203007268613, 82.15309443094539, 89.38967445181719, 97.26348615336937, 105.83067601058119, 115.15229280126309, 125.29474295642711, 136.33026828361892, 148.33746016864905, 161.401817086614, 175.616350274944, 191.08224205974983, 207.90956147229795, 226.21804211133318, 246.1379275998283, 267.8108904230139, 291.3910304110762, 317.0459596440587, 344.9579811095855, 375.3253690379505, 408.3637594759483, 444.30766034259125, 483.4120909384922, 525.9543616579253, 572.23600547987, 622.5848736927859, 677.3574092380339, 736.9411120387122, 801.757211713309, 872.2635641550912, 948.9577895852996, 1032.3806708562124, 1123.1198319821597, 1221.813718103408, 1329.155899327403, 1445.8997221284528, 1572.8633332007146, 1710.935101825279, 1861.079467899234, 2024.3432437445333, 2201.862398620533, 2394.86935544931, 2604.7008295586156, 2832.8062391709504, 3080.7567168199776, 3350.254749739631, 3643.144475407435, 3961.422655667006, 4307.250349012147, 4682.965295459831, 5091.09502170822, 5534.370665662733, 6015.741508565656, 6538.390189477909, 7105.74856027401, 7721.514119099625, 8389.666935816967, 9114.486953669935, 9900.571516512846, 10752.85292967155, 11676.615813989813, 12677.513955953804, 13761.586291046851, 14935.271581724415, 16205.421264707247, 17579.30984384728, 19064.64209396191, 20669.55621734459, 22402.621958099895, 24272.832530496522, 26289.58905736477, 28462.676045297, 30802.226248347015, 33318.67309587312, 36022.68868978212, 38925.10522057994, 42036.81752180097, 45368.66439304338, 48931.28629077451, 52734.95703463226, 56789.38733009882, 61103.498194541826, 65685.16282394486, 70540.91608522162, 75675.63169697355, 81092.16830070839, 86790.98704999106, 92769.74507186146, 99022.871182995, 105541.13255109002, 112311.20353061028, 119315.25058778464, 126530.54993928311, 133929.15709535443, 141477.6497106486, 149136.96675418562, 156862.36773473388, 164603.53526886992, 172304.84238031897, 179905.80234223465, 187341.71347567995, 194544.5040797873, 201443.77373562808, 207968.01692865542, 214046.0038035919, 219608.28161539926, 224588.7499292296, 228926.2537857304, 232566.1328045531, 235461.66134509543, 237575.31594697046, 238879.81158049434, 239358.85761631303], \"yaxis\": \"y\"}, {\"hoverlabel\": {\"namelength\": 0}, \"hovertemplate\": \"Clase=Asintomaticos o No reportados<br>Dias=%{x}<br>Casos=%{y}\", \"legendgroup\": \"Clase=Asintomaticos o No reportados\", \"line\": {\"color\": \"goldenrod\", \"dash\": \"solid\"}, \"mode\": \"lines\", \"name\": \"Asintomaticos o No reportados\", \"showlegend\": true, \"type\": \"scatter\", \"x\": [0.0, 1.0, 2.0, 3.0, 4.0, 5.0, 6.0, 7.0, 8.0, 9.0, 10.0, 11.0, 12.0, 13.0, 14.0, 15.0, 16.0, 17.0, 18.0, 19.0, 20.0, 21.0, 22.0, 23.0, 24.0, 25.0, 26.0, 27.0, 28.0, 29.0, 30.0, 31.0, 32.0, 33.0, 34.0, 35.0, 36.0, 37.0, 38.0, 39.0, 40.0, 41.0, 42.0, 43.0, 44.0, 45.0, 46.0, 47.0, 48.0, 49.0, 50.0, 51.0, 52.0, 53.0, 54.0, 55.0, 56.0, 57.0, 58.0, 59.0, 60.0, 61.0, 62.0, 63.0, 64.0, 65.0, 66.0, 67.0, 68.0, 69.0, 70.0, 71.0, 72.0, 73.0, 74.0, 75.0, 76.0, 77.0, 78.0, 79.0, 80.0, 81.0, 82.0, 83.0, 84.0, 85.0, 86.0, 87.0, 88.0, 89.0, 90.0, 91.0, 92.0, 93.0, 94.0, 95.0, 96.0, 97.0, 98.0, 99.0, 100.0, 101.0, 102.0, 103.0, 104.0, 105.0, 106.0, 107.0, 108.0, 109.0, 110.0, 111.0, 112.0, 113.0, 114.0, 115.0, 116.0, 117.0, 118.0, 119.0, 120.0], \"xaxis\": \"x\", \"y\": [128.0, 121.088, 114.88445933599999, 109.55629932141811, 105.1200098766811, 101.55197320170606, 98.82149192282081, 96.90052391499063, 95.76642503508194, 95.40261922564517, 95.79867955967941, 96.95026679055644, 98.85905918479268, 101.53271326292187, 104.98486691884762, 109.23518815112553, 114.30947041098338, 120.23977515409243, 127.06462231082351, 134.8292296827956, 143.58580261898817, 153.39387569020843, 164.32070845826712, 176.44173782512155, 189.84108984899433, 204.612154331212, 220.858225911557, 238.6932158636548, 258.2424392576824, 279.64348265780893, 303.0471580485396, 328.6185492397304, 356.53815758657527, 387.0031544802948, 420.2287487193516, 456.4496775613038, 495.92183098308453, 538.9240194433423, 585.7598962447626, 636.7600464365869, 692.2842550766343, 752.7239685857228, 818.5049638719719, 890.0902408729473, 967.9831551530247, 1052.730808192465, 1144.927714001506, 1245.2197616720014, 1354.3084944215536, 1472.9557265667545, 1601.988520653593, 1742.3045476382408, 1894.877853506459, 2060.765055991917, 2241.1119950392167, 2437.160860280555, 2650.2578179654884, 2881.8611583945453, 3133.5499828337256, 3407.033445980982, 3704.1605661456642, 4026.9306101881048, 4377.504053718453, 4758.214108806759, 5171.5788012076555, 5620.313566509731, 6107.344319295276, 6635.820930908963, 7209.1310293064835, 7830.914008163982, 8505.07510141232, 9235.799343018407, 10027.56518954696, 10885.157534171394, 11813.679784750313, 12818.564614785313, 13905.582924059496, 15080.850465210196, 16350.83150332534, 17722.338778100842, 19202.52893281801, 20798.89246262379, 22519.23711827918, 24371.663583548114, 26364.532128709983, 28506.418834604796, 30806.05988802476, 33272.2823787776, 35913.919991931325, 38739.71199821974, 41758.18401600159, 44977.50916606992, 48405.3484840562, 52048.669813062996, 55913.54489020826, 60004.92498207245, 64326.39622918278, 68879.91683631502, 73665.5393924907, 78681.12290917925, 83922.04059936316, 89380.89093763016, 95047.22107567042, 100907.27315018023, 106943.76530197814, 113135.72019915115, 119458.35438476832, 125883.04171064205, 132377.36334311974, 138905.2552315615, 145427.2614547937, 151900.89850487967, 158281.1314038592, 164520.9577321831, 170572.0904139768, 176385.72476324, 181913.37020866424, 187107.72266826694, 191923.55011056873, 196318.5617358867, 200254.23066878846], \"yaxis\": \"y\"}, {\"hoverlabel\": {\"namelength\": 0}, \"hovertemplate\": \"Clase=Muertes<br>Dias=%{x}<br>Casos=%{y}\", \"legendgroup\": \"Clase=Muertes\", \"line\": {\"color\": \"blue\", \"dash\": \"solid\"}, \"mode\": \"lines\", \"name\": \"Muertes\", \"showlegend\": true, \"type\": \"scatter\", \"x\": [0.0, 1.0, 2.0, 3.0, 4.0, 5.0, 6.0, 7.0, 8.0, 9.0, 10.0, 11.0, 12.0, 13.0, 14.0, 15.0, 16.0, 17.0, 18.0, 19.0, 20.0, 21.0, 22.0, 23.0, 24.0, 25.0, 26.0, 27.0, 28.0, 29.0, 30.0, 31.0, 32.0, 33.0, 34.0, 35.0, 36.0, 37.0, 38.0, 39.0, 40.0, 41.0, 42.0, 43.0, 44.0, 45.0, 46.0, 47.0, 48.0, 49.0, 50.0, 51.0, 52.0, 53.0, 54.0, 55.0, 56.0, 57.0, 58.0, 59.0, 60.0, 61.0, 62.0, 63.0, 64.0, 65.0, 66.0, 67.0, 68.0, 69.0, 70.0, 71.0, 72.0, 73.0, 74.0, 75.0, 76.0, 77.0, 78.0, 79.0, 80.0, 81.0, 82.0, 83.0, 84.0, 85.0, 86.0, 87.0, 88.0, 89.0, 90.0, 91.0, 92.0, 93.0, 94.0, 95.0, 96.0, 97.0, 98.0, 99.0, 100.0, 101.0, 102.0, 103.0, 104.0, 105.0, 106.0, 107.0, 108.0, 109.0, 110.0, 111.0, 112.0, 113.0, 114.0, 115.0, 116.0, 117.0, 118.0, 119.0, 120.0], \"xaxis\": \"x\", \"y\": [0.0, 0.512, 0.6379520000000001, 0.718559773824, 0.7892286565152403, 0.8609780224761083, 0.9374940692981969, 1.02028069853927, 1.110217375470029, 1.208032481162978, 1.3144495108951264, 1.430234791229075, 1.55621577845391, 1.693290816169299, 1.8424366848202096, 2.004715887302834, 2.1812842925379026, 2.3733993626983847, 2.582429073385824, 2.8098616043991043, 3.0573158729559973, 3.326552983556767, 3.6194886737813308, 3.938206841597253, 4.284974246768223, 4.66225648657722, 5.072735354304939, 5.5193276977533685, 6.005205904607208, 6.533820151615173, 7.10892256548146, 7.734593455015875, 8.415269786526805, 9.15577608767792, 9.961357979084573, 10.837718547808544, 11.791057792619394, 12.828115387412943, 13.956217026481461, 15.183324633364792, 16.5180907336994, 17.969917311714557, 19.54901948965453, 21.266494389238446, 23.134395554055246, 25.16581333121143, 27.374961629204464, 29.777271486387747, 32.38949189991253, 35.22979837792853, 38.317909687188966, 41.675213272937846, 45.32489982673521, 49.29210746911964, 53.6040759958341, 58.29031160651896, 63.38276249067209, 68.91600558419435, 74.92744472735731, 81.45752034733152, 88.54993065060373, 96.25186413705049, 104.61424303164655, 113.69197696438415, 123.54422590559399, 134.23467097307147, 145.83179125871897, 158.40914426420554, 172.04564687474482, 186.825853023837, 202.84022329526087, 220.1853806567496, 238.96434530759063, 259.28674023531596, 281.2689575015565, 305.0342735033906, 330.71289947751353, 358.44195132959834, 388.3653204879444, 420.63342491783635, 455.40281672475203, 492.83561997355224, 533.09876953397, 576.3630190365138, 622.8016835292791, 672.5890803488155, 725.8986302886941, 782.9005806523921, 843.759312554116, 908.6301972815811, 977.6559711126692, 1050.9626051831176, 1128.654657363546, 1210.810107151577, 1297.4746928113343, 1388.6557927998572, 1484.3159211497834, 1584.36593892792, 1688.6581208174402, 1796.9792564897646, 1909.0440094045543, 2024.4887990285301, 2142.866513525671, 2263.6423953703775, 2386.1914680669697, 2509.7978837557425, 2633.656564301919, 2756.877478085103, 2878.492837475754, 2997.467415610879, 3112.7120652765966, 3223.100379770049, 3327.4882708584864, 3424.736060857471, 3513.732505846388, 3593.419998867674, 3662.8200605716866, 3721.0581248728495, 3767.386581521527, 3801.205055151527, 3822.07698528791], \"yaxis\": \"y\"}],\n",
              "                        {\"legend\": {\"tracegroupgap\": 0}, \"margin\": {\"t\": 60}, \"template\": {\"data\": {\"bar\": [{\"error_x\": {\"color\": \"rgb(51,51,51)\"}, \"error_y\": {\"color\": \"rgb(51,51,51)\"}, \"marker\": {\"line\": {\"color\": \"rgb(237,237,237)\", \"width\": 0.5}}, \"type\": \"bar\"}], \"barpolar\": [{\"marker\": {\"line\": {\"color\": \"rgb(237,237,237)\", \"width\": 0.5}}, \"type\": \"barpolar\"}], \"carpet\": [{\"aaxis\": {\"endlinecolor\": \"rgb(51,51,51)\", \"gridcolor\": \"white\", \"linecolor\": \"white\", \"minorgridcolor\": \"white\", \"startlinecolor\": \"rgb(51,51,51)\"}, \"baxis\": {\"endlinecolor\": \"rgb(51,51,51)\", \"gridcolor\": \"white\", \"linecolor\": \"white\", \"minorgridcolor\": \"white\", \"startlinecolor\": \"rgb(51,51,51)\"}, \"type\": \"carpet\"}], \"choropleth\": [{\"colorbar\": {\"outlinewidth\": 0, \"tickcolor\": \"rgb(237,237,237)\", \"ticklen\": 6, \"ticks\": \"inside\"}, \"type\": \"choropleth\"}], \"contour\": [{\"colorbar\": {\"outlinewidth\": 0, \"tickcolor\": \"rgb(237,237,237)\", \"ticklen\": 6, \"ticks\": \"inside\"}, \"colorscale\": [[0, \"rgb(20,44,66)\"], [1, \"rgb(90,179,244)\"]], \"type\": \"contour\"}], \"contourcarpet\": [{\"colorbar\": {\"outlinewidth\": 0, \"tickcolor\": \"rgb(237,237,237)\", \"ticklen\": 6, \"ticks\": \"inside\"}, \"type\": \"contourcarpet\"}], \"heatmap\": [{\"colorbar\": {\"outlinewidth\": 0, \"tickcolor\": \"rgb(237,237,237)\", \"ticklen\": 6, \"ticks\": \"inside\"}, \"colorscale\": [[0, \"rgb(20,44,66)\"], [1, \"rgb(90,179,244)\"]], \"type\": \"heatmap\"}], \"heatmapgl\": [{\"colorbar\": {\"outlinewidth\": 0, \"tickcolor\": \"rgb(237,237,237)\", \"ticklen\": 6, \"ticks\": \"inside\"}, \"colorscale\": [[0, \"rgb(20,44,66)\"], [1, \"rgb(90,179,244)\"]], \"type\": \"heatmapgl\"}], \"histogram\": [{\"marker\": {\"colorbar\": {\"outlinewidth\": 0, \"tickcolor\": \"rgb(237,237,237)\", \"ticklen\": 6, \"ticks\": \"inside\"}}, \"type\": \"histogram\"}], \"histogram2d\": [{\"colorbar\": {\"outlinewidth\": 0, \"tickcolor\": \"rgb(237,237,237)\", \"ticklen\": 6, \"ticks\": \"inside\"}, \"colorscale\": [[0, \"rgb(20,44,66)\"], [1, \"rgb(90,179,244)\"]], \"type\": \"histogram2d\"}], \"histogram2dcontour\": [{\"colorbar\": {\"outlinewidth\": 0, \"tickcolor\": \"rgb(237,237,237)\", \"ticklen\": 6, \"ticks\": \"inside\"}, \"colorscale\": [[0, \"rgb(20,44,66)\"], [1, \"rgb(90,179,244)\"]], \"type\": \"histogram2dcontour\"}], \"mesh3d\": [{\"colorbar\": {\"outlinewidth\": 0, \"tickcolor\": \"rgb(237,237,237)\", \"ticklen\": 6, \"ticks\": \"inside\"}, \"type\": \"mesh3d\"}], \"parcoords\": [{\"line\": {\"colorbar\": {\"outlinewidth\": 0, \"tickcolor\": \"rgb(237,237,237)\", \"ticklen\": 6, \"ticks\": \"inside\"}}, \"type\": \"parcoords\"}], \"pie\": [{\"automargin\": true, \"type\": \"pie\"}], \"scatter\": [{\"marker\": {\"colorbar\": {\"outlinewidth\": 0, \"tickcolor\": \"rgb(237,237,237)\", \"ticklen\": 6, \"ticks\": \"inside\"}}, \"type\": \"scatter\"}], \"scatter3d\": [{\"line\": {\"colorbar\": {\"outlinewidth\": 0, \"tickcolor\": \"rgb(237,237,237)\", \"ticklen\": 6, \"ticks\": \"inside\"}}, \"marker\": {\"colorbar\": {\"outlinewidth\": 0, \"tickcolor\": \"rgb(237,237,237)\", \"ticklen\": 6, \"ticks\": \"inside\"}}, \"type\": \"scatter3d\"}], \"scattercarpet\": [{\"marker\": {\"colorbar\": {\"outlinewidth\": 0, \"tickcolor\": \"rgb(237,237,237)\", \"ticklen\": 6, \"ticks\": \"inside\"}}, \"type\": \"scattercarpet\"}], \"scattergeo\": [{\"marker\": {\"colorbar\": {\"outlinewidth\": 0, \"tickcolor\": \"rgb(237,237,237)\", \"ticklen\": 6, \"ticks\": \"inside\"}}, \"type\": \"scattergeo\"}], \"scattergl\": [{\"marker\": {\"colorbar\": {\"outlinewidth\": 0, \"tickcolor\": \"rgb(237,237,237)\", \"ticklen\": 6, \"ticks\": \"inside\"}}, \"type\": \"scattergl\"}], \"scattermapbox\": [{\"marker\": {\"colorbar\": {\"outlinewidth\": 0, \"tickcolor\": \"rgb(237,237,237)\", \"ticklen\": 6, \"ticks\": \"inside\"}}, \"type\": \"scattermapbox\"}], \"scatterpolar\": [{\"marker\": {\"colorbar\": {\"outlinewidth\": 0, \"tickcolor\": \"rgb(237,237,237)\", \"ticklen\": 6, \"ticks\": \"inside\"}}, \"type\": \"scatterpolar\"}], \"scatterpolargl\": [{\"marker\": {\"colorbar\": {\"outlinewidth\": 0, \"tickcolor\": \"rgb(237,237,237)\", \"ticklen\": 6, \"ticks\": \"inside\"}}, \"type\": \"scatterpolargl\"}], \"scatterternary\": [{\"marker\": {\"colorbar\": {\"outlinewidth\": 0, \"tickcolor\": \"rgb(237,237,237)\", \"ticklen\": 6, \"ticks\": \"inside\"}}, \"type\": \"scatterternary\"}], \"surface\": [{\"colorbar\": {\"outlinewidth\": 0, \"tickcolor\": \"rgb(237,237,237)\", \"ticklen\": 6, \"ticks\": \"inside\"}, \"colorscale\": [[0, \"rgb(20,44,66)\"], [1, \"rgb(90,179,244)\"]], \"type\": \"surface\"}], \"table\": [{\"cells\": {\"fill\": {\"color\": \"rgb(237,237,237)\"}, \"line\": {\"color\": \"white\"}}, \"header\": {\"fill\": {\"color\": \"rgb(217,217,217)\"}, \"line\": {\"color\": \"white\"}}, \"type\": \"table\"}]}, \"layout\": {\"annotationdefaults\": {\"arrowhead\": 0, \"arrowwidth\": 1}, \"coloraxis\": {\"colorbar\": {\"outlinewidth\": 0, \"tickcolor\": \"rgb(237,237,237)\", \"ticklen\": 6, \"ticks\": \"inside\"}}, \"colorscale\": {\"sequential\": [[0, \"rgb(20,44,66)\"], [1, \"rgb(90,179,244)\"]], \"sequentialminus\": [[0, \"rgb(20,44,66)\"], [1, \"rgb(90,179,244)\"]]}, \"colorway\": [\"#F8766D\", \"#A3A500\", \"#00BF7D\", \"#00B0F6\", \"#E76BF3\"], \"font\": {\"color\": \"rgb(51,51,51)\"}, \"geo\": {\"bgcolor\": \"white\", \"lakecolor\": \"white\", \"landcolor\": \"rgb(237,237,237)\", \"showlakes\": true, \"showland\": true, \"subunitcolor\": \"white\"}, \"hoverlabel\": {\"align\": \"left\"}, \"hovermode\": \"closest\", \"paper_bgcolor\": \"white\", \"plot_bgcolor\": \"rgb(237,237,237)\", \"polar\": {\"angularaxis\": {\"gridcolor\": \"white\", \"linecolor\": \"white\", \"showgrid\": true, \"tickcolor\": \"rgb(51,51,51)\", \"ticks\": \"outside\"}, \"bgcolor\": \"rgb(237,237,237)\", \"radialaxis\": {\"gridcolor\": \"white\", \"linecolor\": \"white\", \"showgrid\": true, \"tickcolor\": \"rgb(51,51,51)\", \"ticks\": \"outside\"}}, \"scene\": {\"xaxis\": {\"backgroundcolor\": \"rgb(237,237,237)\", \"gridcolor\": \"white\", \"gridwidth\": 2, \"linecolor\": \"white\", \"showbackground\": true, \"showgrid\": true, \"tickcolor\": \"rgb(51,51,51)\", \"ticks\": \"outside\", \"zerolinecolor\": \"white\"}, \"yaxis\": {\"backgroundcolor\": \"rgb(237,237,237)\", \"gridcolor\": \"white\", \"gridwidth\": 2, \"linecolor\": \"white\", \"showbackground\": true, \"showgrid\": true, \"tickcolor\": \"rgb(51,51,51)\", \"ticks\": \"outside\", \"zerolinecolor\": \"white\"}, \"zaxis\": {\"backgroundcolor\": \"rgb(237,237,237)\", \"gridcolor\": \"white\", \"gridwidth\": 2, \"linecolor\": \"white\", \"showbackground\": true, \"showgrid\": true, \"tickcolor\": \"rgb(51,51,51)\", \"ticks\": \"outside\", \"zerolinecolor\": \"white\"}}, \"shapedefaults\": {\"fillcolor\": \"black\", \"line\": {\"width\": 0}, \"opacity\": 0.3}, \"ternary\": {\"aaxis\": {\"gridcolor\": \"white\", \"linecolor\": \"white\", \"showgrid\": true, \"tickcolor\": \"rgb(51,51,51)\", \"ticks\": \"outside\"}, \"baxis\": {\"gridcolor\": \"white\", \"linecolor\": \"white\", \"showgrid\": true, \"tickcolor\": \"rgb(51,51,51)\", \"ticks\": \"outside\"}, \"bgcolor\": \"rgb(237,237,237)\", \"caxis\": {\"gridcolor\": \"white\", \"linecolor\": \"white\", \"showgrid\": true, \"tickcolor\": \"rgb(51,51,51)\", \"ticks\": \"outside\"}}, \"xaxis\": {\"automargin\": true, \"gridcolor\": \"white\", \"linecolor\": \"white\", \"showgrid\": true, \"tickcolor\": \"rgb(51,51,51)\", \"ticks\": \"outside\", \"title\": {\"standoff\": 15}, \"zerolinecolor\": \"white\"}, \"yaxis\": {\"automargin\": true, \"gridcolor\": \"white\", \"linecolor\": \"white\", \"showgrid\": true, \"tickcolor\": \"rgb(51,51,51)\", \"ticks\": \"outside\", \"title\": {\"standoff\": 15}, \"zerolinecolor\": \"white\"}}}, \"title\": {\"text\": \"Predicci\\u00f3n del modelo SEAIR de la evoluci\\u00f3n de COVID-19 en Jalisco, Escenario: Fuerte\"}, \"xaxis\": {\"anchor\": \"y\", \"domain\": [0.0, 1.0], \"title\": {\"text\": \"D\\u00edas\"}}, \"yaxis\": {\"anchor\": \"x\", \"domain\": [0.0, 1.0], \"title\": {\"text\": \"Casos Totales\"}}},\n",
              "                        {\"responsive\": true}\n",
              "                    ).then(function(){\n",
              "                            \n",
              "var gd = document.getElementById('d98b9834-d461-4c77-89ab-2f710517acff');\n",
              "var x = new MutationObserver(function (mutations, observer) {{\n",
              "        var display = window.getComputedStyle(gd).display;\n",
              "        if (!display || display === 'none') {{\n",
              "            console.log([gd, 'removed!']);\n",
              "            Plotly.purge(gd);\n",
              "            observer.disconnect();\n",
              "        }}\n",
              "}});\n",
              "\n",
              "// Listen for the removal of the full notebook cells\n",
              "var notebookContainer = gd.closest('#notebook-container');\n",
              "if (notebookContainer) {{\n",
              "    x.observe(notebookContainer, {childList: true});\n",
              "}}\n",
              "\n",
              "// Listen for the clearing of the current output cell\n",
              "var outputEl = gd.closest('.output');\n",
              "if (outputEl) {{\n",
              "    x.observe(outputEl, {childList: true});\n",
              "}}\n",
              "\n",
              "                        })\n",
              "                };\n",
              "                \n",
              "            </script>\n",
              "        </div>\n",
              "</body>\n",
              "</html>"
            ]
          },
          "metadata": {
            "tags": []
          }
        }
      ]
    },
    {
      "cell_type": "markdown",
      "metadata": {
        "id": "6LlNNn4AWtlZ",
        "colab_type": "text"
      },
      "source": [
        "Escenario moderado incluye:\n",
        "\n",
        "* Distanciamiento social\n",
        "* Cierre de escuelas\n",
        "\n",
        "(Wu et al., 2020)"
      ]
    },
    {
      "cell_type": "code",
      "metadata": {
        "id": "Hr3HEBm7UGdf",
        "colab_type": "code",
        "colab": {
          "base_uri": "https://localhost:8080/",
          "height": 542
        },
        "outputId": "145bda12-b202-4bb6-ae39-085711c2d030"
      },
      "source": [
        "#@title Escenario Moderada: Ro = 2.62, Intervencion Constante (120 Dias) { display-mode: \"form\" }\n",
        "\n",
        "S,E,A,I,R,D, intervencion = SEAIR_D(Condiciones_Iniciales,parametros,periodo_evaluacion,\"Moderada\",1,120)\n",
        "E_a = np.array(E)*Population\n",
        "I_a = np.array(I)*Population\n",
        "A_a = np.array(A)*Population\n",
        "D_a = np.array(D)*Population\n",
        "Clase = np.array([\"Expuestos\"]*np.array(E).shape[0] + [\"Infectados\"]*np.array(E).shape[0]+ \n",
        "                  [\"Asintomaticos o No reportados\"]*np.array(E).shape[0] + [\"Muertes\"]*np.array(E).shape[0])\n",
        "Dias = np.concatenate([periodo_evaluacion,periodo_evaluacion,periodo_evaluacion,periodo_evaluacion])\n",
        "SEIR_df = pd.DataFrame({\n",
        "    \"Casos\": np.concatenate([E_a,I_a,A_a,D_a]),\n",
        "    \"Clase\": Clase,\n",
        "    \"Dias\" : Dias\n",
        "})\n",
        "\n",
        "fig = px.line(SEIR_df, x=\"Dias\", y=\"Casos\", color='Clase',color_discrete_sequence=[\"green\", \"red\", \"goldenrod\", \"blue\"], template = \"ggplot2\")\n",
        "\n",
        "fig.update_layout(\n",
        "    title=f\"Predicción del modelo SEAIR de la evolución de COVID-19 en Jalisco, Escenario: {intervencion}\",\n",
        "    \n",
        "    xaxis_title=\"Días\",\n",
        "    yaxis_title=\"Casos Totales\",\n",
        "    )\n",
        "\n",
        "for trace in fig.data:\n",
        "    trace.name = trace.name.split('=')[1]\n",
        "\n",
        "fig.show()"
      ],
      "execution_count": 46,
      "outputs": [
        {
          "output_type": "display_data",
          "data": {
            "text/html": [
              "<html>\n",
              "<head><meta charset=\"utf-8\" /></head>\n",
              "<body>\n",
              "    <div>\n",
              "            <script src=\"https://cdnjs.cloudflare.com/ajax/libs/mathjax/2.7.5/MathJax.js?config=TeX-AMS-MML_SVG\"></script><script type=\"text/javascript\">if (window.MathJax) {MathJax.Hub.Config({SVG: {font: \"STIX-Web\"}});}</script>\n",
              "                <script type=\"text/javascript\">window.PlotlyConfig = {MathJaxConfig: 'local'};</script>\n",
              "        <script src=\"https://cdn.plot.ly/plotly-latest.min.js\"></script>    \n",
              "            <div id=\"a1169ce3-9b4d-4f99-8f0d-d33100616ca1\" class=\"plotly-graph-div\" style=\"height:525px; width:100%;\"></div>\n",
              "            <script type=\"text/javascript\">\n",
              "                \n",
              "                    window.PLOTLYENV=window.PLOTLYENV || {};\n",
              "                    \n",
              "                if (document.getElementById(\"a1169ce3-9b4d-4f99-8f0d-d33100616ca1\")) {\n",
              "                    Plotly.newPlot(\n",
              "                        'a1169ce3-9b4d-4f99-8f0d-d33100616ca1',\n",
              "                        [{\"hoverlabel\": {\"namelength\": 0}, \"hovertemplate\": \"Clase=Expuestos<br>Dias=%{x}<br>Casos=%{y}\", \"legendgroup\": \"Clase=Expuestos\", \"line\": {\"color\": \"green\", \"dash\": \"solid\"}, \"mode\": \"lines\", \"name\": \"Expuestos\", \"showlegend\": true, \"type\": \"scatter\", \"x\": [0.0, 1.0, 2.0, 3.0, 4.0, 5.0, 6.0, 7.0, 8.0, 9.0, 10.0, 11.0, 12.0, 13.0, 14.0, 15.0, 16.0, 17.0, 18.0, 19.0, 20.0, 21.0, 22.0, 23.0, 24.0, 25.0, 26.0, 27.0, 28.0, 29.0, 30.0, 31.0, 32.0, 33.0, 34.0, 35.0, 36.0, 37.0, 38.0, 39.0, 40.0, 41.0, 42.0, 43.0, 44.0, 45.0, 46.0, 47.0, 48.0, 49.0, 50.0, 51.0, 52.0, 53.0, 54.0, 55.0, 56.0, 57.0, 58.0, 59.0, 60.0, 61.0, 62.0, 63.0, 64.0, 65.0, 66.0, 67.0, 68.0, 69.0, 70.0, 71.0, 72.0, 73.0, 74.0, 75.0, 76.0, 77.0, 78.0, 79.0, 80.0, 81.0, 82.0, 83.0, 84.0, 85.0, 86.0, 87.0, 88.0, 89.0, 90.0, 91.0, 92.0, 93.0, 94.0, 95.0, 96.0, 97.0, 98.0, 99.0, 100.0, 101.0, 102.0, 103.0, 104.0, 105.0, 106.0, 107.0, 108.0, 109.0, 110.0, 111.0, 112.0, 113.0, 114.0, 115.0, 116.0, 117.0, 118.0, 119.0, 120.0], \"xaxis\": \"x\", \"y\": [128.0, 144.399139, 167.8499636566322, 196.23576490203376, 229.67050546701316, 268.85600549302114, 314.7384566125392, 368.4527635144392, 431.33335823617296, 504.94350722434706, 591.1132506444159, 691.9845846672613, 810.0644844793003, 948.2869516383431, 1110.0855721310154, 1299.4783398634634, 1521.1667928973684, 1780.651843782566, 2084.3690694144348, 2439.846666949299, 2855.889787272438, 3342.795533092659, 3912.6035613095437, 4579.387964262945, 5359.596925355558, 6272.447551685336, 7340.384275033385, 8589.610270436438, 10050.702444882258, 11759.321657222627, 13757.030880678632, 16092.234915103647, 18821.25585608194, 22009.558628920113, 25733.140211433485, 30080.09430326817, 35152.35960923542, 41067.65386021522, 47961.58623085822, 55989.92666915752, 65330.9902204031, 76188.0657015099, 88791.77863706517, 103402.2253972885, 120310.6459257045, 139840.31332303284, 162346.20753539255, 188212.9068211278, 217849.9771526634, 251683.9744983847, 290146.0151890019, 333653.74553406704, 382586.50145755114, 437252.5618931464, 497847.75891970104, 564405.4243137187, 636738.8395278064, 714379.0955061079, 796513.554121747, 881932.7643020002, 968996.3064942504, 1055629.902247454, 1139366.2474135582, 1217439.3438514266, 1286935.8525300445, 1344997.235534398, 1389054.5725035826, 1417066.7391696488, 1427725.8149144014, 1420594.437826371, 1396149.654139917, 1355724.8500766049, 1301361.0040241908, 1235594.9918735498, 1161221.4553259145, 1081064.2127123347, 997785.0093311657, 913745.2780702128, 830924.4758038807, 750889.2818698758, 674802.6140463527, 603459.7467779468, 537339.7517000913, 476662.81388727034, 421446.72541167354, 371558.3944189879, 326758.2340882365, 286736.74277306953, 251143.51448640577, 219609.44034092815, 191763.09511547457, 167242.3504389992, 145702.19460468367, 126819.62280488979, 110296.32555134116, 95859.76800728237, 83263.12998848857, 72284.47031851672, 62725.3911272425, 54409.40656961743, 47180.16433351881, 40899.62488320109, 35446.27035809538, 30713.390339033074, 26607.473518141465, 23046.721179713695, 19959.689114763347, 17284.058196955455, 14965.529596052675, 12956.837921656335, 11216.874036517534, 9709.908524672406, 8404.906598749656, 7274.925401259915, 6296.585063983288, 5449.605442357391, 4716.401070472251, 4081.727539966333, 3532.3731610180844, 3056.8903950026656, 2645.3621434359766], \"yaxis\": \"y\"}, {\"hoverlabel\": {\"namelength\": 0}, \"hovertemplate\": \"Clase=Infectados<br>Dias=%{x}<br>Casos=%{y}\", \"legendgroup\": \"Clase=Infectados\", \"line\": {\"color\": \"red\", \"dash\": \"solid\"}, \"mode\": \"lines\", \"name\": \"Infectados\", \"showlegend\": true, \"type\": \"scatter\", \"x\": [0.0, 1.0, 2.0, 3.0, 4.0, 5.0, 6.0, 7.0, 8.0, 9.0, 10.0, 11.0, 12.0, 13.0, 14.0, 15.0, 16.0, 17.0, 18.0, 19.0, 20.0, 21.0, 22.0, 23.0, 24.0, 25.0, 26.0, 27.0, 28.0, 29.0, 30.0, 31.0, 32.0, 33.0, 34.0, 35.0, 36.0, 37.0, 38.0, 39.0, 40.0, 41.0, 42.0, 43.0, 44.0, 45.0, 46.0, 47.0, 48.0, 49.0, 50.0, 51.0, 52.0, 53.0, 54.0, 55.0, 56.0, 57.0, 58.0, 59.0, 60.0, 61.0, 62.0, 63.0, 64.0, 65.0, 66.0, 67.0, 68.0, 69.0, 70.0, 71.0, 72.0, 73.0, 74.0, 75.0, 76.0, 77.0, 78.0, 79.0, 80.0, 81.0, 82.0, 83.0, 84.0, 85.0, 86.0, 87.0, 88.0, 89.0, 90.0, 91.0, 92.0, 93.0, 94.0, 95.0, 96.0, 97.0, 98.0, 99.0, 100.0, 101.0, 102.0, 103.0, 104.0, 105.0, 106.0, 107.0, 108.0, 109.0, 110.0, 111.0, 112.0, 113.0, 114.0, 115.0, 116.0, 117.0, 118.0, 119.0, 120.0], \"xaxis\": \"x\", \"y\": [32.0, 39.872, 47.205938796, 55.378897929327685, 64.85621522223687, 75.93112987770992, 88.89175152870432, 104.06324028639197, 121.82356498533929, 142.61457409208253, 166.95333389912162, 195.44504010616595, 228.79804554806876, 267.84142232796586, 313.5454992421881, 367.0458783823775, 429.6715159832107, 502.9775484652627, 588.7836559748459, 689.2188844091263, 806.7739951810696, 944.3625822695109, 1105.3923909662076, 1293.8484947248278, 1514.3902380267714, 1772.4641361941067, 2074.435238830918, 2427.739812015717, 2841.0625734408486, 3324.542119290791, 3890.0086021660773, 4551.258139709282, 5324.368828505474, 6228.0635692156675, 7284.125120980142, 8517.868816053375, 9958.678067207473, 11640.607035567018, 13603.053384059836, 15891.501638456055, 18558.333940430908, 21663.699421000343, 25276.425433437827, 29474.94270220701, 34348.18115945745, 39996.37281589544, 46531.67134635569, 54078.46413015424, 62773.21055545597, 72763.59048075583, 84206.69020138102, 97265.89370981112, 112106.09155637556, 128886.78025729996, 147752.62050228298, 168821.07855917793, 192166.92593736484, 217803.65598560552, 245662.32869450893, 275568.99680572684, 307222.68146090687, 340176.77632699214, 373827.6020015078, 407414.34975671314, 440034.51874809474, 470677.84587630315, 498279.47569466016, 521789.8405504371, 540254.9511485803, 552897.4548236242, 559186.9861494631, 558888.8651071298, 552083.3058257697, 539152.3550971714, 520737.46817459335, 497675.42489646, 470923.0315737343, 441481.33015881444, 410328.21039721544, 378365.2581661936, 346381.34454471385, 315032.62198498304, 284836.64544272324, 256177.3400900217, 229317.33213062515, 204414.4889245833, 181540.12515021817, 160697.0242290995, 141836.07010995212, 124870.81774064229, 109689.73068289117, 96166.08870184362, 84165.7378060836, 73552.94522075745, 64194.655820248816, 55963.444324366756, 48739.4341045707, 42411.41943980884, 36877.39060172396, 32044.624599884908, 27829.471191349356, 24156.934953593205, 20960.13010346497, 18179.665099771977, 15762.998424466889, 13663.794727410666, 11841.301162645339, 10259.75670078194, 8887.84199776204, 7698.173632432243, 6666.843862286662, 5773.005220738007, 4998.498078281698, 4327.518548381146, 3746.323709351502, 3242.970939010646, 2807.0881465628936, 2429.6717820295567, 2102.909667951917, 1820.025902498597, 1575.1453072546094], \"yaxis\": \"y\"}, {\"hoverlabel\": {\"namelength\": 0}, \"hovertemplate\": \"Clase=Asintomaticos o No reportados<br>Dias=%{x}<br>Casos=%{y}\", \"legendgroup\": \"Clase=Asintomaticos o No reportados\", \"line\": {\"color\": \"goldenrod\", \"dash\": \"solid\"}, \"mode\": \"lines\", \"name\": \"Asintomaticos o No reportados\", \"showlegend\": true, \"type\": \"scatter\", \"x\": [0.0, 1.0, 2.0, 3.0, 4.0, 5.0, 6.0, 7.0, 8.0, 9.0, 10.0, 11.0, 12.0, 13.0, 14.0, 15.0, 16.0, 17.0, 18.0, 19.0, 20.0, 21.0, 22.0, 23.0, 24.0, 25.0, 26.0, 27.0, 28.0, 29.0, 30.0, 31.0, 32.0, 33.0, 34.0, 35.0, 36.0, 37.0, 38.0, 39.0, 40.0, 41.0, 42.0, 43.0, 44.0, 45.0, 46.0, 47.0, 48.0, 49.0, 50.0, 51.0, 52.0, 53.0, 54.0, 55.0, 56.0, 57.0, 58.0, 59.0, 60.0, 61.0, 62.0, 63.0, 64.0, 65.0, 66.0, 67.0, 68.0, 69.0, 70.0, 71.0, 72.0, 73.0, 74.0, 75.0, 76.0, 77.0, 78.0, 79.0, 80.0, 81.0, 82.0, 83.0, 84.0, 85.0, 86.0, 87.0, 88.0, 89.0, 90.0, 91.0, 92.0, 93.0, 94.0, 95.0, 96.0, 97.0, 98.0, 99.0, 100.0, 101.0, 102.0, 103.0, 104.0, 105.0, 106.0, 107.0, 108.0, 109.0, 110.0, 111.0, 112.0, 113.0, 114.0, 115.0, 116.0, 117.0, 118.0, 119.0, 120.0], \"xaxis\": \"x\", \"y\": [128.0, 121.088, 115.38844900399998, 111.04608728527874, 108.11642696607687, 106.65408673594243, 106.73403512745638, 108.45855640403671, 111.96158581419323, 117.41304398741806, 125.02383628862692, 135.05176804584949, 147.80855396974442, 163.66810555372223, 183.07630631286762, 206.56251934142608, 234.75311283578242, 268.38733722486734, 308.3359432508017, 355.6229948571492, 411.45140533018053, 477.23281119227204, 554.6224973763033, 645.5602008195796, 752.3177494592835, 877.5546413207481, 1024.382835462553, 1196.4422141721252, 1397.9883846323457, 1633.9947180311958, 1910.2707730684028, 2233.5995151966777, 2611.896015772708, 3054.3905851721142, 3571.8395431477484, 4176.7670318760565, 4883.741393924866, 5709.689614404104, 6674.253088075482, 7800.187414459586, 9113.807907247894, 10645.480843530097, 12430.157932866747, 14507.947749843088, 16924.712566659597, 19732.671688985596, 22990.982516606073, 26766.25756138566, 31132.959026421555, 36173.5918915395, 41978.59170324279, 48645.77499675501, 56279.190086273484, 64987.17703098071, 74879.42332634573, 86062.79454808385, 98635.73831405018, 112681.1200887867, 128257.46671901578, 145388.78266268727, 164053.37173791742, 184172.43531529786, 205599.59261782942, 228112.8141891129, 251410.4772907441, 275113.2250256588, 298772.9352525878, 321889.3356899839, 343933.6980879927, 364377.79459699185, 382725.19284501194, 398541.31303799787, 411478.6894673358, 421294.60356014647, 427859.5089471811, 431156.12553366774, 431270.3858932817, 428376.3114988083, 422717.27347444324, 414585.99999068305, 404305.2741388371, 392210.69357201044, 378636.2820345356, 363903.24771263066, 348311.8167184356, 332135.8353285967, 315619.71234810655, 298977.2346639535, 282391.80628402816, 266017.71023997624, 249982.05617065178, 234387.1425394502, 219313.02432670366, 204820.13114306892, 190951.82576116876, 177736.82916251186, 165191.46618614794, 153321.7069089802, 142124.99421863857, 131591.85881954184, 121707.33016228929, 112452.15636368994, 103803.84878675308, 95737.56812883675, 88226.86904944663, 81244.31988164953, 74762.01305477077, 68751.98068797286, 63186.5285211457, 58038.500019700485, 53281.48118310707, 48889.95534194206, 44839.416068055485, 41106.44525948548, 37668.76250057714, 34505.2509378286, 31595.964149348893, 28922.117814444493, 26466.069402583274, 24211.28859014743, 22142.320671254252], \"yaxis\": \"y\"}, {\"hoverlabel\": {\"namelength\": 0}, \"hovertemplate\": \"Clase=Muertes<br>Dias=%{x}<br>Casos=%{y}\", \"legendgroup\": \"Clase=Muertes\", \"line\": {\"color\": \"blue\", \"dash\": \"solid\"}, \"mode\": \"lines\", \"name\": \"Muertes\", \"showlegend\": true, \"type\": \"scatter\", \"x\": [0.0, 1.0, 2.0, 3.0, 4.0, 5.0, 6.0, 7.0, 8.0, 9.0, 10.0, 11.0, 12.0, 13.0, 14.0, 15.0, 16.0, 17.0, 18.0, 19.0, 20.0, 21.0, 22.0, 23.0, 24.0, 25.0, 26.0, 27.0, 28.0, 29.0, 30.0, 31.0, 32.0, 33.0, 34.0, 35.0, 36.0, 37.0, 38.0, 39.0, 40.0, 41.0, 42.0, 43.0, 44.0, 45.0, 46.0, 47.0, 48.0, 49.0, 50.0, 51.0, 52.0, 53.0, 54.0, 55.0, 56.0, 57.0, 58.0, 59.0, 60.0, 61.0, 62.0, 63.0, 64.0, 65.0, 66.0, 67.0, 68.0, 69.0, 70.0, 71.0, 72.0, 73.0, 74.0, 75.0, 76.0, 77.0, 78.0, 79.0, 80.0, 81.0, 82.0, 83.0, 84.0, 85.0, 86.0, 87.0, 88.0, 89.0, 90.0, 91.0, 92.0, 93.0, 94.0, 95.0, 96.0, 97.0, 98.0, 99.0, 100.0, 101.0, 102.0, 103.0, 104.0, 105.0, 106.0, 107.0, 108.0, 109.0, 110.0, 111.0, 112.0, 113.0, 114.0, 115.0, 116.0, 117.0, 118.0, 119.0, 120.0], \"xaxis\": \"x\", \"y\": [0.0, 0.512, 0.6379520000000001, 0.755295020736, 0.8860623668692429, 1.03769944355579, 1.2148980780433587, 1.4222680244592691, 1.6650118445822717, 1.9491770397654287, 2.2818331854733205, 2.6712533423859455, 3.1271206416986557, 3.6607687287691, 4.285462757247453, 5.01672798787501, 5.87273405411804, 6.874744255731371, 8.047640775444204, 9.420538495597533, 11.027502150546022, 12.908383922897114, 15.109801316312174, 17.68627825545932, 20.701575915597246, 24.230243808428344, 28.359426179105707, 33.190963821294694, 38.84383699225147, 45.45700117505358, 53.19267390865266, 62.24013763465724, 72.8201302353485, 85.18990125608758, 99.64901710745067, 116.54600193568228, 136.28590105685402, 159.3388490753196, 186.2497125690723, 217.6488541449574, 254.2640262152969, 296.93334304689455, 346.61919073600546, 404.42280693500527, 471.59908323531215, 549.5708985513191, 639.941965054327, 744.506741541691, 865.2554260824679, 1004.3713688872955, 1164.2174476920932, 1347.3070432220964, 1556.254299356978, 1793.697464902009, 2062.1884841167994, 2364.041928036528, 2701.137256946847, 3074.6708149978376, 3484.8584957696885, 3930.597259112143, 4409.103948891629, 4915.56290337451, 5442.828421231874, 5981.2416320241255, 6518.62959610741, 7040.552299969516, 7530.845534020851, 7972.471611114562, 8348.637448806994, 8644.079218377285, 8846.359277177988, 8946.99177839141, 8942.221841714078, 8833.332893212317, 8626.437681554742, 8331.799490793494, 7962.806798343361, 7534.76850517975, 7063.701282541032, 6565.251366355447, 6053.844130659098, 5542.101512715422, 5040.521951759729, 4557.386327083572, 4098.837441440347, 3669.077314090002, 3270.631822793333, 2904.642002403491, 2571.152387665592, 2269.377121759234, 1997.933083850277, 1755.0356909262587, 1538.6574192294981, 1346.6518048973378, 1176.8471235321192, 1027.114493123981, 895.4151091898681, 779.8309456731312, 678.5827110369414, 590.0382496275834, 512.7139935981586, 445.2715390615897, 386.5109592574913, 335.3620816554395, 290.87464159635164, 252.2079747914702, 218.62071563857066, 189.46081860232542, 164.15610721251102, 142.20547196419264, 123.1707781189159, 106.6695017965866, 92.36808353180811, 79.97596925250717, 69.24029677409833, 59.941179349624036, 51.88753502417033, 44.91341034500629, 38.874748512472905, 33.646554687230676, 29.12041443997755], \"yaxis\": \"y\"}],\n",
              "                        {\"legend\": {\"tracegroupgap\": 0}, \"margin\": {\"t\": 60}, \"template\": {\"data\": {\"bar\": [{\"error_x\": {\"color\": \"rgb(51,51,51)\"}, \"error_y\": {\"color\": \"rgb(51,51,51)\"}, \"marker\": {\"line\": {\"color\": \"rgb(237,237,237)\", \"width\": 0.5}}, \"type\": \"bar\"}], \"barpolar\": [{\"marker\": {\"line\": {\"color\": \"rgb(237,237,237)\", \"width\": 0.5}}, \"type\": \"barpolar\"}], \"carpet\": [{\"aaxis\": {\"endlinecolor\": \"rgb(51,51,51)\", \"gridcolor\": \"white\", \"linecolor\": \"white\", \"minorgridcolor\": \"white\", \"startlinecolor\": \"rgb(51,51,51)\"}, \"baxis\": {\"endlinecolor\": \"rgb(51,51,51)\", \"gridcolor\": \"white\", \"linecolor\": \"white\", \"minorgridcolor\": \"white\", \"startlinecolor\": \"rgb(51,51,51)\"}, \"type\": \"carpet\"}], \"choropleth\": [{\"colorbar\": {\"outlinewidth\": 0, \"tickcolor\": \"rgb(237,237,237)\", \"ticklen\": 6, \"ticks\": \"inside\"}, \"type\": \"choropleth\"}], \"contour\": [{\"colorbar\": {\"outlinewidth\": 0, \"tickcolor\": \"rgb(237,237,237)\", \"ticklen\": 6, \"ticks\": \"inside\"}, \"colorscale\": [[0, \"rgb(20,44,66)\"], [1, \"rgb(90,179,244)\"]], \"type\": \"contour\"}], \"contourcarpet\": [{\"colorbar\": {\"outlinewidth\": 0, \"tickcolor\": \"rgb(237,237,237)\", \"ticklen\": 6, \"ticks\": \"inside\"}, \"type\": \"contourcarpet\"}], \"heatmap\": [{\"colorbar\": {\"outlinewidth\": 0, \"tickcolor\": \"rgb(237,237,237)\", \"ticklen\": 6, \"ticks\": \"inside\"}, \"colorscale\": [[0, \"rgb(20,44,66)\"], [1, \"rgb(90,179,244)\"]], \"type\": \"heatmap\"}], \"heatmapgl\": [{\"colorbar\": {\"outlinewidth\": 0, \"tickcolor\": \"rgb(237,237,237)\", \"ticklen\": 6, \"ticks\": \"inside\"}, \"colorscale\": [[0, \"rgb(20,44,66)\"], [1, \"rgb(90,179,244)\"]], \"type\": \"heatmapgl\"}], \"histogram\": [{\"marker\": {\"colorbar\": {\"outlinewidth\": 0, \"tickcolor\": \"rgb(237,237,237)\", \"ticklen\": 6, \"ticks\": \"inside\"}}, \"type\": \"histogram\"}], \"histogram2d\": [{\"colorbar\": {\"outlinewidth\": 0, \"tickcolor\": \"rgb(237,237,237)\", \"ticklen\": 6, \"ticks\": \"inside\"}, \"colorscale\": [[0, \"rgb(20,44,66)\"], [1, \"rgb(90,179,244)\"]], \"type\": \"histogram2d\"}], \"histogram2dcontour\": [{\"colorbar\": {\"outlinewidth\": 0, \"tickcolor\": \"rgb(237,237,237)\", \"ticklen\": 6, \"ticks\": \"inside\"}, \"colorscale\": [[0, \"rgb(20,44,66)\"], [1, \"rgb(90,179,244)\"]], \"type\": \"histogram2dcontour\"}], \"mesh3d\": [{\"colorbar\": {\"outlinewidth\": 0, \"tickcolor\": \"rgb(237,237,237)\", \"ticklen\": 6, \"ticks\": \"inside\"}, \"type\": \"mesh3d\"}], \"parcoords\": [{\"line\": {\"colorbar\": {\"outlinewidth\": 0, \"tickcolor\": \"rgb(237,237,237)\", \"ticklen\": 6, \"ticks\": \"inside\"}}, \"type\": \"parcoords\"}], \"pie\": [{\"automargin\": true, \"type\": \"pie\"}], \"scatter\": [{\"marker\": {\"colorbar\": {\"outlinewidth\": 0, \"tickcolor\": \"rgb(237,237,237)\", \"ticklen\": 6, \"ticks\": \"inside\"}}, \"type\": \"scatter\"}], \"scatter3d\": [{\"line\": {\"colorbar\": {\"outlinewidth\": 0, \"tickcolor\": \"rgb(237,237,237)\", \"ticklen\": 6, \"ticks\": \"inside\"}}, \"marker\": {\"colorbar\": {\"outlinewidth\": 0, \"tickcolor\": \"rgb(237,237,237)\", \"ticklen\": 6, \"ticks\": \"inside\"}}, \"type\": \"scatter3d\"}], \"scattercarpet\": [{\"marker\": {\"colorbar\": {\"outlinewidth\": 0, \"tickcolor\": \"rgb(237,237,237)\", \"ticklen\": 6, \"ticks\": \"inside\"}}, \"type\": \"scattercarpet\"}], \"scattergeo\": [{\"marker\": {\"colorbar\": {\"outlinewidth\": 0, \"tickcolor\": \"rgb(237,237,237)\", \"ticklen\": 6, \"ticks\": \"inside\"}}, \"type\": \"scattergeo\"}], \"scattergl\": [{\"marker\": {\"colorbar\": {\"outlinewidth\": 0, \"tickcolor\": \"rgb(237,237,237)\", \"ticklen\": 6, \"ticks\": \"inside\"}}, \"type\": \"scattergl\"}], \"scattermapbox\": [{\"marker\": {\"colorbar\": {\"outlinewidth\": 0, \"tickcolor\": \"rgb(237,237,237)\", \"ticklen\": 6, \"ticks\": \"inside\"}}, \"type\": \"scattermapbox\"}], \"scatterpolar\": [{\"marker\": {\"colorbar\": {\"outlinewidth\": 0, \"tickcolor\": \"rgb(237,237,237)\", \"ticklen\": 6, \"ticks\": \"inside\"}}, \"type\": \"scatterpolar\"}], \"scatterpolargl\": [{\"marker\": {\"colorbar\": {\"outlinewidth\": 0, \"tickcolor\": \"rgb(237,237,237)\", \"ticklen\": 6, \"ticks\": \"inside\"}}, \"type\": \"scatterpolargl\"}], \"scatterternary\": [{\"marker\": {\"colorbar\": {\"outlinewidth\": 0, \"tickcolor\": \"rgb(237,237,237)\", \"ticklen\": 6, \"ticks\": \"inside\"}}, \"type\": \"scatterternary\"}], \"surface\": [{\"colorbar\": {\"outlinewidth\": 0, \"tickcolor\": \"rgb(237,237,237)\", \"ticklen\": 6, \"ticks\": \"inside\"}, \"colorscale\": [[0, \"rgb(20,44,66)\"], [1, \"rgb(90,179,244)\"]], \"type\": \"surface\"}], \"table\": [{\"cells\": {\"fill\": {\"color\": \"rgb(237,237,237)\"}, \"line\": {\"color\": \"white\"}}, \"header\": {\"fill\": {\"color\": \"rgb(217,217,217)\"}, \"line\": {\"color\": \"white\"}}, \"type\": \"table\"}]}, \"layout\": {\"annotationdefaults\": {\"arrowhead\": 0, \"arrowwidth\": 1}, \"coloraxis\": {\"colorbar\": {\"outlinewidth\": 0, \"tickcolor\": \"rgb(237,237,237)\", \"ticklen\": 6, \"ticks\": \"inside\"}}, \"colorscale\": {\"sequential\": [[0, \"rgb(20,44,66)\"], [1, \"rgb(90,179,244)\"]], \"sequentialminus\": [[0, \"rgb(20,44,66)\"], [1, \"rgb(90,179,244)\"]]}, \"colorway\": [\"#F8766D\", \"#A3A500\", \"#00BF7D\", \"#00B0F6\", \"#E76BF3\"], \"font\": {\"color\": \"rgb(51,51,51)\"}, \"geo\": {\"bgcolor\": \"white\", \"lakecolor\": \"white\", \"landcolor\": \"rgb(237,237,237)\", \"showlakes\": true, \"showland\": true, \"subunitcolor\": \"white\"}, \"hoverlabel\": {\"align\": \"left\"}, \"hovermode\": \"closest\", \"paper_bgcolor\": \"white\", \"plot_bgcolor\": \"rgb(237,237,237)\", \"polar\": {\"angularaxis\": {\"gridcolor\": \"white\", \"linecolor\": \"white\", \"showgrid\": true, \"tickcolor\": \"rgb(51,51,51)\", \"ticks\": \"outside\"}, \"bgcolor\": \"rgb(237,237,237)\", \"radialaxis\": {\"gridcolor\": \"white\", \"linecolor\": \"white\", \"showgrid\": true, \"tickcolor\": \"rgb(51,51,51)\", \"ticks\": \"outside\"}}, \"scene\": {\"xaxis\": {\"backgroundcolor\": \"rgb(237,237,237)\", \"gridcolor\": \"white\", \"gridwidth\": 2, \"linecolor\": \"white\", \"showbackground\": true, \"showgrid\": true, \"tickcolor\": \"rgb(51,51,51)\", \"ticks\": \"outside\", \"zerolinecolor\": \"white\"}, \"yaxis\": {\"backgroundcolor\": \"rgb(237,237,237)\", \"gridcolor\": \"white\", \"gridwidth\": 2, \"linecolor\": \"white\", \"showbackground\": true, \"showgrid\": true, \"tickcolor\": \"rgb(51,51,51)\", \"ticks\": \"outside\", \"zerolinecolor\": \"white\"}, \"zaxis\": {\"backgroundcolor\": \"rgb(237,237,237)\", \"gridcolor\": \"white\", \"gridwidth\": 2, \"linecolor\": \"white\", \"showbackground\": true, \"showgrid\": true, \"tickcolor\": \"rgb(51,51,51)\", \"ticks\": \"outside\", \"zerolinecolor\": \"white\"}}, \"shapedefaults\": {\"fillcolor\": \"black\", \"line\": {\"width\": 0}, \"opacity\": 0.3}, \"ternary\": {\"aaxis\": {\"gridcolor\": \"white\", \"linecolor\": \"white\", \"showgrid\": true, \"tickcolor\": \"rgb(51,51,51)\", \"ticks\": \"outside\"}, \"baxis\": {\"gridcolor\": \"white\", \"linecolor\": \"white\", \"showgrid\": true, \"tickcolor\": \"rgb(51,51,51)\", \"ticks\": \"outside\"}, \"bgcolor\": \"rgb(237,237,237)\", \"caxis\": {\"gridcolor\": \"white\", \"linecolor\": \"white\", \"showgrid\": true, \"tickcolor\": \"rgb(51,51,51)\", \"ticks\": \"outside\"}}, \"xaxis\": {\"automargin\": true, \"gridcolor\": \"white\", \"linecolor\": \"white\", \"showgrid\": true, \"tickcolor\": \"rgb(51,51,51)\", \"ticks\": \"outside\", \"title\": {\"standoff\": 15}, \"zerolinecolor\": \"white\"}, \"yaxis\": {\"automargin\": true, \"gridcolor\": \"white\", \"linecolor\": \"white\", \"showgrid\": true, \"tickcolor\": \"rgb(51,51,51)\", \"ticks\": \"outside\", \"title\": {\"standoff\": 15}, \"zerolinecolor\": \"white\"}}}, \"title\": {\"text\": \"Predicci\\u00f3n del modelo SEAIR de la evoluci\\u00f3n de COVID-19 en Jalisco, Escenario: Moderada\"}, \"xaxis\": {\"anchor\": \"y\", \"domain\": [0.0, 1.0], \"title\": {\"text\": \"D\\u00edas\"}}, \"yaxis\": {\"anchor\": \"x\", \"domain\": [0.0, 1.0], \"title\": {\"text\": \"Casos Totales\"}}},\n",
              "                        {\"responsive\": true}\n",
              "                    ).then(function(){\n",
              "                            \n",
              "var gd = document.getElementById('a1169ce3-9b4d-4f99-8f0d-d33100616ca1');\n",
              "var x = new MutationObserver(function (mutations, observer) {{\n",
              "        var display = window.getComputedStyle(gd).display;\n",
              "        if (!display || display === 'none') {{\n",
              "            console.log([gd, 'removed!']);\n",
              "            Plotly.purge(gd);\n",
              "            observer.disconnect();\n",
              "        }}\n",
              "}});\n",
              "\n",
              "// Listen for the removal of the full notebook cells\n",
              "var notebookContainer = gd.closest('#notebook-container');\n",
              "if (notebookContainer) {{\n",
              "    x.observe(notebookContainer, {childList: true});\n",
              "}}\n",
              "\n",
              "// Listen for the clearing of the current output cell\n",
              "var outputEl = gd.closest('.output');\n",
              "if (outputEl) {{\n",
              "    x.observe(outputEl, {childList: true});\n",
              "}}\n",
              "\n",
              "                        })\n",
              "                };\n",
              "                \n",
              "            </script>\n",
              "        </div>\n",
              "</body>\n",
              "</html>"
            ]
          },
          "metadata": {
            "tags": []
          }
        }
      ]
    },
    {
      "cell_type": "markdown",
      "metadata": {
        "id": "yKk5ZxXIXhDP",
        "colab_type": "text"
      },
      "source": [
        "# Casos Graves \n",
        "\n",
        "Tomando en cuenta que de los infectados se espera el $2\\%$ grave"
      ]
    },
    {
      "cell_type": "code",
      "metadata": {
        "id": "0ijjhizeWooL",
        "colab_type": "code",
        "colab": {
          "base_uri": "https://localhost:8080/",
          "height": 542
        },
        "outputId": "f1494cfa-929f-439e-f1ad-2afd70bc936c"
      },
      "source": [
        "#@title Distintos escenarios de pacientes graves { display-mode: \"form\" }\n",
        "\n",
        "\n",
        "_,_,_,I_base,_,_, intervencion = SEAIR_D(Condiciones_Iniciales,parametros,periodo_evaluacion,\"Base\",1,120)\n",
        "_,_,_,I_opt,_,_, intervencion = SEAIR_D(Condiciones_Iniciales,parametros,periodo_evaluacion,\"Optimista\",1,120)\n",
        "_,_,_,I_pes,_,_, intervencion = SEAIR_D(Condiciones_Iniciales,parametros,periodo_evaluacion,\"Pesimista\",1,120)\n",
        "_,_,_,I_Fuerte,_,_, intervencion = SEAIR_D(Condiciones_Iniciales,parametros,periodo_evaluacion,\"Fuerte\",1,120)\n",
        "_,_,_,I_Moderada,_,_, intervencion = SEAIR_D(Condiciones_Iniciales,parametros,periodo_evaluacion,\"Moderada\",1,120)\n",
        "\n",
        "\n",
        "I_base = np.array(I_base)*Population * .02\n",
        "I_opt = np.array(I_opt)*Population * .02\n",
        "I_pes = np.array(I_pes)*Population * .02\n",
        "I_Fuerte = np.array(I_Fuerte)*Population * .02\n",
        "I_Moderada = np.array(I_Moderada)*Population * .02\n",
        "Clase = np.array([\"Graves - Pesimista\"]*np.array(I_base).shape[0] + [\"Graves - Base\"]*np.array(I_base).shape[0]+ \n",
        "                  [\"Graves - Intervencion Moderada\"]*np.array(I_base).shape[0] + \n",
        "                 [\"Graves - Interveción Fuerte\"]*np.array(I_base).shape[0]+ [\"Graves - Optimista\"]*np.array(I_base).shape[0])\n",
        "\n",
        "Dias = np.concatenate([periodo_evaluacion,periodo_evaluacion,periodo_evaluacion,periodo_evaluacion,periodo_evaluacion])\n",
        "SEIR_df = pd.DataFrame({\n",
        "    \"Casos\": np.concatenate([I_pes,I_base,I_Moderada,I_Fuerte,I_opt]),\n",
        "    \"Clase\": Clase,\n",
        "    \"Dias\" : Dias\n",
        "})\n",
        "\n",
        "fig = px.line(SEIR_df, x=\"Dias\", y=\"Casos\", color='Clase', color_discrete_sequence=px.colors.sequential.RdBu, template = \"ggplot2\")\n",
        "\n",
        "fig.update_layout(\n",
        "    title=\"Predicción del casos graves de COVID-19 en Jalisco, en distintos Escenarios\",\n",
        "    xaxis_title=\"Días\",\n",
        "    yaxis_title=\"Casos Totales\",\n",
        "    )\n",
        "\n",
        "for trace in fig.data:\n",
        "    trace.name = trace.name.split('=')[1]\n",
        "\n",
        "fig.show()"
      ],
      "execution_count": 53,
      "outputs": [
        {
          "output_type": "display_data",
          "data": {
            "text/html": [
              "<html>\n",
              "<head><meta charset=\"utf-8\" /></head>\n",
              "<body>\n",
              "    <div>\n",
              "            <script src=\"https://cdnjs.cloudflare.com/ajax/libs/mathjax/2.7.5/MathJax.js?config=TeX-AMS-MML_SVG\"></script><script type=\"text/javascript\">if (window.MathJax) {MathJax.Hub.Config({SVG: {font: \"STIX-Web\"}});}</script>\n",
              "                <script type=\"text/javascript\">window.PlotlyConfig = {MathJaxConfig: 'local'};</script>\n",
              "        <script src=\"https://cdn.plot.ly/plotly-latest.min.js\"></script>    \n",
              "            <div id=\"a87a5039-a43f-4082-b8e3-98505ed65bc3\" class=\"plotly-graph-div\" style=\"height:525px; width:100%;\"></div>\n",
              "            <script type=\"text/javascript\">\n",
              "                \n",
              "                    window.PLOTLYENV=window.PLOTLYENV || {};\n",
              "                    \n",
              "                if (document.getElementById(\"a87a5039-a43f-4082-b8e3-98505ed65bc3\")) {\n",
              "                    Plotly.newPlot(\n",
              "                        'a87a5039-a43f-4082-b8e3-98505ed65bc3',\n",
              "                        [{\"hoverlabel\": {\"namelength\": 0}, \"hovertemplate\": \"Clase=Graves - Pesimista<br>Dias=%{x}<br>Casos=%{y}\", \"legendgroup\": \"Clase=Graves - Pesimista\", \"line\": {\"color\": \"rgb(103,0,31)\", \"dash\": \"solid\"}, \"mode\": \"lines\", \"name\": \"Graves - Pesimista\", \"showlegend\": true, \"type\": \"scatter\", \"x\": [0.0, 1.0, 2.0, 3.0, 4.0, 5.0, 6.0, 7.0, 8.0, 9.0, 10.0, 11.0, 12.0, 13.0, 14.0, 15.0, 16.0, 17.0, 18.0, 19.0, 20.0, 21.0, 22.0, 23.0, 24.0, 25.0, 26.0, 27.0, 28.0, 29.0, 30.0, 31.0, 32.0, 33.0, 34.0, 35.0, 36.0, 37.0, 38.0, 39.0, 40.0, 41.0, 42.0, 43.0, 44.0, 45.0, 46.0, 47.0, 48.0, 49.0, 50.0, 51.0, 52.0, 53.0, 54.0, 55.0, 56.0, 57.0, 58.0, 59.0, 60.0, 61.0, 62.0, 63.0, 64.0, 65.0, 66.0, 67.0, 68.0, 69.0, 70.0, 71.0, 72.0, 73.0, 74.0, 75.0, 76.0, 77.0, 78.0, 79.0, 80.0, 81.0, 82.0, 83.0, 84.0, 85.0, 86.0, 87.0, 88.0, 89.0, 90.0, 91.0, 92.0, 93.0, 94.0, 95.0, 96.0, 97.0, 98.0, 99.0, 100.0, 101.0, 102.0, 103.0, 104.0, 105.0, 106.0, 107.0, 108.0, 109.0, 110.0, 111.0, 112.0, 113.0, 114.0, 115.0, 116.0, 117.0, 118.0, 119.0, 120.0], \"xaxis\": \"x\", \"y\": [0.64, 0.79744, 1.04251675872, 1.36695329414197, 1.792670190692334, 2.3509874451641672, 3.083178174897595, 4.043379376118353, 5.302578826930089, 6.953853585001261, 9.119234843946954, 11.958700191155922, 15.681948007483673, 20.563807150142917, 26.96439117514397, 35.35543534777672, 46.354674343713214, 60.770648689066995, 79.66098869156242, 104.40803212061046, 136.8165904999473, 179.23976568697813, 234.73985591962904, 307.2923989384484, 402.04191682307254, 525.6172771978165, 686.5115750981863, 895.5240561135064, 1166.2466052518384, 1515.5497934323816, 1963.9764992998862, 2535.8762588240493, 3259.0031830989565, 4163.15468085963, 5277.269989447356, 6624.3079360963375, 8213.336814941513, 10028.852474690382, 12018.690155673408, 14084.091114896786, 16077.876703127286, 17817.397197598973, 19115.322814058432, 19822.49929386392, 19867.16041657261, 19272.385485980034, 18143.76683104131, 16635.285585607853, 14910.581174546876, 13113.827815034942, 11355.203225034618, 9708.53967226358, 8216.099547910031, 6896.060489143132, 5749.9902761979765, 4769.070353069486, 3938.748652841481, 3241.9545281321875, 2661.1698147434327, 2179.6637446256786, 1782.1530302114647, 1455.0870639619768, 1186.7015246646044, 966.938266016324, 787.295671012567, 640.6498990085088, 521.0713250222514, 423.6498690580949, 344.33615688401215, 279.8012936397838, 227.31557998540276, 184.6451457860096, 149.96480769700065, 121.78520405478434, 98.89224869160239, 80.29706435693878, 65.19473825328767, 52.93044603725752, 42.971693176096586, 34.885611356322464, 28.320416943281753, 22.99028645828527, 18.663031072099315, 15.150059774375764, 12.298211253952308, 9.983109844252283, 8.103763313072946, 6.578171792848434, 5.33975951980697, 4.334475809615884, 3.5184401514813697, 2.8560295571754875, 2.318325281170207, 1.8818515023660485, 1.5275511635001175, 1.2399544260021726, 1.0065035470731405, 0.8170047755791078, 0.6631833831885647, 0.5383224332746186, 0.43696953520114884, 0.3546987928119242, 0.28791756118998263, 0.2337095791864191, 0.18970763154587633, 0.1539901825646279, 0.12499746910064602, 0.10146338991780413, 0.08236021775982912, 0.06685372024706342, 0.054266730064194545, 0.04404957377060535, 0.03575606800423068, 0.02902403492750271, 0.023559486086268375, 0.019123784030567265, 0.015523221070918572, 0.012600560090883886, 0.010228168013697395, 0.008302442068088806, 0.006739285452469576], \"yaxis\": \"y\"}, {\"hoverlabel\": {\"namelength\": 0}, \"hovertemplate\": \"Clase=Graves - Base<br>Dias=%{x}<br>Casos=%{y}\", \"legendgroup\": \"Clase=Graves - Base\", \"line\": {\"color\": \"rgb(178,24,43)\", \"dash\": \"solid\"}, \"mode\": \"lines\", \"name\": \"Graves - Base\", \"showlegend\": true, \"type\": \"scatter\", \"x\": [0.0, 1.0, 2.0, 3.0, 4.0, 5.0, 6.0, 7.0, 8.0, 9.0, 10.0, 11.0, 12.0, 13.0, 14.0, 15.0, 16.0, 17.0, 18.0, 19.0, 20.0, 21.0, 22.0, 23.0, 24.0, 25.0, 26.0, 27.0, 28.0, 29.0, 30.0, 31.0, 32.0, 33.0, 34.0, 35.0, 36.0, 37.0, 38.0, 39.0, 40.0, 41.0, 42.0, 43.0, 44.0, 45.0, 46.0, 47.0, 48.0, 49.0, 50.0, 51.0, 52.0, 53.0, 54.0, 55.0, 56.0, 57.0, 58.0, 59.0, 60.0, 61.0, 62.0, 63.0, 64.0, 65.0, 66.0, 67.0, 68.0, 69.0, 70.0, 71.0, 72.0, 73.0, 74.0, 75.0, 76.0, 77.0, 78.0, 79.0, 80.0, 81.0, 82.0, 83.0, 84.0, 85.0, 86.0, 87.0, 88.0, 89.0, 90.0, 91.0, 92.0, 93.0, 94.0, 95.0, 96.0, 97.0, 98.0, 99.0, 100.0, 101.0, 102.0, 103.0, 104.0, 105.0, 106.0, 107.0, 108.0, 109.0, 110.0, 111.0, 112.0, 113.0, 114.0, 115.0, 116.0, 117.0, 118.0, 119.0, 120.0], \"xaxis\": \"x\", \"y\": [0.64, 0.79744, 0.9900378345599999, 1.2286198962760422, 1.524614364388848, 1.8919026952884412, 2.3476646220153277, 2.9132099290583735, 3.6149779151434216, 4.485772184677374, 5.566291208514672, 6.907025982738494, 8.570612488804683, 10.634747263716086, 13.195799783844866, 16.37328651917056, 20.315409606427906, 25.205909485645602, 31.272537077970682, 38.797518807549935, 48.130468659514925, 59.70429701747564, 74.05477721726791, 91.84455747465792, 113.89254594567515, 141.20974448685305, 175.04275068223953, 216.92626699684374, 268.7460149381031, 332.8133929056353, 411.95294766771445, 509.60311138750006, 629.9294810828976, 777.9478860545868, 959.6511861652359, 1182.128623092065, 1453.6589400266982, 1783.7476781210316, 2183.064489213508, 2663.2179912558286, 3236.285009436713, 3913.9919777020673, 4706.437146302989, 5620.257524330022, 6656.205481712606, 7806.231770642381, 9050.392793785537, 10354.200263673574, 11667.341924852808, 12924.871068969327, 14051.775011263338, 14971.112368405245, 15614.699792349671, 15934.042370088056, 15908.53340153594, 15548.467251708571, 14892.058260796297, 13997.657882377427, 12933.705922009092, 11769.108829772224, 10565.917381529669, 9375.010515184911, 8234.543337600893, 7170.419937176576, 6197.956649981303, 5324.042069361679, 4549.320987183399, 3870.135835966444, 3280.1127743873717, 2771.376686982958, 2335.4314483302155, 1963.7633921410397, 1648.2294394491637, 1381.2856027142977, 1156.1021429402545, 966.6016363650326, 807.4471382178394, 674.0001008134733, 562.2617897077562, 468.80748180753125, 390.71947252811674, 325.52260659524336, 271.12444846207217, 225.76113385739868, 187.94924512967916, 156.44361745182903, 130.20072787614288, 108.3471850728717, 90.15278221492564, 75.00756962711684, 62.40242755095953, 51.91265935024779, 43.184172994287735, 35.92186819488473, 29.87989479976079, 24.8534930673726, 20.67216732186686, 17.193980871193087, 14.300791995429265, 11.894278520012653, 9.892622336316196, 8.227745623767841, 6.843007874303041, 5.6912875152296225, 4.733384334441174, 3.936689360201808, 3.2740776266447855, 2.7229866192007215, 2.2646493606839515, 1.8834562569439879, 1.5664241314305534, 1.3027544771000827, 1.083465957174005, 0.9010886906381798, 0.7494099458980956, 0.6232626053935328, 0.5183492128270291, 0.4310956211842833, 0.35852926423189724, 0.2981779103415946, 0.2479854534176193], \"yaxis\": \"y\"}, {\"hoverlabel\": {\"namelength\": 0}, \"hovertemplate\": \"Clase=Graves - Intervencion Moderada<br>Dias=%{x}<br>Casos=%{y}\", \"legendgroup\": \"Clase=Graves - Intervencion Moderada\", \"line\": {\"color\": \"rgb(214,96,77)\", \"dash\": \"solid\"}, \"mode\": \"lines\", \"name\": \"Graves - Intervencion Moderada\", \"showlegend\": true, \"type\": \"scatter\", \"x\": [0.0, 1.0, 2.0, 3.0, 4.0, 5.0, 6.0, 7.0, 8.0, 9.0, 10.0, 11.0, 12.0, 13.0, 14.0, 15.0, 16.0, 17.0, 18.0, 19.0, 20.0, 21.0, 22.0, 23.0, 24.0, 25.0, 26.0, 27.0, 28.0, 29.0, 30.0, 31.0, 32.0, 33.0, 34.0, 35.0, 36.0, 37.0, 38.0, 39.0, 40.0, 41.0, 42.0, 43.0, 44.0, 45.0, 46.0, 47.0, 48.0, 49.0, 50.0, 51.0, 52.0, 53.0, 54.0, 55.0, 56.0, 57.0, 58.0, 59.0, 60.0, 61.0, 62.0, 63.0, 64.0, 65.0, 66.0, 67.0, 68.0, 69.0, 70.0, 71.0, 72.0, 73.0, 74.0, 75.0, 76.0, 77.0, 78.0, 79.0, 80.0, 81.0, 82.0, 83.0, 84.0, 85.0, 86.0, 87.0, 88.0, 89.0, 90.0, 91.0, 92.0, 93.0, 94.0, 95.0, 96.0, 97.0, 98.0, 99.0, 100.0, 101.0, 102.0, 103.0, 104.0, 105.0, 106.0, 107.0, 108.0, 109.0, 110.0, 111.0, 112.0, 113.0, 114.0, 115.0, 116.0, 117.0, 118.0, 119.0, 120.0], \"xaxis\": \"x\", \"y\": [0.64, 0.79744, 0.9441187759199999, 1.1075779585865537, 1.2971243044447374, 1.5186225975541985, 1.7778350305740864, 2.0812648057278396, 2.4364712997067857, 2.8522914818416507, 3.3390666779824323, 3.908900802123319, 4.575960910961375, 5.356828446559318, 6.270909984843762, 7.34091756764755, 8.593430319664215, 10.059550969305254, 11.775673119496918, 13.784377688182527, 16.13547990362139, 18.88725164539022, 22.107847819324153, 25.876969894496558, 30.28780476053543, 35.449282723882135, 41.48870477661836, 48.55479624031434, 56.821251468816975, 66.49084238581582, 77.80017204332155, 91.02516279418563, 106.48737657010949, 124.56127138431336, 145.68250241960286, 170.3573763210675, 199.17356134414945, 232.81214071134036, 272.06106768119673, 317.8300327691211, 371.16667880861814, 433.27398842000684, 505.52850866875656, 589.4988540441402, 686.963623189149, 799.9274563179088, 930.6334269271138, 1081.569282603085, 1255.4642111091193, 1455.2718096151166, 1684.1338040276205, 1945.3178741962224, 2242.121831127511, 2577.735605145999, 2955.0524100456596, 3376.4215711835586, 3843.338518747297, 4356.07311971211, 4913.246573890179, 5511.379936114537, 6144.453629218137, 6803.535526539843, 7476.552040030157, 8148.286995134263, 8800.690374961894, 9413.556917526063, 9965.589513893203, 10435.796811008742, 10805.099022971606, 11057.949096472485, 11183.739722989263, 11177.777302142596, 11041.666116515393, 10783.047101943428, 10414.749363491866, 9953.5084979292, 9418.460631474687, 8829.62660317629, 8206.56420794431, 7567.305163323872, 6927.6268908942775, 6300.652439699661, 5696.732908854465, 5123.546801800434, 4586.346642612503, 4088.2897784916663, 3630.8025030043636, 3213.9404845819904, 2836.7214021990426, 2497.416354812846, 2193.7946136578234, 1923.3217740368725, 1683.3147561216722, 1471.058904415149, 1283.8931164049764, 1119.268886487335, 974.788682091414, 848.2283887961768, 737.5478120344792, 640.8924919976981, 556.5894238269872, 483.1386990718641, 419.2026020692994, 363.59330199543956, 315.2599684893378, 273.27589454821333, 236.8260232529068, 205.1951340156388, 177.7568399552408, 153.96347264864485, 133.33687724573326, 115.46010441476014, 99.96996156563397, 86.55037096762291, 74.92647418703005, 64.85941878021292, 56.14176293125787, 48.59343564059113, 42.05819335903834, 36.400518049971936, 31.50290614509219], \"yaxis\": \"y\"}, {\"hoverlabel\": {\"namelength\": 0}, \"hovertemplate\": \"Clase=Graves - Interveci\\u00f3n Fuerte<br>Dias=%{x}<br>Casos=%{y}\", \"legendgroup\": \"Clase=Graves - Interveci\\u00f3n Fuerte\", \"line\": {\"color\": \"rgb(244,165,130)\", \"dash\": \"solid\"}, \"mode\": \"lines\", \"name\": \"Graves - Interveci\\u00f3n Fuerte\", \"showlegend\": true, \"type\": \"scatter\", \"x\": [0.0, 1.0, 2.0, 3.0, 4.0, 5.0, 6.0, 7.0, 8.0, 9.0, 10.0, 11.0, 12.0, 13.0, 14.0, 15.0, 16.0, 17.0, 18.0, 19.0, 20.0, 21.0, 22.0, 23.0, 24.0, 25.0, 26.0, 27.0, 28.0, 29.0, 30.0, 31.0, 32.0, 33.0, 34.0, 35.0, 36.0, 37.0, 38.0, 39.0, 40.0, 41.0, 42.0, 43.0, 44.0, 45.0, 46.0, 47.0, 48.0, 49.0, 50.0, 51.0, 52.0, 53.0, 54.0, 55.0, 56.0, 57.0, 58.0, 59.0, 60.0, 61.0, 62.0, 63.0, 64.0, 65.0, 66.0, 67.0, 68.0, 69.0, 70.0, 71.0, 72.0, 73.0, 74.0, 75.0, 76.0, 77.0, 78.0, 79.0, 80.0, 81.0, 82.0, 83.0, 84.0, 85.0, 86.0, 87.0, 88.0, 89.0, 90.0, 91.0, 92.0, 93.0, 94.0, 95.0, 96.0, 97.0, 98.0, 99.0, 100.0, 101.0, 102.0, 103.0, 104.0, 105.0, 106.0, 107.0, 108.0, 109.0, 110.0, 111.0, 112.0, 113.0, 114.0, 115.0, 116.0, 117.0, 118.0, 119.0, 120.0], \"xaxis\": \"x\", \"y\": [0.64, 0.79744, 0.89819971728, 0.9865358206440504, 1.0762225280951354, 1.171867586622746, 1.2753508731740875, 1.3877717193375363, 1.5100406014537224, 1.6430618886189077, 1.7877934890363438, 1.9452697230673874, 2.1166135202116236, 2.303045856025262, 2.505894859128542, 2.7266053656723783, 2.9667492033729808, 3.2280363417322797, 3.5123270054988804, 3.821644841194997, 4.1581912294459595, 4.524360842226663, 4.922758551996566, 5.356217808460278, 5.827820608221524, 6.340919192881175, 6.89915962219171, 7.50650738075901, 8.167275189518966, 8.886153206851825, 9.668241818769845, 10.519087233158507, 11.4447201095974, 12.451697473855718, 13.54714818476068, 14.738822240774244, 16.03514423426618, 17.445271283101825, 18.979155791705992, 20.647613417124248, 22.462396639643195, 24.43627436206816, 26.58311798654806, 28.917994442569057, 31.45726666401429, 34.21870203650558, 37.22158935798468, 40.486864874890664, 44.03724797241066, 47.89738710898621, 52.09401659117231, 56.65612478341901, 61.61513433639955, 67.00509499479261, 72.8628895081487, 79.22845311334012, 86.14500698024294, 93.65930590919663, 101.8219004341644, 110.68741331325465, 120.31483017131312, 130.76780378955817, 142.1149712054802, 154.4302823819925, 167.79333871633935, 182.28973907339872, 198.01143033025693, 215.057058593431, 233.53231627979625, 253.5502791190761, 275.231725820937, 298.7054316344883, 324.108425294145, 351.5861968769456, 381.2928418792382, 413.39112434689184, 448.0524391619979, 485.4566506099304, 525.7917811472954, 569.25352090594, 616.0445249669403, 666.3734619174625, 720.4537737956424, 778.5021044115989, 840.7363504360194, 907.3732878608675, 978.6257258154901, 1054.6991406926452, 1135.7877466019763, 1222.0699638908366, 1313.7032564788972, 1410.8183217044323, 1513.512633939471, 1621.843366014168, 1735.8197409998213, 1855.3949014372292, 1980.4574236599, 2110.8226510218005, 2246.2240706122057, 2386.3050117556927, 2530.610998785662, 2678.5831419070887, 2829.552994212972, 2982.7393350837124, 3137.2473546946776, 3292.0707053773986, 3446.0968476063795, 3598.116046844693, 3746.834269513599, 3890.890081595746, 4028.8754747125618, 4159.3603385731085, 4280.920076071839, 4392.165632307985, 4491.774998584592, 4578.525075714608, 4651.3226560910625, 4709.233226901909, 4751.5063189394095, 4777.596231609887, 4787.1771523262605], \"yaxis\": \"y\"}, {\"hoverlabel\": {\"namelength\": 0}, \"hovertemplate\": \"Clase=Graves - Optimista<br>Dias=%{x}<br>Casos=%{y}\", \"legendgroup\": \"Clase=Graves - Optimista\", \"line\": {\"color\": \"rgb(253,219,199)\", \"dash\": \"solid\"}, \"mode\": \"lines\", \"name\": \"Graves - Optimista\", \"showlegend\": true, \"type\": \"scatter\", \"x\": [0.0, 1.0, 2.0, 3.0, 4.0, 5.0, 6.0, 7.0, 8.0, 9.0, 10.0, 11.0, 12.0, 13.0, 14.0, 15.0, 16.0, 17.0, 18.0, 19.0, 20.0, 21.0, 22.0, 23.0, 24.0, 25.0, 26.0, 27.0, 28.0, 29.0, 30.0, 31.0, 32.0, 33.0, 34.0, 35.0, 36.0, 37.0, 38.0, 39.0, 40.0, 41.0, 42.0, 43.0, 44.0, 45.0, 46.0, 47.0, 48.0, 49.0, 50.0, 51.0, 52.0, 53.0, 54.0, 55.0, 56.0, 57.0, 58.0, 59.0, 60.0, 61.0, 62.0, 63.0, 64.0, 65.0, 66.0, 67.0, 68.0, 69.0, 70.0, 71.0, 72.0, 73.0, 74.0, 75.0, 76.0, 77.0, 78.0, 79.0, 80.0, 81.0, 82.0, 83.0, 84.0, 85.0, 86.0, 87.0, 88.0, 89.0, 90.0, 91.0, 92.0, 93.0, 94.0, 95.0, 96.0, 97.0, 98.0, 99.0, 100.0, 101.0, 102.0, 103.0, 104.0, 105.0, 106.0, 107.0, 108.0, 109.0, 110.0, 111.0, 112.0, 113.0, 114.0, 115.0, 116.0, 117.0, 118.0, 119.0, 120.0], \"xaxis\": \"x\", \"y\": [0.64, 0.79744, 0.8850799862400001, 0.9519523158793124, 1.0143178386302765, 1.0776667623988219, 1.1439554015310425, 1.2139869259836675, 1.2881949680989826, 1.3669019506803002, 1.4504046824997823, 1.5390031786571456, 1.6330108474699105, 1.732758591469911, 1.8385969520952399, 1.9508976590623641, 2.070055034940283, 2.196487406155591, 2.3306385733937507, 2.4729793622289016, 2.6240092644428756, 2.7842581772906936, 2.9542882471352736, 3.134695823830347, 3.326113532459028, 3.529212469366111, 3.744704529799481, 3.9733448748822746, 4.215934546067308, 4.473323235677417, 4.746412222609854, 5.036157482780056, 5.343572984400612, 5.66973417873545, 6.015781697537782, 6.382925268973325, 6.772447864448219, 7.185710089403858, 7.624154831808499, 8.089312182767857, 8.582804644393324, 9.106352640806275, 9.661780348919166, 10.251021866417092, 10.876127735165717, 11.539271839090167, 12.242758696402207, 12.989031166895764, 13.780678595879774, 14.620445417166879, 15.511240238380973, 16.45614543267849, 17.458427261789556, 18.521546556065523, 19.649169977957904, 20.845181896037058, 22.11369689727176, 23.459072965816027, 24.885925356966723, 26.399141195242496, 28.0038948256645, 29.70566394726394, 31.510246557565893, 33.42377873626644, 35.452753295487575, 37.604039322813556, 39.88490264172995, 42.303027212040796, 44.866537490264, 47.584021766822644, 50.46455649297812, 53.51773160579415, 56.75367685387651, 60.183089120086116, 63.81726072974537, 67.66810872391217, 71.74820506692616, 76.0708077454739, 80.64989270268795, 85.50018653509393, 90.63719986233285, 96.07726125928434, 101.83755161725094, 107.93613877497422, 114.39201223115587, 121.22511771756565, 128.45639137542102, 136.10779323721272, 144.2023396712014, 152.76413439610573, 161.81839761872706, 171.39149278710576, 181.5109503860062, 192.20548812983543, 203.50502683032485, 215.4407011323181, 228.04486422077937, 241.35108550573645, 255.39414018952417, 270.20998951278494, 285.8357503628181, 302.3096528109049, 319.6709840253265, 337.96001688544794, 357.2179215013802, 377.48665772574054, 398.8088466318346, 421.2276188296958, 444.78643740203194, 469.5288931711526, 495.498469961085, 522.7382775028565, 551.2907496527207, 581.1973056611855, 612.4979723541776, 645.2309652764432, 679.432227111912, 715.1349220473437, 752.3688851954932, 791.1600267536004, 831.5296912531173], \"yaxis\": \"y\"}],\n",
              "                        {\"legend\": {\"tracegroupgap\": 0}, \"margin\": {\"t\": 60}, \"template\": {\"data\": {\"bar\": [{\"error_x\": {\"color\": \"rgb(51,51,51)\"}, \"error_y\": {\"color\": \"rgb(51,51,51)\"}, \"marker\": {\"line\": {\"color\": \"rgb(237,237,237)\", \"width\": 0.5}}, \"type\": \"bar\"}], \"barpolar\": [{\"marker\": {\"line\": {\"color\": \"rgb(237,237,237)\", \"width\": 0.5}}, \"type\": \"barpolar\"}], \"carpet\": [{\"aaxis\": {\"endlinecolor\": \"rgb(51,51,51)\", \"gridcolor\": \"white\", \"linecolor\": \"white\", \"minorgridcolor\": \"white\", \"startlinecolor\": \"rgb(51,51,51)\"}, \"baxis\": {\"endlinecolor\": \"rgb(51,51,51)\", \"gridcolor\": \"white\", \"linecolor\": \"white\", \"minorgridcolor\": \"white\", \"startlinecolor\": \"rgb(51,51,51)\"}, \"type\": \"carpet\"}], \"choropleth\": [{\"colorbar\": {\"outlinewidth\": 0, \"tickcolor\": \"rgb(237,237,237)\", \"ticklen\": 6, \"ticks\": \"inside\"}, \"type\": \"choropleth\"}], \"contour\": [{\"colorbar\": {\"outlinewidth\": 0, \"tickcolor\": \"rgb(237,237,237)\", \"ticklen\": 6, \"ticks\": \"inside\"}, \"colorscale\": [[0, \"rgb(20,44,66)\"], [1, \"rgb(90,179,244)\"]], \"type\": \"contour\"}], \"contourcarpet\": [{\"colorbar\": {\"outlinewidth\": 0, \"tickcolor\": \"rgb(237,237,237)\", \"ticklen\": 6, \"ticks\": \"inside\"}, \"type\": \"contourcarpet\"}], \"heatmap\": [{\"colorbar\": {\"outlinewidth\": 0, \"tickcolor\": \"rgb(237,237,237)\", \"ticklen\": 6, \"ticks\": \"inside\"}, \"colorscale\": [[0, \"rgb(20,44,66)\"], [1, \"rgb(90,179,244)\"]], \"type\": \"heatmap\"}], \"heatmapgl\": [{\"colorbar\": {\"outlinewidth\": 0, \"tickcolor\": \"rgb(237,237,237)\", \"ticklen\": 6, \"ticks\": \"inside\"}, \"colorscale\": [[0, \"rgb(20,44,66)\"], [1, \"rgb(90,179,244)\"]], \"type\": \"heatmapgl\"}], \"histogram\": [{\"marker\": {\"colorbar\": {\"outlinewidth\": 0, \"tickcolor\": \"rgb(237,237,237)\", \"ticklen\": 6, \"ticks\": \"inside\"}}, \"type\": \"histogram\"}], \"histogram2d\": [{\"colorbar\": {\"outlinewidth\": 0, \"tickcolor\": \"rgb(237,237,237)\", \"ticklen\": 6, \"ticks\": \"inside\"}, \"colorscale\": [[0, \"rgb(20,44,66)\"], [1, \"rgb(90,179,244)\"]], \"type\": \"histogram2d\"}], \"histogram2dcontour\": [{\"colorbar\": {\"outlinewidth\": 0, \"tickcolor\": \"rgb(237,237,237)\", \"ticklen\": 6, \"ticks\": \"inside\"}, \"colorscale\": [[0, \"rgb(20,44,66)\"], [1, \"rgb(90,179,244)\"]], \"type\": \"histogram2dcontour\"}], \"mesh3d\": [{\"colorbar\": {\"outlinewidth\": 0, \"tickcolor\": \"rgb(237,237,237)\", \"ticklen\": 6, \"ticks\": \"inside\"}, \"type\": \"mesh3d\"}], \"parcoords\": [{\"line\": {\"colorbar\": {\"outlinewidth\": 0, \"tickcolor\": \"rgb(237,237,237)\", \"ticklen\": 6, \"ticks\": \"inside\"}}, \"type\": \"parcoords\"}], \"pie\": [{\"automargin\": true, \"type\": \"pie\"}], \"scatter\": [{\"marker\": {\"colorbar\": {\"outlinewidth\": 0, \"tickcolor\": \"rgb(237,237,237)\", \"ticklen\": 6, \"ticks\": \"inside\"}}, \"type\": \"scatter\"}], \"scatter3d\": [{\"line\": {\"colorbar\": {\"outlinewidth\": 0, \"tickcolor\": \"rgb(237,237,237)\", \"ticklen\": 6, \"ticks\": \"inside\"}}, \"marker\": {\"colorbar\": {\"outlinewidth\": 0, \"tickcolor\": \"rgb(237,237,237)\", \"ticklen\": 6, \"ticks\": \"inside\"}}, \"type\": \"scatter3d\"}], \"scattercarpet\": [{\"marker\": {\"colorbar\": {\"outlinewidth\": 0, \"tickcolor\": \"rgb(237,237,237)\", \"ticklen\": 6, \"ticks\": \"inside\"}}, \"type\": \"scattercarpet\"}], \"scattergeo\": [{\"marker\": {\"colorbar\": {\"outlinewidth\": 0, \"tickcolor\": \"rgb(237,237,237)\", \"ticklen\": 6, \"ticks\": \"inside\"}}, \"type\": \"scattergeo\"}], \"scattergl\": [{\"marker\": {\"colorbar\": {\"outlinewidth\": 0, \"tickcolor\": \"rgb(237,237,237)\", \"ticklen\": 6, \"ticks\": \"inside\"}}, \"type\": \"scattergl\"}], \"scattermapbox\": [{\"marker\": {\"colorbar\": {\"outlinewidth\": 0, \"tickcolor\": \"rgb(237,237,237)\", \"ticklen\": 6, \"ticks\": \"inside\"}}, \"type\": \"scattermapbox\"}], \"scatterpolar\": [{\"marker\": {\"colorbar\": {\"outlinewidth\": 0, \"tickcolor\": \"rgb(237,237,237)\", \"ticklen\": 6, \"ticks\": \"inside\"}}, \"type\": \"scatterpolar\"}], \"scatterpolargl\": [{\"marker\": {\"colorbar\": {\"outlinewidth\": 0, \"tickcolor\": \"rgb(237,237,237)\", \"ticklen\": 6, \"ticks\": \"inside\"}}, \"type\": \"scatterpolargl\"}], \"scatterternary\": [{\"marker\": {\"colorbar\": {\"outlinewidth\": 0, \"tickcolor\": \"rgb(237,237,237)\", \"ticklen\": 6, \"ticks\": \"inside\"}}, \"type\": \"scatterternary\"}], \"surface\": [{\"colorbar\": {\"outlinewidth\": 0, \"tickcolor\": \"rgb(237,237,237)\", \"ticklen\": 6, \"ticks\": \"inside\"}, \"colorscale\": [[0, \"rgb(20,44,66)\"], [1, \"rgb(90,179,244)\"]], \"type\": \"surface\"}], \"table\": [{\"cells\": {\"fill\": {\"color\": \"rgb(237,237,237)\"}, \"line\": {\"color\": \"white\"}}, \"header\": {\"fill\": {\"color\": \"rgb(217,217,217)\"}, \"line\": {\"color\": \"white\"}}, \"type\": \"table\"}]}, \"layout\": {\"annotationdefaults\": {\"arrowhead\": 0, \"arrowwidth\": 1}, \"coloraxis\": {\"colorbar\": {\"outlinewidth\": 0, \"tickcolor\": \"rgb(237,237,237)\", \"ticklen\": 6, \"ticks\": \"inside\"}}, \"colorscale\": {\"sequential\": [[0, \"rgb(20,44,66)\"], [1, \"rgb(90,179,244)\"]], \"sequentialminus\": [[0, \"rgb(20,44,66)\"], [1, \"rgb(90,179,244)\"]]}, \"colorway\": [\"#F8766D\", \"#A3A500\", \"#00BF7D\", \"#00B0F6\", \"#E76BF3\"], \"font\": {\"color\": \"rgb(51,51,51)\"}, \"geo\": {\"bgcolor\": \"white\", \"lakecolor\": \"white\", \"landcolor\": \"rgb(237,237,237)\", \"showlakes\": true, \"showland\": true, \"subunitcolor\": \"white\"}, \"hoverlabel\": {\"align\": \"left\"}, \"hovermode\": \"closest\", \"paper_bgcolor\": \"white\", \"plot_bgcolor\": \"rgb(237,237,237)\", \"polar\": {\"angularaxis\": {\"gridcolor\": \"white\", \"linecolor\": \"white\", \"showgrid\": true, \"tickcolor\": \"rgb(51,51,51)\", \"ticks\": \"outside\"}, \"bgcolor\": \"rgb(237,237,237)\", \"radialaxis\": {\"gridcolor\": \"white\", \"linecolor\": \"white\", \"showgrid\": true, \"tickcolor\": \"rgb(51,51,51)\", \"ticks\": \"outside\"}}, \"scene\": {\"xaxis\": {\"backgroundcolor\": \"rgb(237,237,237)\", \"gridcolor\": \"white\", \"gridwidth\": 2, \"linecolor\": \"white\", \"showbackground\": true, \"showgrid\": true, \"tickcolor\": \"rgb(51,51,51)\", \"ticks\": \"outside\", \"zerolinecolor\": \"white\"}, \"yaxis\": {\"backgroundcolor\": \"rgb(237,237,237)\", \"gridcolor\": \"white\", \"gridwidth\": 2, \"linecolor\": \"white\", \"showbackground\": true, \"showgrid\": true, \"tickcolor\": \"rgb(51,51,51)\", \"ticks\": \"outside\", \"zerolinecolor\": \"white\"}, \"zaxis\": {\"backgroundcolor\": \"rgb(237,237,237)\", \"gridcolor\": \"white\", \"gridwidth\": 2, \"linecolor\": \"white\", \"showbackground\": true, \"showgrid\": true, \"tickcolor\": \"rgb(51,51,51)\", \"ticks\": \"outside\", \"zerolinecolor\": \"white\"}}, \"shapedefaults\": {\"fillcolor\": \"black\", \"line\": {\"width\": 0}, \"opacity\": 0.3}, \"ternary\": {\"aaxis\": {\"gridcolor\": \"white\", \"linecolor\": \"white\", \"showgrid\": true, \"tickcolor\": \"rgb(51,51,51)\", \"ticks\": \"outside\"}, \"baxis\": {\"gridcolor\": \"white\", \"linecolor\": \"white\", \"showgrid\": true, \"tickcolor\": \"rgb(51,51,51)\", \"ticks\": \"outside\"}, \"bgcolor\": \"rgb(237,237,237)\", \"caxis\": {\"gridcolor\": \"white\", \"linecolor\": \"white\", \"showgrid\": true, \"tickcolor\": \"rgb(51,51,51)\", \"ticks\": \"outside\"}}, \"xaxis\": {\"automargin\": true, \"gridcolor\": \"white\", \"linecolor\": \"white\", \"showgrid\": true, \"tickcolor\": \"rgb(51,51,51)\", \"ticks\": \"outside\", \"title\": {\"standoff\": 15}, \"zerolinecolor\": \"white\"}, \"yaxis\": {\"automargin\": true, \"gridcolor\": \"white\", \"linecolor\": \"white\", \"showgrid\": true, \"tickcolor\": \"rgb(51,51,51)\", \"ticks\": \"outside\", \"title\": {\"standoff\": 15}, \"zerolinecolor\": \"white\"}}}, \"title\": {\"text\": \"Predicci\\u00f3n del casos graves de COVID-19 en Jalisco, en distintos Escenarios\"}, \"xaxis\": {\"anchor\": \"y\", \"domain\": [0.0, 1.0], \"title\": {\"text\": \"D\\u00edas\"}}, \"yaxis\": {\"anchor\": \"x\", \"domain\": [0.0, 1.0], \"title\": {\"text\": \"Casos Totales\"}}},\n",
              "                        {\"responsive\": true}\n",
              "                    ).then(function(){\n",
              "                            \n",
              "var gd = document.getElementById('a87a5039-a43f-4082-b8e3-98505ed65bc3');\n",
              "var x = new MutationObserver(function (mutations, observer) {{\n",
              "        var display = window.getComputedStyle(gd).display;\n",
              "        if (!display || display === 'none') {{\n",
              "            console.log([gd, 'removed!']);\n",
              "            Plotly.purge(gd);\n",
              "            observer.disconnect();\n",
              "        }}\n",
              "}});\n",
              "\n",
              "// Listen for the removal of the full notebook cells\n",
              "var notebookContainer = gd.closest('#notebook-container');\n",
              "if (notebookContainer) {{\n",
              "    x.observe(notebookContainer, {childList: true});\n",
              "}}\n",
              "\n",
              "// Listen for the clearing of the current output cell\n",
              "var outputEl = gd.closest('.output');\n",
              "if (outputEl) {{\n",
              "    x.observe(outputEl, {childList: true});\n",
              "}}\n",
              "\n",
              "                        })\n",
              "                };\n",
              "                \n",
              "            </script>\n",
              "        </div>\n",
              "</body>\n",
              "</html>"
            ]
          },
          "metadata": {
            "tags": []
          }
        }
      ]
    },
    {
      "cell_type": "code",
      "metadata": {
        "id": "nFqpQP0badmK",
        "colab_type": "code",
        "colab": {
          "base_uri": "https://localhost:8080/",
          "height": 55
        },
        "outputId": "3d7caf44-6126-4132-f115-d2f67c2684fc"
      },
      "source": [
        "print(px.colors.sequential.RdBu)"
      ],
      "execution_count": 52,
      "outputs": [
        {
          "output_type": "stream",
          "text": [
            "['rgb(103,0,31)', 'rgb(178,24,43)', 'rgb(214,96,77)', 'rgb(244,165,130)', 'rgb(253,219,199)', 'rgb(247,247,247)', 'rgb(209,229,240)', 'rgb(146,197,222)', 'rgb(67,147,195)', 'rgb(33,102,172)', 'rgb(5,48,97)']\n"
          ],
          "name": "stdout"
        }
      ]
    },
    {
      "cell_type": "code",
      "metadata": {
        "id": "3GW32eO5bFUs",
        "colab_type": "code",
        "colab": {}
      },
      "source": [
        ""
      ],
      "execution_count": 0,
      "outputs": []
    }
  ]
}